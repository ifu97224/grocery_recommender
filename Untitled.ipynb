{
 "cells": [
  {
   "cell_type": "code",
   "execution_count": 1,
   "metadata": {},
   "outputs": [],
   "source": [
    "!git add ."
   ]
  },
  {
   "cell_type": "code",
   "execution_count": 2,
   "metadata": {},
   "outputs": [
    {
     "name": "stdout",
     "output_type": "stream",
     "text": [
      "[master 32f1802] Added Feature Engineering and create train test set code\n",
      " Committer: EC2 Default User <ec2-user@ip-172-16-73-227.us-east-2.compute.internal>\n",
      "Your name and email address were configured automatically based\n",
      "on your username and hostname. Please check that they are accurate.\n",
      "You can suppress this message by setting them explicitly:\n",
      "\n",
      "    git config --global user.name \"Your Name\"\n",
      "    git config --global user.email you@example.com\n",
      "\n",
      "After doing this, you may fix the identity used for this commit with:\n",
      "\n",
      "    git commit --amend --reset-author\n",
      "\n",
      " 25 files changed, 49592 insertions(+), 15605 deletions(-)\n",
      " create mode 100644 .ipynb_checkpoints/Untitled-checkpoint.ipynb\n",
      " create mode 100644 Grocery_Recommender/Create Target Dataframe/.ipynb_checkpoints/Run create sample dataframe for modelling-checkpoint.ipynb\n",
      " create mode 100644 Grocery_Recommender/Create Target Dataframe/Run create sample dataframe for modelling.ipynb\n",
      " create mode 100644 Grocery_Recommender/Create Target Dataframe/__init__.py\n",
      " create mode 100644 Grocery_Recommender/Create Target Dataframe/__pycache__/create_train_test_dataframes.cpython-36.pyc\n",
      " create mode 100644 Grocery_Recommender/Create Target Dataframe/create_train_test_dataframes.py\n",
      " create mode 100644 Grocery_Recommender/Feature Engineering/.ipynb_checkpoints/Run Feature Engineering-checkpoint.ipynb\n",
      " create mode 100644 Grocery_Recommender/Feature Engineering/Run Feature Engineering.ipynb\n",
      " create mode 100644 Grocery_Recommender/Feature Engineering/__init__.py\n",
      " create mode 100644 Grocery_Recommender/Feature Engineering/__pycache__/create_features.cpython-36.pyc\n",
      " create mode 100644 Grocery_Recommender/Feature Engineering/create_features.py\n",
      " create mode 100644 Grocery_Recommender/Import Data/.ipynb_checkpoints/Run_Import_Data_Functions-checkpoint.ipynb\n",
      " create mode 100644 Grocery_Recommender/Import Data/__init__.py\n",
      " create mode 100644 Grocery_Recommender/Run ALS/.ipynb_checkpoints/Run_ALS-checkpoint.ipynb\n",
      " rewrite Grocery_Recommender/Run ALS/Run_ALS.ipynb (87%)\n",
      " create mode 100644 Grocery_Recommender/Run ALS/__initi__.py\n",
      " create mode 100644 Grocery_Recommender/Run ALS/data_prep/__pycache__/prep_data_for_ALS.cpython-36.pyc\n",
      " delete mode 100644 Grocery_Recommender/Run ALS/results/als_trials.csv\n",
      " delete mode 100644 Grocery_Recommender/Run ALS/results/bayes_params.csv\n",
      " delete mode 100644 Grocery_Recommender/Run ALS/results/item_factors.csv\n",
      " delete mode 100644 Grocery_Recommender/Run ALS/results/user_factros.csv\n",
      " create mode 100644 Grocery_Recommender/Run ALS/train/__pycache__/model.cpython-36.pyc\n",
      " create mode 100644 Untitled.ipynb\n"
     ]
    }
   ],
   "source": [
    "!git commit -m \"Added Feature Engineering and create train test set code\""
   ]
  },
  {
   "cell_type": "code",
   "execution_count": 3,
   "metadata": {},
   "outputs": [
    {
     "name": "stdout",
     "output_type": "stream",
     "text": [
      "Counting objects: 37, done.\n",
      "Delta compression using up to 2 threads.\n",
      "Compressing objects: 100% (35/35), done.\n",
      "Writing objects: 100% (37/37), 550.72 KiB | 5.80 MiB/s, done.\n",
      "Total 37 (delta 6), reused 0 (delta 0)\n",
      "remote: Resolving deltas: 100% (6/6), completed with 2 local objects.\u001b[K\n",
      "To https://github.com/ifu97224/grocery_recommender/\n",
      "   bad7e0c..32f1802  master -> master\n"
     ]
    }
   ],
   "source": [
    "!git push origin master"
   ]
  },
  {
   "cell_type": "code",
   "execution_count": null,
   "metadata": {},
   "outputs": [],
   "source": []
  }
 ],
 "metadata": {
  "kernelspec": {
   "display_name": "conda_python3",
   "language": "python",
   "name": "conda_python3"
  },
  "language_info": {
   "codemirror_mode": {
    "name": "ipython",
    "version": 3
   },
   "file_extension": ".py",
   "mimetype": "text/x-python",
   "name": "python",
   "nbconvert_exporter": "python",
   "pygments_lexer": "ipython3",
   "version": "3.6.5"
  }
 },
 "nbformat": 4,
 "nbformat_minor": 2
}
