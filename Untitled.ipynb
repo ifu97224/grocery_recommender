{
 "cells": [
  {
   "cell_type": "code",
   "execution_count": 1,
   "metadata": {},
   "outputs": [],
   "source": [
    "!git add ."
   ]
  },
  {
   "cell_type": "code",
   "execution_count": 2,
   "metadata": {},
   "outputs": [
    {
     "name": "stdout",
     "output_type": "stream",
     "text": [
      "[master b0d6224] Added Feature Engineering and create train test set code\n",
      " Committer: EC2 Default User <ec2-user@ip-172-16-25-112.us-east-2.compute.internal>\n",
      "Your name and email address were configured automatically based\n",
      "on your username and hostname. Please check that they are accurate.\n",
      "You can suppress this message by setting them explicitly:\n",
      "\n",
      "    git config --global user.name \"Your Name\"\n",
      "    git config --global user.email you@example.com\n",
      "\n",
      "After doing this, you may fix the identity used for this commit with:\n",
      "\n",
      "    git commit --amend --reset-author\n",
      "\n",
      " 26 files changed, 58359 insertions(+), 6198 deletions(-)\n",
      " rewrite Grocery_Recommender/Feature Engineering/__pycache__/create_features.cpython-36.pyc (78%)\n",
      " create mode 100644 Grocery_Recommender/Feature Importance and EDA/.ipynb_checkpoints/Run_variable_selection_and_EDA-checkpoint.ipynb\n",
      " create mode 100644 Grocery_Recommender/Feature Importance and EDA/FeatureProfiler/FeatureProfiler.py\n",
      " rename Grocery_Recommender/{Run ALS/__initi__.py => Feature Importance and EDA/FeatureProfiler/__init__.py} (100%)\n",
      " create mode 100644 Grocery_Recommender/Feature Importance and EDA/FeatureProfiler/__pycache__/FeatureProfiler.cpython-36.pyc\n",
      " create mode 100644 Grocery_Recommender/Feature Importance and EDA/Run_variable_selection_and_EDA.ipynb\n",
      " create mode 100644 Grocery_Recommender/Feature Importance and EDA/VarSelection/SBS.py\n",
      " create mode 100644 Grocery_Recommender/Feature Importance and EDA/VarSelection/VarSelection.py\n",
      " create mode 100644 Grocery_Recommender/Feature Importance and EDA/VarSelection/__init__.py\n",
      " create mode 100644 Grocery_Recommender/Feature Importance and EDA/VarSelection/__pycache__/SBS.cpython-36.pyc\n",
      " create mode 100644 Grocery_Recommender/Feature Importance and EDA/VarSelection/__pycache__/VarSelection.cpython-36.pyc\n",
      " create mode 100644 Grocery_Recommender/Feature Importance and EDA/VarSelection/__pycache__/__init__.cpython-36.pyc\n",
      " create mode 100644 Grocery_Recommender/Feature Importance and EDA/VarSelection/__pycache__/timing.cpython-36.pyc\n",
      " create mode 100644 Grocery_Recommender/Feature Importance and EDA/VarSelection/timing.py\n",
      " create mode 100644 Grocery_Recommender/Feature Importance and EDA/__init__.py\n",
      " create mode 100644 Grocery_Recommender/Run ALS/__init__.py\n",
      " create mode 100644 Grocery_Recommender/Run ALS/data_prep/__init__.py\n",
      " create mode 100644 Grocery_Recommender/Run ALS/train/__init__.py\n"
     ]
    }
   ],
   "source": [
    "!git commit -m \"Added Feature Engineering and create train test set code\""
   ]
  },
  {
   "cell_type": "code",
   "execution_count": 3,
   "metadata": {},
   "outputs": [
    {
     "name": "stdout",
     "output_type": "stream",
     "text": [
      "Counting objects: 38, done.\n",
      "Delta compression using up to 2 threads.\n",
      "Compressing objects: 100% (37/37), done.\n",
      "Writing objects: 100% (38/38), 2.17 MiB | 3.03 MiB/s, done.\n",
      "Total 38 (delta 12), reused 0 (delta 0)\n",
      "remote: Resolving deltas: 100% (12/12), completed with 11 local objects.\u001b[K\n",
      "To https://github.com/ifu97224/grocery_recommender/\n",
      "   32f1802..b0d6224  master -> master\n"
     ]
    }
   ],
   "source": [
    "!git push origin master"
   ]
  },
  {
   "cell_type": "code",
   "execution_count": null,
   "metadata": {},
   "outputs": [],
   "source": []
  }
 ],
 "metadata": {
  "kernelspec": {
   "display_name": "conda_python3",
   "language": "python",
   "name": "conda_python3"
  },
  "language_info": {
   "codemirror_mode": {
    "name": "ipython",
    "version": 3
   },
   "file_extension": ".py",
   "mimetype": "text/x-python",
   "name": "python",
   "nbconvert_exporter": "python",
   "pygments_lexer": "ipython3",
   "version": "3.6.5"
  }
 },
 "nbformat": 4,
 "nbformat_minor": 2
}
