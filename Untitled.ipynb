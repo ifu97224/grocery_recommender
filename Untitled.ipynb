{
 "cells": [
  {
   "cell_type": "code",
   "execution_count": 1,
   "metadata": {},
   "outputs": [],
   "source": [
    "!git add ."
   ]
  },
  {
   "cell_type": "code",
   "execution_count": 2,
   "metadata": {},
   "outputs": [
    {
     "name": "stdout",
     "output_type": "stream",
     "text": [
      "[master e7cf08d] Added rf, logistic and XGBoost models\r\n",
      " Committer: EC2 Default User <ec2-user@ip-172-16-65-50.us-east-2.compute.internal>\r\n",
      "Your name and email address were configured automatically based\r\n",
      "on your username and hostname. Please check that they are accurate.\r\n",
      "You can suppress this message by setting them explicitly:\r\n",
      "\r\n",
      "    git config --global user.name \"Your Name\"\r\n",
      "    git config --global user.email you@example.com\r\n",
      "\r\n",
      "After doing this, you may fix the identity used for this commit with:\r\n",
      "\r\n",
      "    git commit --amend --reset-author\r\n",
      "\r\n",
      " 8 files changed, 684 insertions(+), 1015 deletions(-)\r\n",
      " delete mode 100644 Grocery_Recommender/Feature Engineering/.ipynb_checkpoints/Untitled-checkpoint.ipynb\r\n",
      " delete mode 100644 Grocery_Recommender/Feature Engineering/Untitled.ipynb\r\n",
      " rewrite Grocery_Recommender/Feature Engineering/__pycache__/test_create_features.cpython-36-PYTEST.pyc (93%)\r\n",
      " rewrite Grocery_Recommender/Feature Engineering/test_create_features.py (83%)\r\n"
     ]
    }
   ],
   "source": [
    "!git commit -m \"Added rf, logistic and XGBoost models\""
   ]
  },
  {
   "cell_type": "code",
   "execution_count": 3,
   "metadata": {},
   "outputs": [
    {
     "name": "stdout",
     "output_type": "stream",
     "text": [
      "Counting objects: 15, done.\n",
      "Delta compression using up to 2 threads.\n",
      "Compressing objects: 100% (13/13), done.\n",
      "Writing objects: 100% (15/15), 13.47 KiB | 6.74 MiB/s, done.\n",
      "Total 15 (delta 6), reused 0 (delta 0)\n",
      "remote: Resolving deltas: 100% (6/6), completed with 6 local objects.\u001b[K\n",
      "To https://github.com/ifu97224/grocery_recommender/\n",
      "   b2f0419..e7cf08d  master -> master\n"
     ]
    }
   ],
   "source": [
    "!git push origin master"
   ]
  },
  {
   "cell_type": "code",
   "execution_count": null,
   "metadata": {},
   "outputs": [],
   "source": []
  }
 ],
 "metadata": {
  "kernelspec": {
   "display_name": "conda_python3",
   "language": "python",
   "name": "conda_python3"
  },
  "language_info": {
   "codemirror_mode": {
    "name": "ipython",
    "version": 3
   },
   "file_extension": ".py",
   "mimetype": "text/x-python",
   "name": "python",
   "nbconvert_exporter": "python",
   "pygments_lexer": "ipython3",
   "version": "3.6.5"
  }
 },
 "nbformat": 4,
 "nbformat_minor": 2
}
