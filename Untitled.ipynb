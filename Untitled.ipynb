{
 "cells": [
  {
   "cell_type": "code",
   "execution_count": 12,
   "metadata": {},
   "outputs": [],
   "source": [
    "!git add ."
   ]
  },
  {
   "cell_type": "code",
   "execution_count": 13,
   "metadata": {},
   "outputs": [
    {
     "name": "stdout",
     "output_type": "stream",
     "text": [
      "[master c6c1058] Added Model Explain module to calculate Shap values\r\n",
      " Committer: EC2 Default User <ec2-user@ip-172-16-74-68.us-east-2.compute.internal>\r\n",
      "Your name and email address were configured automatically based\r\n",
      "on your username and hostname. Please check that they are accurate.\r\n",
      "You can suppress this message by setting them explicitly:\r\n",
      "\r\n",
      "    git config --global user.name \"Your Name\"\r\n",
      "    git config --global user.email you@example.com\r\n",
      "\r\n",
      "After doing this, you may fix the identity used for this commit with:\r\n",
      "\r\n",
      "    git commit --amend --reset-author\r\n",
      "\r\n"
     ]
    }
   ],
   "source": [
    "!git commit -m \"Added Model Explain module to calculate Shap values\""
   ]
  },
  {
   "cell_type": "code",
   "execution_count": 14,
   "metadata": {},
   "outputs": [
    {
     "name": "stdout",
     "output_type": "stream",
     "text": [
      "Counting objects: 66, done.\n",
      "Delta compression using up to 2 threads.\n",
      "Compressing objects: 100% (65/65), done.\n",
      "Writing objects: 100% (66/66), 3.40 MiB | 6.34 MiB/s, done.\n",
      "Total 66 (delta 18), reused 0 (delta 0)\n",
      "remote: Resolving deltas: 100% (18/18), completed with 1 local object.\u001b[K\n",
      "To https://github.com/ifu97224/grocery_recommender/\n",
      "   1c58a6a..c6c1058  master -> master\n"
     ]
    }
   ],
   "source": [
    "!git push origin master"
   ]
  },
  {
   "cell_type": "code",
   "execution_count": 11,
   "metadata": {},
   "outputs": [
    {
     "name": "stdout",
     "output_type": "stream",
     "text": [
      "error: You have not concluded your merge (MERGE_HEAD exists).\r\n",
      "hint: Please, commit your changes before merging.\r\n",
      "fatal: Exiting because of unfinished merge.\r\n"
     ]
    }
   ],
   "source": [
    "!git pull \"merging after removing checkpoint\""
   ]
  },
  {
   "cell_type": "code",
   "execution_count": null,
   "metadata": {},
   "outputs": [],
   "source": []
  }
 ],
 "metadata": {
  "kernelspec": {
   "display_name": "conda_python3",
   "language": "python",
   "name": "conda_python3"
  },
  "language_info": {
   "codemirror_mode": {
    "name": "ipython",
    "version": 3
   },
   "file_extension": ".py",
   "mimetype": "text/x-python",
   "name": "python",
   "nbconvert_exporter": "python",
   "pygments_lexer": "ipython3",
   "version": "3.6.5"
  }
 },
 "nbformat": 4,
 "nbformat_minor": 2
}
