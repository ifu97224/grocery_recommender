{
 "cells": [
  {
   "cell_type": "code",
   "execution_count": 1,
   "metadata": {},
   "outputs": [],
   "source": [
    "!git add ."
   ]
  },
  {
   "cell_type": "code",
   "execution_count": 2,
   "metadata": {},
   "outputs": [
    {
     "name": "stdout",
     "output_type": "stream",
     "text": [
      "[master 6e890e6] Added Model Explain module to calculate Shap values\n",
      " Committer: EC2 Default User <ec2-user@ip-172-16-30-16.us-east-2.compute.internal>\n",
      "Your name and email address were configured automatically based\n",
      "on your username and hostname. Please check that they are accurate.\n",
      "You can suppress this message by setting them explicitly:\n",
      "\n",
      "    git config --global user.name \"Your Name\"\n",
      "    git config --global user.email you@example.com\n",
      "\n",
      "After doing this, you may fix the identity used for this commit with:\n",
      "\n",
      "    git commit --amend --reset-author\n",
      "\n",
      " 37 files changed, 64244 insertions(+), 40806 deletions(-)\n",
      " rewrite Grocery_Recommender/Import Data/.ipynb_checkpoints/Run_Import_Data_Functions-checkpoint.ipynb (98%)\n",
      " create mode 100644 Grocery_Recommender/Import Data/__pycache__/import_data.cpython-36.pyc\n",
      " rename Grocery_Recommender/Model Build/{ => Archive}/PyTorch Model/.ipynb_checkpoints/Run train and validate PyTorch Model-checkpoint.ipynb (100%)\n",
      " rename Grocery_Recommender/Model Build/{ => Archive}/PyTorch Model/Run train and validate PyTorch Model.ipynb (100%)\n",
      " rename Grocery_Recommender/Model Build/{ => Archive}/PyTorch Model/SKLearn_input_prep.py (100%)\n",
      " rename Grocery_Recommender/{Import Data => Model Build/Archive/PyTorch Model}/__init__.py (100%)\n",
      " rename Grocery_Recommender/Model Build/{ => Archive}/PyTorch Model/__pycache__/SKLearn_input_prep.cpython-36.pyc (100%)\n",
      " rename Grocery_Recommender/Model Build/{ => Archive}/PyTorch Model/__pycache__/plot_hyperparameter_tuning.cpython-36.pyc (100%)\n",
      " rename Grocery_Recommender/Model Build/{ => Archive}/PyTorch Model/plot_hyperparameter_tuning.py (100%)\n",
      " rename Grocery_Recommender/Model Build/{ => Archive}/PyTorch Model/preprocessing_pytorch_model.py (100%)\n",
      " rename Grocery_Recommender/Model Build/{ => Archive}/PyTorch Model/source_pytorch/model.py (100%)\n",
      " rename Grocery_Recommender/Model Build/{ => Archive}/PyTorch Model/source_pytorch/predict.py (100%)\n",
      " rename Grocery_Recommender/Model Build/{ => Archive}/PyTorch Model/source_pytorch/train.py (100%)\n",
      " delete mode 100644 Grocery_Recommender/Model Build/PyTorch Model/Run train and validate PyTorch Model (1).html\n",
      " rewrite Grocery_Recommender/Model Build/Run train and validate models.ipynb (66%)\n",
      " create mode 100644 Grocery_Recommender/Model Build/xgboost_out/test.csv\n",
      " create mode 100644 Grocery_Recommender/Model Build/xgboost_out/train.csv\n",
      " create mode 100644 Grocery_Recommender/Model Build/xgboost_out/validation.csv\n",
      " create mode 100644 Grocery_Recommender/Model Explain/.ipynb_checkpoints/Model explainability-checkpoint.ipynb\n",
      " create mode 100644 Grocery_Recommender/Model Explain/Model explainability.ipynb\n",
      " rename Grocery_Recommender/{Model Build/PyTorch Model => Model Explain}/__init__.py (100%)\n",
      " create mode 100644 Grocery_Recommender/Model Explain/__pycache__/data_import_and_preprocessing.cpython-36.pyc\n",
      " create mode 100644 Grocery_Recommender/Model Explain/__pycache__/get_shap_values.cpython-36.pyc\n",
      " create mode 100644 Grocery_Recommender/Model Explain/__pycache__/rf_importance_plot.cpython-36.pyc\n",
      " create mode 100644 Grocery_Recommender/Model Explain/data_import_and_preprocessing.py\n",
      " create mode 100644 Grocery_Recommender/Model Explain/get_shap_values.py\n",
      " create mode 100644 Grocery_Recommender/Model Explain/rf_importance_plot.py\n"
     ]
    }
   ],
   "source": [
    "!git commit -m \"Added Model Explain module to calculate Shap values\""
   ]
  },
  {
   "cell_type": "code",
   "execution_count": 6,
   "metadata": {},
   "outputs": [
    {
     "name": "stdout",
     "output_type": "stream",
     "text": [
      "Counting objects: 43, done.\n",
      "Delta compression using up to 2 threads.\n",
      "Compressing objects: 100% (42/42), done.\n",
      "Writing objects: 100% (43/43), 10.63 MiB | 3.03 MiB/s, done.\n",
      "Total 43 (delta 16), reused 0 (delta 0)\n",
      "remote: Resolving deltas: 100% (16/16), completed with 14 local objects.\u001b[K\n",
      "To https://github.com/ifu97224/grocery_recommender/\n",
      " + aca1ec6...6e890e6 master -> master (forced update)\n"
     ]
    }
   ],
   "source": [
    "!git push origin master"
   ]
  },
  {
   "cell_type": "code",
   "execution_count": null,
   "metadata": {},
   "outputs": [],
   "source": []
  }
 ],
 "metadata": {
  "kernelspec": {
   "display_name": "conda_python3",
   "language": "python",
   "name": "conda_python3"
  },
  "language_info": {
   "codemirror_mode": {
    "name": "ipython",
    "version": 3
   },
   "file_extension": ".py",
   "mimetype": "text/x-python",
   "name": "python",
   "nbconvert_exporter": "python",
   "pygments_lexer": "ipython3",
   "version": "3.6.5"
  }
 },
 "nbformat": 4,
 "nbformat_minor": 2
}
