{
 "cells": [
  {
   "cell_type": "code",
   "execution_count": 1,
   "metadata": {},
   "outputs": [],
   "source": [
    "!git add ."
   ]
  },
  {
   "cell_type": "code",
   "execution_count": 2,
   "metadata": {},
   "outputs": [
    {
     "name": "stdout",
     "output_type": "stream",
     "text": [
      "[master 005f720] Added rf, logistic and XGBoost models\n",
      " Committer: EC2 Default User <ec2-user@ip-172-16-36-66.us-east-2.compute.internal>\n",
      "Your name and email address were configured automatically based\n",
      "on your username and hostname. Please check that they are accurate.\n",
      "You can suppress this message by setting them explicitly:\n",
      "\n",
      "    git config --global user.name \"Your Name\"\n",
      "    git config --global user.email you@example.com\n",
      "\n",
      "After doing this, you may fix the identity used for this commit with:\n",
      "\n",
      "    git commit --amend --reset-author\n",
      "\n",
      " 13 files changed, 3479 insertions(+), 145 deletions(-)\n",
      " create mode 100644 Grocery_Recommender/Model Build/PyTorch Model/SKLearn_input_prep.py\n",
      " rename Grocery_Recommender/Model Build/PyTorch Model/{train.py => __init__.py} (100%)\n",
      " create mode 100644 Grocery_Recommender/Model Build/PyTorch Model/__pycache__/SKLearn_input_prep.cpython-36.pyc\n",
      " create mode 100644 Grocery_Recommender/Model Build/PyTorch Model/__pycache__/plot_hyperparameter_tuning.cpython-36.pyc\n",
      " create mode 100644 Grocery_Recommender/Model Build/PyTorch Model/plot_hyperparameter_tuning.py\n",
      " create mode 100644 Grocery_Recommender/Model Build/PyTorch Model/preprocessing_pytorch_model.py\n",
      " rename Grocery_Recommender/Model Build/PyTorch Model/{ => source_pytorch}/model.py (56%)\n",
      " rename Grocery_Recommender/Model Build/PyTorch Model/{ => source_pytorch}/predict.py (66%)\n",
      " create mode 100644 Grocery_Recommender/Model Build/PyTorch Model/source_pytorch/train.py\n"
     ]
    }
   ],
   "source": [
    "!git commit -m \"Added rf, logistic and XGBoost models\""
   ]
  },
  {
   "cell_type": "code",
   "execution_count": 3,
   "metadata": {},
   "outputs": [
    {
     "name": "stdout",
     "output_type": "stream",
     "text": [
      "Counting objects: 19, done.\n",
      "Delta compression using up to 2 threads.\n",
      "Compressing objects: 100% (19/19), done.\n",
      "Writing objects: 100% (19/19), 464.60 KiB | 10.56 MiB/s, done.\n",
      "Total 19 (delta 4), reused 0 (delta 0)\n",
      "remote: Resolving deltas: 100% (4/4), completed with 4 local objects.\u001b[K\n",
      "To https://github.com/ifu97224/grocery_recommender/\n",
      "   43ebb32..005f720  master -> master\n"
     ]
    }
   ],
   "source": [
    "!git push origin master"
   ]
  },
  {
   "cell_type": "code",
   "execution_count": null,
   "metadata": {},
   "outputs": [],
   "source": []
  }
 ],
 "metadata": {
  "kernelspec": {
   "display_name": "conda_python3",
   "language": "python",
   "name": "conda_python3"
  },
  "language_info": {
   "codemirror_mode": {
    "name": "ipython",
    "version": 3
   },
   "file_extension": ".py",
   "mimetype": "text/x-python",
   "name": "python",
   "nbconvert_exporter": "python",
   "pygments_lexer": "ipython3",
   "version": "3.6.5"
  }
 },
 "nbformat": 4,
 "nbformat_minor": 2
}
