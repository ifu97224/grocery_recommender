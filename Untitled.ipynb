{
 "cells": [
  {
   "cell_type": "code",
   "execution_count": 1,
   "metadata": {},
   "outputs": [],
   "source": [
    "!git add ."
   ]
  },
  {
   "cell_type": "code",
   "execution_count": 2,
   "metadata": {},
   "outputs": [
    {
     "name": "stdout",
     "output_type": "stream",
     "text": [
      "[master 1b069f4] Added rf, logistic and XGBoost models\n",
      " Committer: EC2 Default User <ec2-user@ip-172-16-89-30.us-east-2.compute.internal>\n",
      "Your name and email address were configured automatically based\n",
      "on your username and hostname. Please check that they are accurate.\n",
      "You can suppress this message by setting them explicitly:\n",
      "\n",
      "    git config --global user.name \"Your Name\"\n",
      "    git config --global user.email you@example.com\n",
      "\n",
      "After doing this, you may fix the identity used for this commit with:\n",
      "\n",
      "    git commit --amend --reset-author\n",
      "\n",
      " 33 files changed, 80778 insertions(+), 10769 deletions(-)\n",
      " create mode 100644 Grocery_Recommender/Feature Importance and EDA/FeatureProfiler/__pycache__/__init__.cpython-36.pyc\n",
      " create mode 100644 Grocery_Recommender/Model Build/.ipynb_checkpoints/Run train and validate models-checkpoint.ipynb\n",
      " create mode 100644 Grocery_Recommender/Model Build/Run train and validate models.ipynb\n",
      " create mode 100644 Grocery_Recommender/Model Build/SKLearn_input_prep.py\n",
      " create mode 100644 Grocery_Recommender/Model Build/XGBoost_eval.py\n",
      " create mode 100644 Grocery_Recommender/Model Build/__init__.py\n",
      " create mode 100644 Grocery_Recommender/Model Build/__pycache__/SKLearn_input_prep.cpython-36.pyc\n",
      " create mode 100644 Grocery_Recommender/Model Build/__pycache__/XGBoost_eval.cpython-36.pyc\n",
      " create mode 100644 Grocery_Recommender/Model Build/__pycache__/plot_hyperparameter_tuning.cpython-36.pyc\n",
      " create mode 100644 Grocery_Recommender/Model Build/evaluation_sklearn.py\n",
      " create mode 100644 Grocery_Recommender/Model Build/plot_hyperparameter_tuning.py\n",
      " create mode 100644 Grocery_Recommender/Model Build/preprocessing.py\n",
      " create mode 100644 Grocery_Recommender/Model Build/train_logistic.py\n",
      " create mode 100644 Grocery_Recommender/Model Build/train_rf.py\n",
      " create mode 100644 Grocery_Recommender/Model Build/xgboost_out/test.csv\n",
      " create mode 100644 Grocery_Recommender/Model Build/xgboost_out/train.csv\n",
      " create mode 100644 Grocery_Recommender/Model Build/xgboost_out/validation.csv\n",
      " rewrite Grocery_Recommender/Run ALS/.ipynb_checkpoints/Run_ALS-checkpoint.ipynb (83%)\n"
     ]
    }
   ],
   "source": [
    "!git commit -m \"Added rf, logistic and XGBoost models\""
   ]
  },
  {
   "cell_type": "code",
   "execution_count": 3,
   "metadata": {},
   "outputs": [
    {
     "name": "stdout",
     "output_type": "stream",
     "text": [
      "Counting objects: 46, done.\n",
      "Delta compression using up to 2 threads.\n",
      "Compressing objects: 100% (46/46), done.\n",
      "Writing objects: 100% (46/46), 8.90 MiB | 2.72 MiB/s, done.\n",
      "Total 46 (delta 15), reused 0 (delta 0)\n",
      "remote: Resolving deltas: 100% (15/15), completed with 11 local objects.\u001b[K\n",
      "To https://github.com/ifu97224/grocery_recommender/\n",
      "   b0d6224..1b069f4  master -> master\n"
     ]
    }
   ],
   "source": [
    "!git push origin master"
   ]
  },
  {
   "cell_type": "code",
   "execution_count": null,
   "metadata": {},
   "outputs": [],
   "source": []
  }
 ],
 "metadata": {
  "kernelspec": {
   "display_name": "conda_python3",
   "language": "python",
   "name": "conda_python3"
  },
  "language_info": {
   "codemirror_mode": {
    "name": "ipython",
    "version": 3
   },
   "file_extension": ".py",
   "mimetype": "text/x-python",
   "name": "python",
   "nbconvert_exporter": "python",
   "pygments_lexer": "ipython3",
   "version": "3.6.5"
  }
 },
 "nbformat": 4,
 "nbformat_minor": 2
}
