{
 "cells": [
  {
   "cell_type": "code",
   "execution_count": 1,
   "metadata": {},
   "outputs": [],
   "source": [
    "!git add ."
   ]
  },
  {
   "cell_type": "code",
   "execution_count": 2,
   "metadata": {},
   "outputs": [
    {
     "name": "stdout",
     "output_type": "stream",
     "text": [
      "[master 870b8a1] Added Model Explain module to calculate Shap values\r\n",
      " Committer: EC2 Default User <ec2-user@ip-172-16-74-68.us-east-2.compute.internal>\r\n",
      "Your name and email address were configured automatically based\r\n",
      "on your username and hostname. Please check that they are accurate.\r\n",
      "You can suppress this message by setting them explicitly:\r\n",
      "\r\n",
      "    git config --global user.name \"Your Name\"\r\n",
      "    git config --global user.email you@example.com\r\n",
      "\r\n",
      "After doing this, you may fix the identity used for this commit with:\r\n",
      "\r\n",
      "    git commit --amend --reset-author\r\n",
      "\r\n"
     ]
    }
   ],
   "source": [
    "!git commit -m \"Added Model Explain module to calculate Shap values\""
   ]
  },
  {
   "cell_type": "code",
   "execution_count": 3,
   "metadata": {},
   "outputs": [
    {
     "name": "stdout",
     "output_type": "stream",
     "text": [
      "To https://github.com/ifu97224/grocery_recommender/\r\n",
      " ! [rejected]        master -> master (non-fast-forward)\r\n",
      "error: failed to push some refs to 'https://github.com/ifu97224/grocery_recommender/'\r\n",
      "hint: Updates were rejected because the tip of your current branch is behind\r\n",
      "hint: its remote counterpart. Integrate the remote changes (e.g.\r\n",
      "hint: 'git pull ...') before pushing again.\r\n",
      "hint: See the 'Note about fast-forwards' in 'git push --help' for details.\r\n"
     ]
    }
   ],
   "source": [
    "!git push origin master"
   ]
  },
  {
   "cell_type": "code",
   "execution_count": null,
   "metadata": {},
   "outputs": [],
   "source": []
  }
 ],
 "metadata": {
  "kernelspec": {
   "display_name": "conda_python3",
   "language": "python",
   "name": "conda_python3"
  },
  "language_info": {
   "codemirror_mode": {
    "name": "ipython",
    "version": 3
   },
   "file_extension": ".py",
   "mimetype": "text/x-python",
   "name": "python",
   "nbconvert_exporter": "python",
   "pygments_lexer": "ipython3",
   "version": "3.6.5"
  }
 },
 "nbformat": 4,
 "nbformat_minor": 2
}
