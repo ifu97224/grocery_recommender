{
 "cells": [
  {
   "cell_type": "markdown",
   "metadata": {},
   "source": [
    "## Fit ALS Model\n",
    "\n",
    "This notebook preps, fits and tunes an ALS model.  The objective is to obtain customer and user factors to be used as features in predictive models"
   ]
  },
  {
   "cell_type": "code",
   "execution_count": 1,
   "metadata": {},
   "outputs": [
    {
     "name": "stdout",
     "output_type": "stream",
     "text": [
      "Collecting implicit\n",
      "\u001b[?25l  Downloading https://files.pythonhosted.org/packages/5a/d8/6b4f1374ffa2647b72ac76960c71b984c6f3238090359fb419d03827d87a/implicit-0.4.2.tar.gz (1.1MB)\n",
      "\u001b[K     |████████████████████████████████| 1.1MB 3.0MB/s eta 0:00:01\n",
      "\u001b[?25hRequirement already satisfied: numpy in /home/ec2-user/anaconda3/envs/tensorflow_p36/lib/python3.6/site-packages (from implicit) (1.16.4)\n",
      "Requirement already satisfied: scipy>=0.16 in /home/ec2-user/anaconda3/envs/tensorflow_p36/lib/python3.6/site-packages (from implicit) (1.4.1)\n",
      "Collecting tqdm>=4.27\n",
      "  Using cached https://files.pythonhosted.org/packages/4a/1c/6359be64e8301b84160f6f6f7936bbfaaa5e9a4eab6cbc681db07600b949/tqdm-4.45.0-py2.py3-none-any.whl\n",
      "Building wheels for collected packages: implicit\n",
      "  Building wheel for implicit (setup.py) ... \u001b[?25ldone\n",
      "\u001b[?25h  Created wheel for implicit: filename=implicit-0.4.2-cp36-cp36m-linux_x86_64.whl size=3734587 sha256=5c9e72410381445a076eea9784a713c24c7eafb38f3603cafc542e0d66ea308a\n",
      "  Stored in directory: /home/ec2-user/.cache/pip/wheels/1b/48/b1/1aebe3acc3afb5589e72d3e7c3ffc3f637dc4721c1a974dff7\n",
      "Successfully built implicit\n",
      "Installing collected packages: tqdm, implicit\n",
      "Successfully installed implicit-0.4.2 tqdm-4.45.0\n",
      "\u001b[33mWARNING: You are using pip version 19.3.1; however, version 20.0.2 is available.\n",
      "You should consider upgrading via the 'pip install --upgrade pip' command.\u001b[0m\n",
      "Collecting hyperopt\n",
      "\u001b[?25l  Downloading https://files.pythonhosted.org/packages/7e/11/8bbbb5edb78c40a2bd0f6b730e3dc0f29ffbaea9a59520eb9622951e9151/hyperopt-0.2.3-py3-none-any.whl (1.9MB)\n",
      "\u001b[K     |████████████████████████████████| 1.9MB 3.1MB/s eta 0:00:01\n",
      "\u001b[?25hCollecting future\n",
      "\u001b[?25l  Downloading https://files.pythonhosted.org/packages/45/0b/38b06fd9b92dc2b68d58b75f900e97884c45bedd2ff83203d933cf5851c9/future-0.18.2.tar.gz (829kB)\n",
      "\u001b[K     |████████████████████████████████| 829kB 53.4MB/s eta 0:00:01\n",
      "\u001b[?25hRequirement already satisfied: tqdm in /home/ec2-user/anaconda3/envs/tensorflow_p36/lib/python3.6/site-packages (from hyperopt) (4.45.0)\n",
      "Collecting networkx==2.2\n",
      "\u001b[?25l  Downloading https://files.pythonhosted.org/packages/f3/f4/7e20ef40b118478191cec0b58c3192f822cace858c19505c7670961b76b2/networkx-2.2.zip (1.7MB)\n",
      "\u001b[K     |████████████████████████████████| 1.7MB 35.1MB/s eta 0:00:01\n",
      "\u001b[?25hRequirement already satisfied: six in /home/ec2-user/anaconda3/envs/tensorflow_p36/lib/python3.6/site-packages (from hyperopt) (1.11.0)\n",
      "Requirement already satisfied: numpy in /home/ec2-user/anaconda3/envs/tensorflow_p36/lib/python3.6/site-packages (from hyperopt) (1.16.4)\n",
      "Requirement already satisfied: cloudpickle in /home/ec2-user/anaconda3/envs/tensorflow_p36/lib/python3.6/site-packages (from hyperopt) (0.5.3)\n",
      "Requirement already satisfied: scipy in /home/ec2-user/anaconda3/envs/tensorflow_p36/lib/python3.6/site-packages (from hyperopt) (1.4.1)\n",
      "Requirement already satisfied: decorator>=4.3.0 in /home/ec2-user/anaconda3/envs/tensorflow_p36/lib/python3.6/site-packages (from networkx==2.2->hyperopt) (4.3.0)\n",
      "Building wheels for collected packages: future, networkx\n",
      "  Building wheel for future (setup.py) ... \u001b[?25ldone\n",
      "\u001b[?25h  Created wheel for future: filename=future-0.18.2-cp36-none-any.whl size=491095 sha256=555a868f58494b0c362356307cf9536e8309eb8018fdd91b0f9f16342bc4ea5b\n",
      "  Stored in directory: /home/ec2-user/.cache/pip/wheels/8b/99/a0/81daf51dcd359a9377b110a8a886b3895921802d2fc1b2397e\n",
      "  Building wheel for networkx (setup.py) ... \u001b[?25ldone\n",
      "\u001b[?25h  Created wheel for networkx: filename=networkx-2.2-py2.py3-none-any.whl size=1526314 sha256=34859feddf8406351dcead7872e561942c68fced8d3680e50716f85bc53ba4a1\n",
      "  Stored in directory: /home/ec2-user/.cache/pip/wheels/68/f8/29/b53346a112a07d30a5a84d53f19aeadaa1a474897c0423af91\n",
      "Successfully built future networkx\n",
      "Installing collected packages: future, networkx, hyperopt\n",
      "  Found existing installation: networkx 2.1\n",
      "    Uninstalling networkx-2.1:\n",
      "      Successfully uninstalled networkx-2.1\n",
      "Successfully installed future-0.18.2 hyperopt-0.2.3 networkx-2.2\n",
      "\u001b[33mWARNING: You are using pip version 19.3.1; however, version 20.0.2 is available.\n",
      "You should consider upgrading via the 'pip install --upgrade pip' command.\u001b[0m\n"
     ]
    }
   ],
   "source": [
    "import shutil\n",
    "import pandas as pd\n",
    "import numpy as np\n",
    "import pickle\n",
    "import boto3\n",
    "import os\n",
    "import sys\n",
    "from sagemaker import get_execution_role\n",
    "from scipy.stats.mstats import winsorize\n",
    "from sklearn.model_selection import train_test_split\n",
    "from sklearn.metrics import mean_squared_error\n",
    "import scipy.sparse as sparse\n",
    "import csv\n",
    "import ast\n",
    "\n",
    "import matplotlib.pyplot as plt\n",
    "import seaborn as sns\n",
    "\n",
    "%matplotlib inline\n",
    "\n",
    "!pip install implicit\n",
    "import implicit\n",
    "\n",
    "!pip install hyperopt\n",
    "from hyperopt import hp, Trials, fmin, tpe\n",
    "\n",
    "module_path = os.path.abspath(os.path.join('..'))\n",
    "if module_path not in sys.path:\n",
    "    sys.path.append(module_path)\n",
    "\n",
    "from Grocery_Recommender.Run_ALS.data_prep.prep_data_for_ALS import *\n",
    "from Grocery_Recommender.Run_ALS.train.model import *\n",
    "\n",
    "pd.set_option('display.max_rows', 500)\n",
    "pd.set_option('display.max_columns', 500)"
   ]
  },
  {
   "cell_type": "code",
   "execution_count": 2,
   "metadata": {},
   "outputs": [],
   "source": [
    "role = get_execution_role()\n",
    "region = boto3.Session().region_name\n",
    "bucket = \"udacity-machine-learning-capstone-data\""
   ]
  },
  {
   "cell_type": "markdown",
   "metadata": {},
   "source": [
    "### Import the customer transaction file"
   ]
  },
  {
   "cell_type": "code",
   "execution_count": 4,
   "metadata": {},
   "outputs": [],
   "source": [
    "key = \"udacity_capstone_data/all_trans.pkl\"\n",
    "s3 = boto3.client(\"s3\")\n",
    "trans_pkl = s3.download_file(bucket, key, \"./all_trans.pkl\")"
   ]
  },
  {
   "cell_type": "code",
   "execution_count": 5,
   "metadata": {},
   "outputs": [
    {
     "data": {
      "text/html": [
       "<div>\n",
       "<style scoped>\n",
       "    .dataframe tbody tr th:only-of-type {\n",
       "        vertical-align: middle;\n",
       "    }\n",
       "\n",
       "    .dataframe tbody tr th {\n",
       "        vertical-align: top;\n",
       "    }\n",
       "\n",
       "    .dataframe thead th {\n",
       "        text-align: right;\n",
       "    }\n",
       "</style>\n",
       "<table border=\"1\" class=\"dataframe\">\n",
       "  <thead>\n",
       "    <tr style=\"text-align: right;\">\n",
       "      <th></th>\n",
       "      <th>SHOP_WEEK</th>\n",
       "      <th>SHOP_DATE</th>\n",
       "      <th>SHOP_WEEKDAY</th>\n",
       "      <th>SHOP_HOUR</th>\n",
       "      <th>QUANTITY</th>\n",
       "      <th>SPEND</th>\n",
       "      <th>PROD_CODE</th>\n",
       "      <th>PROD_CODE_10</th>\n",
       "      <th>PROD_CODE_20</th>\n",
       "      <th>PROD_CODE_30</th>\n",
       "      <th>PROD_CODE_40</th>\n",
       "      <th>CUST_CODE</th>\n",
       "      <th>CUST_PRICE_SENSITIVITY</th>\n",
       "      <th>CUST_LIFESTAGE</th>\n",
       "      <th>BASKET_ID</th>\n",
       "      <th>BASKET_SIZE</th>\n",
       "      <th>BASKET_PRICE_SENSITIVITY</th>\n",
       "      <th>BASKET_TYPE</th>\n",
       "      <th>BASKET_DOMINANT_MISSION</th>\n",
       "      <th>STORE_CODE</th>\n",
       "      <th>STORE_FORMAT</th>\n",
       "      <th>STORE_REGION</th>\n",
       "    </tr>\n",
       "  </thead>\n",
       "  <tbody>\n",
       "    <tr>\n",
       "      <th>0</th>\n",
       "      <td>200607</td>\n",
       "      <td>20060415</td>\n",
       "      <td>7</td>\n",
       "      <td>19</td>\n",
       "      <td>1</td>\n",
       "      <td>0.93</td>\n",
       "      <td>PRD0900033</td>\n",
       "      <td>CL00201</td>\n",
       "      <td>DEP00067</td>\n",
       "      <td>G00021</td>\n",
       "      <td>D00005</td>\n",
       "      <td>CUST0000410727</td>\n",
       "      <td>UM</td>\n",
       "      <td>OT</td>\n",
       "      <td>994100100398294</td>\n",
       "      <td>L</td>\n",
       "      <td>MM</td>\n",
       "      <td>Full Shop</td>\n",
       "      <td>Mixed</td>\n",
       "      <td>STORE00001</td>\n",
       "      <td>LS</td>\n",
       "      <td>E02</td>\n",
       "    </tr>\n",
       "    <tr>\n",
       "      <th>1</th>\n",
       "      <td>200607</td>\n",
       "      <td>20060413</td>\n",
       "      <td>5</td>\n",
       "      <td>20</td>\n",
       "      <td>1</td>\n",
       "      <td>1.03</td>\n",
       "      <td>PRD0900097</td>\n",
       "      <td>CL00001</td>\n",
       "      <td>DEP00001</td>\n",
       "      <td>G00001</td>\n",
       "      <td>D00001</td>\n",
       "      <td>CUST0000634693</td>\n",
       "      <td>LA</td>\n",
       "      <td>YF</td>\n",
       "      <td>994100100532898</td>\n",
       "      <td>L</td>\n",
       "      <td>LA</td>\n",
       "      <td>Top Up</td>\n",
       "      <td>Fresh</td>\n",
       "      <td>STORE00001</td>\n",
       "      <td>LS</td>\n",
       "      <td>E02</td>\n",
       "    </tr>\n",
       "    <tr>\n",
       "      <th>2</th>\n",
       "      <td>200607</td>\n",
       "      <td>20060416</td>\n",
       "      <td>1</td>\n",
       "      <td>14</td>\n",
       "      <td>1</td>\n",
       "      <td>0.98</td>\n",
       "      <td>PRD0900121</td>\n",
       "      <td>CL00063</td>\n",
       "      <td>DEP00019</td>\n",
       "      <td>G00007</td>\n",
       "      <td>D00002</td>\n",
       "      <td>NaN</td>\n",
       "      <td>NaN</td>\n",
       "      <td>NaN</td>\n",
       "      <td>994100100135562</td>\n",
       "      <td>L</td>\n",
       "      <td>MM</td>\n",
       "      <td>Top Up</td>\n",
       "      <td>Grocery</td>\n",
       "      <td>STORE00001</td>\n",
       "      <td>LS</td>\n",
       "      <td>E02</td>\n",
       "    </tr>\n",
       "    <tr>\n",
       "      <th>3</th>\n",
       "      <td>200607</td>\n",
       "      <td>20060415</td>\n",
       "      <td>7</td>\n",
       "      <td>19</td>\n",
       "      <td>1</td>\n",
       "      <td>3.07</td>\n",
       "      <td>PRD0900135</td>\n",
       "      <td>CL00201</td>\n",
       "      <td>DEP00067</td>\n",
       "      <td>G00021</td>\n",
       "      <td>D00005</td>\n",
       "      <td>CUST0000410727</td>\n",
       "      <td>UM</td>\n",
       "      <td>OT</td>\n",
       "      <td>994100100398294</td>\n",
       "      <td>L</td>\n",
       "      <td>MM</td>\n",
       "      <td>Full Shop</td>\n",
       "      <td>Mixed</td>\n",
       "      <td>STORE00001</td>\n",
       "      <td>LS</td>\n",
       "      <td>E02</td>\n",
       "    </tr>\n",
       "    <tr>\n",
       "      <th>4</th>\n",
       "      <td>200607</td>\n",
       "      <td>20060415</td>\n",
       "      <td>7</td>\n",
       "      <td>19</td>\n",
       "      <td>1</td>\n",
       "      <td>4.81</td>\n",
       "      <td>PRD0900220</td>\n",
       "      <td>CL00051</td>\n",
       "      <td>DEP00013</td>\n",
       "      <td>G00005</td>\n",
       "      <td>D00002</td>\n",
       "      <td>CUST0000410727</td>\n",
       "      <td>UM</td>\n",
       "      <td>OT</td>\n",
       "      <td>994100100398294</td>\n",
       "      <td>L</td>\n",
       "      <td>MM</td>\n",
       "      <td>Full Shop</td>\n",
       "      <td>Mixed</td>\n",
       "      <td>STORE00001</td>\n",
       "      <td>LS</td>\n",
       "      <td>E02</td>\n",
       "    </tr>\n",
       "  </tbody>\n",
       "</table>\n",
       "</div>"
      ],
      "text/plain": [
       "   SHOP_WEEK  SHOP_DATE  SHOP_WEEKDAY  SHOP_HOUR  QUANTITY  SPEND   PROD_CODE  \\\n",
       "0     200607   20060415             7         19         1   0.93  PRD0900033   \n",
       "1     200607   20060413             5         20         1   1.03  PRD0900097   \n",
       "2     200607   20060416             1         14         1   0.98  PRD0900121   \n",
       "3     200607   20060415             7         19         1   3.07  PRD0900135   \n",
       "4     200607   20060415             7         19         1   4.81  PRD0900220   \n",
       "\n",
       "  PROD_CODE_10 PROD_CODE_20 PROD_CODE_30 PROD_CODE_40       CUST_CODE  \\\n",
       "0      CL00201     DEP00067       G00021       D00005  CUST0000410727   \n",
       "1      CL00001     DEP00001       G00001       D00001  CUST0000634693   \n",
       "2      CL00063     DEP00019       G00007       D00002             NaN   \n",
       "3      CL00201     DEP00067       G00021       D00005  CUST0000410727   \n",
       "4      CL00051     DEP00013       G00005       D00002  CUST0000410727   \n",
       "\n",
       "  CUST_PRICE_SENSITIVITY CUST_LIFESTAGE        BASKET_ID BASKET_SIZE  \\\n",
       "0                     UM             OT  994100100398294           L   \n",
       "1                     LA             YF  994100100532898           L   \n",
       "2                    NaN            NaN  994100100135562           L   \n",
       "3                     UM             OT  994100100398294           L   \n",
       "4                     UM             OT  994100100398294           L   \n",
       "\n",
       "  BASKET_PRICE_SENSITIVITY BASKET_TYPE BASKET_DOMINANT_MISSION  STORE_CODE  \\\n",
       "0                       MM   Full Shop                   Mixed  STORE00001   \n",
       "1                       LA      Top Up                   Fresh  STORE00001   \n",
       "2                       MM      Top Up                 Grocery  STORE00001   \n",
       "3                       MM   Full Shop                   Mixed  STORE00001   \n",
       "4                       MM   Full Shop                   Mixed  STORE00001   \n",
       "\n",
       "  STORE_FORMAT STORE_REGION  \n",
       "0           LS          E02  \n",
       "1           LS          E02  \n",
       "2           LS          E02  \n",
       "3           LS          E02  \n",
       "4           LS          E02  "
      ]
     },
     "execution_count": 5,
     "metadata": {},
     "output_type": "execute_result"
    }
   ],
   "source": [
    "s3 = boto3.resource(\"s3\")\n",
    "all_cust_trans = pickle.loads(s3.Bucket(bucket).Object(key).get()[\"Body\"].read())\n",
    "all_cust_trans.head()"
   ]
  },
  {
   "cell_type": "markdown",
   "metadata": {},
   "source": [
    "### Summarize to customer and count of products purchased\n",
    "\n",
    "Create a DataFrame at the customer and product level with count of the quantity of units purchased as implicit feedback"
   ]
  },
  {
   "cell_type": "code",
   "execution_count": 6,
   "metadata": {},
   "outputs": [],
   "source": [
    "prep_als = als_data_prep(all_cust_trans, 200716, 200815)"
   ]
  },
  {
   "cell_type": "code",
   "execution_count": 7,
   "metadata": {},
   "outputs": [
    {
     "data": {
      "text/html": [
       "<div>\n",
       "<style scoped>\n",
       "    .dataframe tbody tr th:only-of-type {\n",
       "        vertical-align: middle;\n",
       "    }\n",
       "\n",
       "    .dataframe tbody tr th {\n",
       "        vertical-align: top;\n",
       "    }\n",
       "\n",
       "    .dataframe thead th {\n",
       "        text-align: right;\n",
       "    }\n",
       "</style>\n",
       "<table border=\"1\" class=\"dataframe\">\n",
       "  <thead>\n",
       "    <tr style=\"text-align: right;\">\n",
       "      <th></th>\n",
       "      <th>CUST_CODE</th>\n",
       "      <th>PROD_CODE</th>\n",
       "      <th>QUANTITY</th>\n",
       "    </tr>\n",
       "  </thead>\n",
       "  <tbody>\n",
       "    <tr>\n",
       "      <th>0</th>\n",
       "      <td>CUST0000000013</td>\n",
       "      <td>PRD0900121</td>\n",
       "      <td>1</td>\n",
       "    </tr>\n",
       "    <tr>\n",
       "      <th>1</th>\n",
       "      <td>CUST0000000013</td>\n",
       "      <td>PRD0900139</td>\n",
       "      <td>1</td>\n",
       "    </tr>\n",
       "    <tr>\n",
       "      <th>2</th>\n",
       "      <td>CUST0000000013</td>\n",
       "      <td>PRD0900161</td>\n",
       "      <td>1</td>\n",
       "    </tr>\n",
       "    <tr>\n",
       "      <th>3</th>\n",
       "      <td>CUST0000000013</td>\n",
       "      <td>PRD0900234</td>\n",
       "      <td>3</td>\n",
       "    </tr>\n",
       "    <tr>\n",
       "      <th>4</th>\n",
       "      <td>CUST0000000013</td>\n",
       "      <td>PRD0900330</td>\n",
       "      <td>1</td>\n",
       "    </tr>\n",
       "  </tbody>\n",
       "</table>\n",
       "</div>"
      ],
      "text/plain": [
       "        CUST_CODE   PROD_CODE  QUANTITY\n",
       "0  CUST0000000013  PRD0900121         1\n",
       "1  CUST0000000013  PRD0900139         1\n",
       "2  CUST0000000013  PRD0900161         1\n",
       "3  CUST0000000013  PRD0900234         3\n",
       "4  CUST0000000013  PRD0900330         1"
      ]
     },
     "execution_count": 7,
     "metadata": {},
     "output_type": "execute_result"
    }
   ],
   "source": [
    "cust_quant_summ = prep_als.create_cust_quant_summ()\n",
    "cust_quant_summ.head()"
   ]
  },
  {
   "cell_type": "markdown",
   "metadata": {},
   "source": [
    "### Winsorize the DataFrame to remove outliers"
   ]
  },
  {
   "cell_type": "code",
   "execution_count": 8,
   "metadata": {},
   "outputs": [],
   "source": [
    "winsorized_list = prep_als.winsorize_df(\n",
    "    train_df=cust_quant_summ,\n",
    "    test_df=None,\n",
    "    valid_df=None,\n",
    "    cols=[\"QUANTITY\"],\n",
    "    lower=0.05,\n",
    "    upper=0.05,\n",
    "    test_set=False,\n",
    "    valid_set=False,\n",
    ")"
   ]
  },
  {
   "cell_type": "code",
   "execution_count": 9,
   "metadata": {},
   "outputs": [],
   "source": [
    "cust_summ_train = winsorized_list[0]"
   ]
  },
  {
   "cell_type": "code",
   "execution_count": 10,
   "metadata": {},
   "outputs": [
    {
     "data": {
      "text/html": [
       "<div>\n",
       "<style scoped>\n",
       "    .dataframe tbody tr th:only-of-type {\n",
       "        vertical-align: middle;\n",
       "    }\n",
       "\n",
       "    .dataframe tbody tr th {\n",
       "        vertical-align: top;\n",
       "    }\n",
       "\n",
       "    .dataframe thead th {\n",
       "        text-align: right;\n",
       "    }\n",
       "</style>\n",
       "<table border=\"1\" class=\"dataframe\">\n",
       "  <thead>\n",
       "    <tr style=\"text-align: right;\">\n",
       "      <th></th>\n",
       "      <th>CUST_CODE</th>\n",
       "      <th>PROD_CODE</th>\n",
       "      <th>QUANTITY</th>\n",
       "    </tr>\n",
       "  </thead>\n",
       "  <tbody>\n",
       "    <tr>\n",
       "      <th>0</th>\n",
       "      <td>CUST0000000013</td>\n",
       "      <td>PRD0900121</td>\n",
       "      <td>1</td>\n",
       "    </tr>\n",
       "    <tr>\n",
       "      <th>1</th>\n",
       "      <td>CUST0000000013</td>\n",
       "      <td>PRD0900139</td>\n",
       "      <td>1</td>\n",
       "    </tr>\n",
       "    <tr>\n",
       "      <th>2</th>\n",
       "      <td>CUST0000000013</td>\n",
       "      <td>PRD0900161</td>\n",
       "      <td>1</td>\n",
       "    </tr>\n",
       "    <tr>\n",
       "      <th>3</th>\n",
       "      <td>CUST0000000013</td>\n",
       "      <td>PRD0900234</td>\n",
       "      <td>3</td>\n",
       "    </tr>\n",
       "    <tr>\n",
       "      <th>4</th>\n",
       "      <td>CUST0000000013</td>\n",
       "      <td>PRD0900330</td>\n",
       "      <td>1</td>\n",
       "    </tr>\n",
       "  </tbody>\n",
       "</table>\n",
       "</div>"
      ],
      "text/plain": [
       "        CUST_CODE   PROD_CODE  QUANTITY\n",
       "0  CUST0000000013  PRD0900121         1\n",
       "1  CUST0000000013  PRD0900139         1\n",
       "2  CUST0000000013  PRD0900161         1\n",
       "3  CUST0000000013  PRD0900234         3\n",
       "4  CUST0000000013  PRD0900330         1"
      ]
     },
     "execution_count": 10,
     "metadata": {},
     "output_type": "execute_result"
    }
   ],
   "source": [
    "cust_summ_train.sort_values([\"CUST_CODE\", \"PROD_CODE\"]).head()"
   ]
  },
  {
   "cell_type": "markdown",
   "metadata": {},
   "source": [
    "### Normalize the data with a min/max scaler"
   ]
  },
  {
   "cell_type": "code",
   "execution_count": 11,
   "metadata": {},
   "outputs": [],
   "source": [
    "normalized_list = prep_als.normalize_min_max(\n",
    "    train_df=cust_summ_train,\n",
    "    test_df=None,\n",
    "    valid_df=None,\n",
    "    group_var=\"PROD_CODE\",\n",
    "    normal_var=\"QUANTITY\",\n",
    "    test_set=False,\n",
    "    valid_set=False,\n",
    ")"
   ]
  },
  {
   "cell_type": "code",
   "execution_count": 12,
   "metadata": {},
   "outputs": [],
   "source": [
    "train_df_normal = normalized_list[0]"
   ]
  },
  {
   "cell_type": "code",
   "execution_count": 13,
   "metadata": {},
   "outputs": [
    {
     "data": {
      "text/html": [
       "<div>\n",
       "<style scoped>\n",
       "    .dataframe tbody tr th:only-of-type {\n",
       "        vertical-align: middle;\n",
       "    }\n",
       "\n",
       "    .dataframe tbody tr th {\n",
       "        vertical-align: top;\n",
       "    }\n",
       "\n",
       "    .dataframe thead th {\n",
       "        text-align: right;\n",
       "    }\n",
       "</style>\n",
       "<table border=\"1\" class=\"dataframe\">\n",
       "  <thead>\n",
       "    <tr style=\"text-align: right;\">\n",
       "      <th></th>\n",
       "      <th>CUST_CODE</th>\n",
       "      <th>PROD_CODE</th>\n",
       "      <th>QUANTITY</th>\n",
       "    </tr>\n",
       "  </thead>\n",
       "  <tbody>\n",
       "    <tr>\n",
       "      <th>0</th>\n",
       "      <td>CUST0000000013</td>\n",
       "      <td>PRD0900121</td>\n",
       "      <td>0.010000</td>\n",
       "    </tr>\n",
       "    <tr>\n",
       "      <th>1856</th>\n",
       "      <td>CUST0000000013</td>\n",
       "      <td>PRD0900139</td>\n",
       "      <td>0.010000</td>\n",
       "    </tr>\n",
       "    <tr>\n",
       "      <th>2058</th>\n",
       "      <td>CUST0000000013</td>\n",
       "      <td>PRD0900161</td>\n",
       "      <td>0.010000</td>\n",
       "    </tr>\n",
       "    <tr>\n",
       "      <th>2143</th>\n",
       "      <td>CUST0000000013</td>\n",
       "      <td>PRD0900234</td>\n",
       "      <td>0.029231</td>\n",
       "    </tr>\n",
       "    <tr>\n",
       "      <th>2657</th>\n",
       "      <td>CUST0000000013</td>\n",
       "      <td>PRD0900330</td>\n",
       "      <td>0.010000</td>\n",
       "    </tr>\n",
       "  </tbody>\n",
       "</table>\n",
       "</div>"
      ],
      "text/plain": [
       "           CUST_CODE   PROD_CODE  QUANTITY\n",
       "0     CUST0000000013  PRD0900121  0.010000\n",
       "1856  CUST0000000013  PRD0900139  0.010000\n",
       "2058  CUST0000000013  PRD0900161  0.010000\n",
       "2143  CUST0000000013  PRD0900234  0.029231\n",
       "2657  CUST0000000013  PRD0900330  0.010000"
      ]
     },
     "execution_count": 13,
     "metadata": {},
     "output_type": "execute_result"
    }
   ],
   "source": [
    "train_df_normal.sort_values([\"CUST_CODE\", \"PROD_CODE\"]).head()"
   ]
  },
  {
   "cell_type": "markdown",
   "metadata": {},
   "source": [
    "### Remove random rows from each customer to use as a test set\n",
    "\n",
    "As ALS needs all customers to build the model, random customer/product rows will be held out to use as a test set"
   ]
  },
  {
   "cell_type": "code",
   "execution_count": 14,
   "metadata": {},
   "outputs": [
    {
     "data": {
      "text/html": [
       "<div>\n",
       "<style scoped>\n",
       "    .dataframe tbody tr th:only-of-type {\n",
       "        vertical-align: middle;\n",
       "    }\n",
       "\n",
       "    .dataframe tbody tr th {\n",
       "        vertical-align: top;\n",
       "    }\n",
       "\n",
       "    .dataframe thead th {\n",
       "        text-align: right;\n",
       "    }\n",
       "</style>\n",
       "<table border=\"1\" class=\"dataframe\">\n",
       "  <thead>\n",
       "    <tr style=\"text-align: right;\">\n",
       "      <th></th>\n",
       "      <th>CUST_CODE</th>\n",
       "      <th>PROD_CODE</th>\n",
       "      <th>QUANTITY</th>\n",
       "    </tr>\n",
       "  </thead>\n",
       "  <tbody>\n",
       "    <tr>\n",
       "      <th>0</th>\n",
       "      <td>CUST0000003447</td>\n",
       "      <td>PRD0900121</td>\n",
       "      <td>0.026279</td>\n",
       "    </tr>\n",
       "    <tr>\n",
       "      <th>1</th>\n",
       "      <td>CUST0000010712</td>\n",
       "      <td>PRD0900121</td>\n",
       "      <td>0.010000</td>\n",
       "    </tr>\n",
       "    <tr>\n",
       "      <th>2</th>\n",
       "      <td>CUST0000010921</td>\n",
       "      <td>PRD0900121</td>\n",
       "      <td>0.010000</td>\n",
       "    </tr>\n",
       "    <tr>\n",
       "      <th>3</th>\n",
       "      <td>CUST0000016376</td>\n",
       "      <td>PRD0900121</td>\n",
       "      <td>0.014651</td>\n",
       "    </tr>\n",
       "    <tr>\n",
       "      <th>4</th>\n",
       "      <td>CUST0000016975</td>\n",
       "      <td>PRD0900121</td>\n",
       "      <td>0.010000</td>\n",
       "    </tr>\n",
       "  </tbody>\n",
       "</table>\n",
       "</div>"
      ],
      "text/plain": [
       "        CUST_CODE   PROD_CODE  QUANTITY\n",
       "0  CUST0000003447  PRD0900121  0.026279\n",
       "1  CUST0000010712  PRD0900121  0.010000\n",
       "2  CUST0000010921  PRD0900121  0.010000\n",
       "3  CUST0000016376  PRD0900121  0.014651\n",
       "4  CUST0000016975  PRD0900121  0.010000"
      ]
     },
     "execution_count": 14,
     "metadata": {},
     "output_type": "execute_result"
    }
   ],
   "source": [
    "test_df, train_df = prep_als.create_als_train_test(train_df_normal, frac=0.1)\n",
    "test_df.head()"
   ]
  },
  {
   "cell_type": "markdown",
   "metadata": {},
   "source": [
    "### Create the index mapping on CUST_CODE and PROD_CODE\n",
    "\n",
    "The ALS aglorithm requires that the customer vector and product vector be integers - these functions create and merge the mapping"
   ]
  },
  {
   "cell_type": "code",
   "execution_count": 15,
   "metadata": {},
   "outputs": [],
   "source": [
    "# Create the customer and items mapping files\n",
    "train_cust_mapping = prep_als.create_mapping(train_df, \"CUST_CODE\")"
   ]
  },
  {
   "cell_type": "code",
   "execution_count": 16,
   "metadata": {},
   "outputs": [],
   "source": [
    "train_items_mapping = prep_als.create_mapping(train_df, \"PROD_CODE\")"
   ]
  },
  {
   "cell_type": "code",
   "execution_count": 17,
   "metadata": {},
   "outputs": [
    {
     "data": {
      "text/html": [
       "<div>\n",
       "<style scoped>\n",
       "    .dataframe tbody tr th:only-of-type {\n",
       "        vertical-align: middle;\n",
       "    }\n",
       "\n",
       "    .dataframe tbody tr th {\n",
       "        vertical-align: top;\n",
       "    }\n",
       "\n",
       "    .dataframe thead th {\n",
       "        text-align: right;\n",
       "    }\n",
       "</style>\n",
       "<table border=\"1\" class=\"dataframe\">\n",
       "  <thead>\n",
       "    <tr style=\"text-align: right;\">\n",
       "      <th></th>\n",
       "      <th>CUST_CODE</th>\n",
       "      <th>PROD_CODE</th>\n",
       "      <th>QUANTITY</th>\n",
       "      <th>index_CUST_CODE</th>\n",
       "      <th>index_PROD_CODE</th>\n",
       "    </tr>\n",
       "  </thead>\n",
       "  <tbody>\n",
       "    <tr>\n",
       "      <th>0</th>\n",
       "      <td>CUST0000000013</td>\n",
       "      <td>PRD0900121</td>\n",
       "      <td>0.010</td>\n",
       "      <td>0</td>\n",
       "      <td>120</td>\n",
       "    </tr>\n",
       "    <tr>\n",
       "      <th>6925</th>\n",
       "      <td>CUST0000000013</td>\n",
       "      <td>PRD0903497</td>\n",
       "      <td>0.010</td>\n",
       "      <td>0</td>\n",
       "      <td>3496</td>\n",
       "    </tr>\n",
       "    <tr>\n",
       "      <th>4899</th>\n",
       "      <td>CUST0000000013</td>\n",
       "      <td>PRD0902522</td>\n",
       "      <td>0.035</td>\n",
       "      <td>0</td>\n",
       "      <td>2521</td>\n",
       "    </tr>\n",
       "    <tr>\n",
       "      <th>3202</th>\n",
       "      <td>CUST0000000013</td>\n",
       "      <td>PRD0901297</td>\n",
       "      <td>0.010</td>\n",
       "      <td>0</td>\n",
       "      <td>1296</td>\n",
       "    </tr>\n",
       "    <tr>\n",
       "      <th>5613</th>\n",
       "      <td>CUST0000000013</td>\n",
       "      <td>PRD0902846</td>\n",
       "      <td>0.010</td>\n",
       "      <td>0</td>\n",
       "      <td>2845</td>\n",
       "    </tr>\n",
       "  </tbody>\n",
       "</table>\n",
       "</div>"
      ],
      "text/plain": [
       "           CUST_CODE   PROD_CODE  QUANTITY  index_CUST_CODE  index_PROD_CODE\n",
       "0     CUST0000000013  PRD0900121     0.010                0              120\n",
       "6925  CUST0000000013  PRD0903497     0.010                0             3496\n",
       "4899  CUST0000000013  PRD0902522     0.035                0             2521\n",
       "3202  CUST0000000013  PRD0901297     0.010                0             1296\n",
       "5613  CUST0000000013  PRD0902846     0.010                0             2845"
      ]
     },
     "execution_count": 17,
     "metadata": {},
     "output_type": "execute_result"
    }
   ],
   "source": [
    "train_df_mapped = prep_als.merge_mapping(\n",
    "    train_df, train_cust_mapping, train_items_mapping\n",
    ")\n",
    "train_df_mapped.sort_values([\"CUST_CODE\"]).head()"
   ]
  },
  {
   "cell_type": "code",
   "execution_count": 18,
   "metadata": {},
   "outputs": [
    {
     "data": {
      "text/html": [
       "<div>\n",
       "<style scoped>\n",
       "    .dataframe tbody tr th:only-of-type {\n",
       "        vertical-align: middle;\n",
       "    }\n",
       "\n",
       "    .dataframe tbody tr th {\n",
       "        vertical-align: top;\n",
       "    }\n",
       "\n",
       "    .dataframe thead th {\n",
       "        text-align: right;\n",
       "    }\n",
       "</style>\n",
       "<table border=\"1\" class=\"dataframe\">\n",
       "  <thead>\n",
       "    <tr style=\"text-align: right;\">\n",
       "      <th></th>\n",
       "      <th>CUST_CODE</th>\n",
       "      <th>PROD_CODE</th>\n",
       "      <th>QUANTITY</th>\n",
       "      <th>index_CUST_CODE</th>\n",
       "      <th>index_PROD_CODE</th>\n",
       "    </tr>\n",
       "  </thead>\n",
       "  <tbody>\n",
       "    <tr>\n",
       "      <th>29036</th>\n",
       "      <td>CUST0000000013</td>\n",
       "      <td>PRD0904158</td>\n",
       "      <td>0.038846</td>\n",
       "      <td>0</td>\n",
       "      <td>4157</td>\n",
       "    </tr>\n",
       "    <tr>\n",
       "      <th>11559</th>\n",
       "      <td>CUST0000000013</td>\n",
       "      <td>PRD0900139</td>\n",
       "      <td>0.010000</td>\n",
       "      <td>0</td>\n",
       "      <td>138</td>\n",
       "    </tr>\n",
       "    <tr>\n",
       "      <th>29347</th>\n",
       "      <td>CUST0000000013</td>\n",
       "      <td>PRD0902860</td>\n",
       "      <td>0.010000</td>\n",
       "      <td>0</td>\n",
       "      <td>2859</td>\n",
       "    </tr>\n",
       "    <tr>\n",
       "      <th>20620</th>\n",
       "      <td>CUST0000000013</td>\n",
       "      <td>PRD0904311</td>\n",
       "      <td>0.010000</td>\n",
       "      <td>0</td>\n",
       "      <td>4310</td>\n",
       "    </tr>\n",
       "    <tr>\n",
       "      <th>29755</th>\n",
       "      <td>CUST0000000055</td>\n",
       "      <td>PRD0901006</td>\n",
       "      <td>1.010000</td>\n",
       "      <td>1</td>\n",
       "      <td>1005</td>\n",
       "    </tr>\n",
       "  </tbody>\n",
       "</table>\n",
       "</div>"
      ],
      "text/plain": [
       "            CUST_CODE   PROD_CODE  QUANTITY  index_CUST_CODE  index_PROD_CODE\n",
       "29036  CUST0000000013  PRD0904158  0.038846                0             4157\n",
       "11559  CUST0000000013  PRD0900139  0.010000                0              138\n",
       "29347  CUST0000000013  PRD0902860  0.010000                0             2859\n",
       "20620  CUST0000000013  PRD0904311  0.010000                0             4310\n",
       "29755  CUST0000000055  PRD0901006  1.010000                1             1005"
      ]
     },
     "execution_count": 18,
     "metadata": {},
     "output_type": "execute_result"
    }
   ],
   "source": [
    "test_df_mapped = prep_als.merge_mapping(\n",
    "    test_df, train_cust_mapping, train_items_mapping\n",
    ")\n",
    "test_df_mapped.sort_values([\"CUST_CODE\"]).head()"
   ]
  },
  {
   "cell_type": "markdown",
   "metadata": {},
   "source": [
    "### Create the sparse matrix required by ALS"
   ]
  },
  {
   "cell_type": "code",
   "execution_count": 19,
   "metadata": {},
   "outputs": [],
   "source": [
    "purchases_sparse = prep_als.create_sparse_matrix(train_df_mapped)"
   ]
  },
  {
   "cell_type": "code",
   "execution_count": 20,
   "metadata": {},
   "outputs": [
    {
     "data": {
      "text/plain": [
       "<4997x4364 sparse matrix of type '<class 'numpy.float64'>'\n",
       "\twith 427908 stored elements in Compressed Sparse Row format>"
      ]
     },
     "execution_count": 20,
     "metadata": {},
     "output_type": "execute_result"
    }
   ],
   "source": [
    "purchases_sparse"
   ]
  },
  {
   "cell_type": "code",
   "execution_count": 21,
   "metadata": {},
   "outputs": [
    {
     "data": {
      "text/plain": [
       "98.03774106810557"
      ]
     },
     "execution_count": 21,
     "metadata": {},
     "output_type": "execute_result"
    }
   ],
   "source": [
    "# Check the sparsity of the matrix\n",
    "matrix_size = purchases_sparse.shape[0] * purchases_sparse.shape[1]\n",
    "num_purchases = len(purchases_sparse.nonzero()[0])\n",
    "sparsity = 100 * (1 - (num_purchases / matrix_size))\n",
    "sparsity"
   ]
  },
  {
   "cell_type": "markdown",
   "metadata": {},
   "source": [
    "### Hyperparameter tuning\n",
    "\n",
    "Tune the alpha, number of factors, regularization parameter and number of iterations"
   ]
  },
  {
   "cell_type": "code",
   "execution_count": 22,
   "metadata": {},
   "outputs": [],
   "source": [
    "# Create the object to fit and tune ALS\n",
    "als_model = fit_and_tune_als(purchases_sparse)"
   ]
  },
  {
   "cell_type": "code",
   "execution_count": 23,
   "metadata": {},
   "outputs": [],
   "source": [
    "# Define the search space\n",
    "space = {\n",
    "    \"alpha\": hp.choice(\"alpha\", np.arange(5, 50 + 1, 5, dtype=int)),\n",
    "    \"num_factors\": hp.choice(\"num_factors\", np.arange(5, 30 + 1, 5, dtype=int)),\n",
    "    \"reg\": hp.choice(\"reg\", np.arange(20, 100 + 1, 1, dtype=int)),\n",
    "    \"iters\": hp.choice(\"iters\", np.arange(50, 500 + 1, 1, dtype=int)),\n",
    "}"
   ]
  },
  {
   "cell_type": "code",
   "execution_count": 27,
   "metadata": {},
   "outputs": [
    {
     "name": "stdout",
     "output_type": "stream",
     "text": [
      "{'alpha': 30, 'iters': 66, 'num_factors': 20, 'reg': 48}\n",
      "  0%|          | 0/25 [00:00<?, ?trial/s, best loss=?]"
     ]
    },
    {
     "data": {
      "application/vnd.jupyter.widget-view+json": {
       "model_id": "4c2fb58a50b640ad9c6d22fa3cfa023d",
       "version_major": 2,
       "version_minor": 0
      },
      "text/plain": [
       "HBox(children=(FloatProgress(value=0.0, max=66.0), HTML(value='')))"
      ]
     },
     "metadata": {},
     "output_type": "display_data"
    },
    {
     "name": "stdout",
     "output_type": "stream",
     "text": [
      "training set mse = 0.03627169453340195, test set mse = 0.03618040960134297\n",
      "{'alpha': 15, 'iters': 490, 'num_factors': 30, 'reg': 84}                        \n",
      "  4%|▍         | 1/25 [00:46<18:38, 46.59s/trial, best loss: 0.03618040960134297]"
     ]
    },
    {
     "data": {
      "application/vnd.jupyter.widget-view+json": {
       "model_id": "99deb2007049448e82b720c7c76ece3d",
       "version_major": 2,
       "version_minor": 0
      },
      "text/plain": [
       "HBox(children=(FloatProgress(value=0.0, max=490.0), HTML(value='')))"
      ]
     },
     "metadata": {},
     "output_type": "display_data"
    },
    {
     "name": "stdout",
     "output_type": "stream",
     "text": [
      "training set mse = 0.029929838769721395, test set mse = 0.030053972420318792     \n",
      "{'alpha': 40, 'iters': 123, 'num_factors': 30, 'reg': 96}                         \n",
      "  8%|▊         | 2/25 [02:25<23:51, 62.25s/trial, best loss: 0.030053972420318792]"
     ]
    },
    {
     "data": {
      "application/vnd.jupyter.widget-view+json": {
       "model_id": "fcd0290245a54271aed937ddb61c9990",
       "version_major": 2,
       "version_minor": 0
      },
      "text/plain": [
       "HBox(children=(FloatProgress(value=0.0, max=123.0), HTML(value='')))"
      ]
     },
     "metadata": {},
     "output_type": "display_data"
    },
    {
     "name": "stdout",
     "output_type": "stream",
     "text": [
      "training set mse = 0.03477960829053879, test set mse = 0.03470095477860223        \n",
      "{'alpha': 5, 'iters': 308, 'num_factors': 10, 'reg': 60}                          \n",
      " 12%|█▏        | 3/25 [03:19<21:52, 59.65s/trial, best loss: 0.030053972420318792]"
     ]
    },
    {
     "data": {
      "application/vnd.jupyter.widget-view+json": {
       "model_id": "7f10bff0562149dcaffd891babda00d9",
       "version_major": 2,
       "version_minor": 0
      },
      "text/plain": [
       "HBox(children=(FloatProgress(value=0.0, max=308.0), HTML(value='')))"
      ]
     },
     "metadata": {},
     "output_type": "display_data"
    },
    {
     "name": "stdout",
     "output_type": "stream",
     "text": [
      "training set mse = 0.032733305700053394, test set mse = 0.032938359186101766      \n",
      "{'alpha': 15, 'iters': 125, 'num_factors': 15, 'reg': 85}                         \n",
      " 16%|█▌        | 4/25 [04:22<21:19, 60.91s/trial, best loss: 0.030053972420318792]"
     ]
    },
    {
     "data": {
      "application/vnd.jupyter.widget-view+json": {
       "model_id": "abf5a66c98f7499db60fb2d087a85b4c",
       "version_major": 2,
       "version_minor": 0
      },
      "text/plain": [
       "HBox(children=(FloatProgress(value=0.0, max=125.0), HTML(value='')))"
      ]
     },
     "metadata": {},
     "output_type": "display_data"
    },
    {
     "name": "stdout",
     "output_type": "stream",
     "text": [
      "training set mse = 0.029929530653460292, test set mse = 0.030055788857266463      \n",
      "{'alpha': 20, 'iters': 194, 'num_factors': 15, 'reg': 75}                         \n",
      " 20%|██        | 5/25 [05:17<19:38, 58.91s/trial, best loss: 0.030053972420318792]"
     ]
    },
    {
     "data": {
      "application/vnd.jupyter.widget-view+json": {
       "model_id": "ad44bd12764e4abdb7b20911f6d62321",
       "version_major": 2,
       "version_minor": 0
      },
      "text/plain": [
       "HBox(children=(FloatProgress(value=0.0, max=194.0), HTML(value='')))"
      ]
     },
     "metadata": {},
     "output_type": "display_data"
    },
    {
     "name": "stdout",
     "output_type": "stream",
     "text": [
      "training set mse = 0.030325374554388284, test set mse = 0.030353710517152514      \n",
      "{'alpha': 20, 'iters': 105, 'num_factors': 10, 'reg': 97}                         \n",
      " 24%|██▍       | 6/25 [06:21<19:07, 60.41s/trial, best loss: 0.030053972420318792]"
     ]
    },
    {
     "data": {
      "application/vnd.jupyter.widget-view+json": {
       "model_id": "953e826cfead4feca0b109acb59425cd",
       "version_major": 2,
       "version_minor": 0
      },
      "text/plain": [
       "HBox(children=(FloatProgress(value=0.0, max=105.0), HTML(value='')))"
      ]
     },
     "metadata": {},
     "output_type": "display_data"
    },
    {
     "name": "stdout",
     "output_type": "stream",
     "text": [
      "training set mse = 0.029759712243755645, test set mse = 0.029835973223929838      \n",
      "{'alpha': 5, 'iters': 59, 'num_factors': 20, 'reg': 82}                           \n",
      " 28%|██▊       | 7/25 [07:10<17:11, 57.29s/trial, best loss: 0.029835973223929838]"
     ]
    },
    {
     "data": {
      "application/vnd.jupyter.widget-view+json": {
       "model_id": "e5ee8c3aef7c43d098f0648d8d5019e2",
       "version_major": 2,
       "version_minor": 0
      },
      "text/plain": [
       "HBox(children=(FloatProgress(value=0.0, max=59.0), HTML(value='')))"
      ]
     },
     "metadata": {},
     "output_type": "display_data"
    },
    {
     "name": "stdout",
     "output_type": "stream",
     "text": [
      "training set mse = 0.03362193346548751, test set mse = 0.03383080120619972        \n",
      "{'alpha': 40, 'iters': 165, 'num_factors': 20, 'reg': 36}                         \n",
      " 32%|███▏      | 8/25 [07:55<15:07, 53.39s/trial, best loss: 0.029835973223929838]"
     ]
    },
    {
     "data": {
      "application/vnd.jupyter.widget-view+json": {
       "model_id": "46cf33e368304c689c0e789ea6232389",
       "version_major": 2,
       "version_minor": 0
      },
      "text/plain": [
       "HBox(children=(FloatProgress(value=0.0, max=165.0), HTML(value='')))"
      ]
     },
     "metadata": {},
     "output_type": "display_data"
    },
    {
     "name": "stdout",
     "output_type": "stream",
     "text": [
      "training set mse = 0.04310676834296971, test set mse = 0.04290550024258016        \n",
      "{'alpha': 5, 'iters': 121, 'num_factors': 10, 'reg': 94}                          \n",
      " 36%|███▌      | 9/25 [08:52<14:33, 54.57s/trial, best loss: 0.029835973223929838]"
     ]
    },
    {
     "data": {
      "application/vnd.jupyter.widget-view+json": {
       "model_id": "deb8475c3e4b4b5294bec1c4732f7300",
       "version_major": 2,
       "version_minor": 0
      },
      "text/plain": [
       "HBox(children=(FloatProgress(value=0.0, max=121.0), HTML(value='')))"
      ]
     },
     "metadata": {},
     "output_type": "display_data"
    },
    {
     "name": "stdout",
     "output_type": "stream",
     "text": [
      "training set mse = 0.033925599262011476, test set mse = 0.0341354271229482        \n",
      "{'alpha': 15, 'iters': 56, 'num_factors': 30, 'reg': 75}                           \n",
      " 40%|████      | 10/25 [09:39<13:02, 52.15s/trial, best loss: 0.029835973223929838]"
     ]
    },
    {
     "data": {
      "application/vnd.jupyter.widget-view+json": {
       "model_id": "40752c0e62fc429d88de547e8bf26805",
       "version_major": 2,
       "version_minor": 0
      },
      "text/plain": [
       "HBox(children=(FloatProgress(value=0.0, max=56.0), HTML(value='')))"
      ]
     },
     "metadata": {},
     "output_type": "display_data"
    },
    {
     "name": "stdout",
     "output_type": "stream",
     "text": [
      "training set mse = 0.02996604421075266, test set mse = 0.030068370802880325        \n",
      "{'alpha': 25, 'iters': 354, 'num_factors': 30, 'reg': 82}                          \n",
      " 44%|████▍     | 11/25 [10:24<11:41, 50.08s/trial, best loss: 0.029835973223929838]"
     ]
    },
    {
     "data": {
      "application/vnd.jupyter.widget-view+json": {
       "model_id": "f0775842fbc24a94ad2e1bb6562e768b",
       "version_major": 2,
       "version_minor": 0
      },
      "text/plain": [
       "HBox(children=(FloatProgress(value=0.0, max=354.0), HTML(value='')))"
      ]
     },
     "metadata": {},
     "output_type": "display_data"
    },
    {
     "name": "stdout",
     "output_type": "stream",
     "text": [
      "training set mse = 0.030975688679626447, test set mse = 0.030992029860445216       \n",
      "{'alpha': 10, 'iters': 332, 'num_factors': 5, 'reg': 51}                           \n",
      " 48%|████▊     | 12/25 [11:46<12:56, 59.70s/trial, best loss: 0.029835973223929838]"
     ]
    },
    {
     "data": {
      "application/vnd.jupyter.widget-view+json": {
       "model_id": "553edd4eabea48ffa97c298a826c708a",
       "version_major": 2,
       "version_minor": 0
      },
      "text/plain": [
       "HBox(children=(FloatProgress(value=0.0, max=332.0), HTML(value='')))"
      ]
     },
     "metadata": {},
     "output_type": "display_data"
    },
    {
     "name": "stdout",
     "output_type": "stream",
     "text": [
      "training set mse = 0.030549621541388607, test set mse = 0.030689159811745657       \n",
      "{'alpha': 25, 'iters': 333, 'num_factors': 10, 'reg': 37}                          \n",
      " 52%|█████▏    | 13/25 [12:59<12:45, 63.80s/trial, best loss: 0.029835973223929838]"
     ]
    },
    {
     "data": {
      "application/vnd.jupyter.widget-view+json": {
       "model_id": "79cf171fede4440db4755f6845871b61",
       "version_major": 2,
       "version_minor": 0
      },
      "text/plain": [
       "HBox(children=(FloatProgress(value=0.0, max=333.0), HTML(value='')))"
      ]
     },
     "metadata": {},
     "output_type": "display_data"
    },
    {
     "name": "stdout",
     "output_type": "stream",
     "text": [
      "training set mse = 0.0344791338576603, test set mse = 0.03431656305570683          \n",
      "{'alpha': 15, 'iters': 258, 'num_factors': 10, 'reg': 35}                          \n",
      " 56%|█████▌    | 14/25 [14:14<12:18, 67.14s/trial, best loss: 0.029835973223929838]"
     ]
    },
    {
     "data": {
      "application/vnd.jupyter.widget-view+json": {
       "model_id": "d28ebea6a0bc4bec8e43bacafe4bcd8e",
       "version_major": 2,
       "version_minor": 0
      },
      "text/plain": [
       "HBox(children=(FloatProgress(value=0.0, max=258.0), HTML(value='')))"
      ]
     },
     "metadata": {},
     "output_type": "display_data"
    },
    {
     "name": "stdout",
     "output_type": "stream",
     "text": [
      "training set mse = 0.031371743395487414, test set mse = 0.031353746412157456       \n",
      "{'alpha': 30, 'iters': 441, 'num_factors': 15, 'reg': 29}                          \n",
      " 60%|██████    | 15/25 [15:23<11:15, 67.51s/trial, best loss: 0.029835973223929838]"
     ]
    },
    {
     "data": {
      "application/vnd.jupyter.widget-view+json": {
       "model_id": "375f52f201e34717bc4ca04856fa0841",
       "version_major": 2,
       "version_minor": 0
      },
      "text/plain": [
       "HBox(children=(FloatProgress(value=0.0, max=441.0), HTML(value='')))"
      ]
     },
     "metadata": {},
     "output_type": "display_data"
    },
    {
     "name": "stdout",
     "output_type": "stream",
     "text": [
      "training set mse = 0.03862435292018019, test set mse = 0.038492265364709406        \n",
      "{'alpha': 10, 'iters': 485, 'num_factors': 25, 'reg': 27}                          \n",
      " 64%|██████▍   | 16/25 [16:55<11:14, 74.98s/trial, best loss: 0.029835973223929838]"
     ]
    },
    {
     "data": {
      "application/vnd.jupyter.widget-view+json": {
       "model_id": "479f6cc14400429295bff61f2705b1ab",
       "version_major": 2,
       "version_minor": 0
      },
      "text/plain": [
       "HBox(children=(FloatProgress(value=0.0, max=485.0), HTML(value='')))"
      ]
     },
     "metadata": {},
     "output_type": "display_data"
    },
    {
     "name": "stdout",
     "output_type": "stream",
     "text": [
      "training set mse = 0.031493649152317275, test set mse = 0.03158991968487608        \n",
      "{'alpha': 40, 'iters': 407, 'num_factors': 10, 'reg': 96}                          \n",
      " 68%|██████▊   | 17/25 [18:35<10:59, 82.49s/trial, best loss: 0.029835973223929838]"
     ]
    },
    {
     "data": {
      "application/vnd.jupyter.widget-view+json": {
       "model_id": "987508229ee642ec9cfa7664cbb3185d",
       "version_major": 2,
       "version_minor": 0
      },
      "text/plain": [
       "HBox(children=(FloatProgress(value=0.0, max=407.0), HTML(value='')))"
      ]
     },
     "metadata": {},
     "output_type": "display_data"
    },
    {
     "name": "stdout",
     "output_type": "stream",
     "text": [
      "training set mse = 0.03527269104278084, test set mse = 0.03511539756268442         \n",
      "{'alpha': 10, 'iters': 434, 'num_factors': 15, 'reg': 45}                          \n",
      " 72%|███████▏  | 18/25 [19:58<09:38, 82.63s/trial, best loss: 0.029835973223929838]"
     ]
    },
    {
     "data": {
      "application/vnd.jupyter.widget-view+json": {
       "model_id": "ea557e501c7046eb881ebbf7b85747ae",
       "version_major": 2,
       "version_minor": 0
      },
      "text/plain": [
       "HBox(children=(FloatProgress(value=0.0, max=434.0), HTML(value='')))"
      ]
     },
     "metadata": {},
     "output_type": "display_data"
    },
    {
     "name": "stdout",
     "output_type": "stream",
     "text": [
      "training set mse = 0.030624690197687092, test set mse = 0.03072411786365437        \n",
      "{'alpha': 20, 'iters': 317, 'num_factors': 25, 'reg': 99}                          \n",
      " 76%|███████▌  | 19/25 [21:31<08:34, 85.75s/trial, best loss: 0.029835973223929838]"
     ]
    },
    {
     "data": {
      "application/vnd.jupyter.widget-view+json": {
       "model_id": "9fcebf21cbd84db2b24d05c4018a1710",
       "version_major": 2,
       "version_minor": 0
      },
      "text/plain": [
       "HBox(children=(FloatProgress(value=0.0, max=317.0), HTML(value='')))"
      ]
     },
     "metadata": {},
     "output_type": "display_data"
    },
    {
     "name": "stdout",
     "output_type": "stream",
     "text": [
      "training set mse = 0.029732345382252907, test set mse = 0.02981395450112164        \n",
      "{'alpha': 20, 'iters': 102, 'num_factors': 25, 'reg': 99}                          \n",
      " 80%|████████  | 20/25 [22:49<06:56, 83.28s/trial, best loss: 0.02981395450112164]"
     ]
    },
    {
     "data": {
      "application/vnd.jupyter.widget-view+json": {
       "model_id": "1ab730d7955f4c658f560e2eefafb131",
       "version_major": 2,
       "version_minor": 0
      },
      "text/plain": [
       "HBox(children=(FloatProgress(value=0.0, max=102.0), HTML(value='')))"
      ]
     },
     "metadata": {},
     "output_type": "display_data"
    },
    {
     "name": "stdout",
     "output_type": "stream",
     "text": [
      "training set mse = 0.029732755328155648, test set mse = 0.02981407767487767       \n",
      "{'alpha': 45, 'iters': 415, 'num_factors': 25, 'reg': 63}                         \n",
      " 84%|████████▍ | 21/25 [23:40<04:54, 73.72s/trial, best loss: 0.02981395450112164]"
     ]
    },
    {
     "data": {
      "application/vnd.jupyter.widget-view+json": {
       "model_id": "b716b22cd5d44217bf516f9f7a5c9c8e",
       "version_major": 2,
       "version_minor": 0
      },
      "text/plain": [
       "HBox(children=(FloatProgress(value=0.0, max=415.0), HTML(value='')))"
      ]
     },
     "metadata": {},
     "output_type": "display_data"
    },
    {
     "name": "stdout",
     "output_type": "stream",
     "text": [
      "training set mse = 0.041133498591721905, test set mse = 0.04102108093165262       \n",
      "{'alpha': 50, 'iters': 317, 'num_factors': 25, 'reg': 99}                         \n",
      " 88%|████████▊ | 22/25 [25:10<03:56, 78.72s/trial, best loss: 0.02981395450112164]"
     ]
    },
    {
     "data": {
      "application/vnd.jupyter.widget-view+json": {
       "model_id": "b4fe11818ad247548f2d2314eef36000",
       "version_major": 2,
       "version_minor": 0
      },
      "text/plain": [
       "HBox(children=(FloatProgress(value=0.0, max=317.0), HTML(value='')))"
      ]
     },
     "metadata": {},
     "output_type": "display_data"
    },
    {
     "name": "stdout",
     "output_type": "stream",
     "text": [
      "training set mse = 0.03866753718527553, test set mse = 0.03851370044644811        \n",
      "{'alpha': 20, 'iters': 312, 'num_factors': 25, 'reg': 79}                         \n",
      " 92%|█████████▏| 23/25 [26:28<02:36, 78.46s/trial, best loss: 0.02981395450112164]"
     ]
    },
    {
     "data": {
      "application/vnd.jupyter.widget-view+json": {
       "model_id": "dd3fb990b8f544fe9a50ee595bb029be",
       "version_major": 2,
       "version_minor": 0
      },
      "text/plain": [
       "HBox(children=(FloatProgress(value=0.0, max=312.0), HTML(value='')))"
      ]
     },
     "metadata": {},
     "output_type": "display_data"
    },
    {
     "name": "stdout",
     "output_type": "stream",
     "text": [
      "training set mse = 0.030149847631076414, test set mse = 0.0302042021320837        \n",
      "{'alpha': 35, 'iters': 207, 'num_factors': 25, 'reg': 99}                         \n",
      " 96%|█████████▌| 24/25 [27:46<01:18, 78.13s/trial, best loss: 0.02981395450112164]"
     ]
    },
    {
     "data": {
      "application/vnd.jupyter.widget-view+json": {
       "model_id": "f6ec3d90836a4bebad0acdc794ed62a8",
       "version_major": 2,
       "version_minor": 0
      },
      "text/plain": [
       "HBox(children=(FloatProgress(value=0.0, max=207.0), HTML(value='')))"
      ]
     },
     "metadata": {},
     "output_type": "display_data"
    },
    {
     "name": "stdout",
     "output_type": "stream",
     "text": [
      "training set mse = 0.03289550930960691, test set mse = 0.032838726844795045       \n",
      "100%|██████████| 25/25 [28:50<00:00, 69.21s/trial, best loss: 0.02981395450112164]\n"
     ]
    }
   ],
   "source": [
    "best = als_model.tune_params(\n",
    "    search_space=space,\n",
    "    out_file=\"./als_trials.csv\",\n",
    "    max_evals=25,\n",
    "    train_df=train_df_mapped,\n",
    "    test_df=test_df_mapped,\n",
    ")"
   ]
  },
  {
   "cell_type": "code",
   "execution_count": 28,
   "metadata": {},
   "outputs": [
    {
     "data": {
      "text/html": [
       "<div>\n",
       "<style scoped>\n",
       "    .dataframe tbody tr th:only-of-type {\n",
       "        vertical-align: middle;\n",
       "    }\n",
       "\n",
       "    .dataframe tbody tr th {\n",
       "        vertical-align: top;\n",
       "    }\n",
       "\n",
       "    .dataframe thead th {\n",
       "        text-align: right;\n",
       "    }\n",
       "</style>\n",
       "<table border=\"1\" class=\"dataframe\">\n",
       "  <thead>\n",
       "    <tr style=\"text-align: right;\">\n",
       "      <th></th>\n",
       "      <th>loss</th>\n",
       "      <th>params</th>\n",
       "      <th>iteration</th>\n",
       "      <th>train_time</th>\n",
       "      <th>status</th>\n",
       "    </tr>\n",
       "  </thead>\n",
       "  <tbody>\n",
       "    <tr>\n",
       "      <th>0</th>\n",
       "      <td>0.029814</td>\n",
       "      <td>{'alpha': 20, 'iters': 317, 'num_factors': 25,...</td>\n",
       "      <td>20</td>\n",
       "      <td>77.472350</td>\n",
       "      <td>ok</td>\n",
       "    </tr>\n",
       "    <tr>\n",
       "      <th>1</th>\n",
       "      <td>0.029814</td>\n",
       "      <td>{'alpha': 20, 'iters': 102, 'num_factors': 25,...</td>\n",
       "      <td>21</td>\n",
       "      <td>51.367907</td>\n",
       "      <td>ok</td>\n",
       "    </tr>\n",
       "    <tr>\n",
       "      <th>2</th>\n",
       "      <td>0.029836</td>\n",
       "      <td>{'alpha': 20, 'iters': 105, 'num_factors': 10,...</td>\n",
       "      <td>7</td>\n",
       "      <td>49.947693</td>\n",
       "      <td>ok</td>\n",
       "    </tr>\n",
       "    <tr>\n",
       "      <th>3</th>\n",
       "      <td>0.030054</td>\n",
       "      <td>{'alpha': 15, 'iters': 490, 'num_factors': 30,...</td>\n",
       "      <td>2</td>\n",
       "      <td>98.720767</td>\n",
       "      <td>ok</td>\n",
       "    </tr>\n",
       "    <tr>\n",
       "      <th>4</th>\n",
       "      <td>0.030056</td>\n",
       "      <td>{'alpha': 15, 'iters': 125, 'num_factors': 15,...</td>\n",
       "      <td>5</td>\n",
       "      <td>54.183241</td>\n",
       "      <td>ok</td>\n",
       "    </tr>\n",
       "  </tbody>\n",
       "</table>\n",
       "</div>"
      ],
      "text/plain": [
       "       loss                                             params  iteration  \\\n",
       "0  0.029814  {'alpha': 20, 'iters': 317, 'num_factors': 25,...         20   \n",
       "1  0.029814  {'alpha': 20, 'iters': 102, 'num_factors': 25,...         21   \n",
       "2  0.029836  {'alpha': 20, 'iters': 105, 'num_factors': 10,...          7   \n",
       "3  0.030054  {'alpha': 15, 'iters': 490, 'num_factors': 30,...          2   \n",
       "4  0.030056  {'alpha': 15, 'iters': 125, 'num_factors': 15,...          5   \n",
       "\n",
       "   train_time status  \n",
       "0   77.472350     ok  \n",
       "1   51.367907     ok  \n",
       "2   49.947693     ok  \n",
       "3   98.720767     ok  \n",
       "4   54.183241     ok  "
      ]
     },
     "execution_count": 28,
     "metadata": {},
     "output_type": "execute_result"
    }
   ],
   "source": [
    "results = pd.read_csv(\"./als_trials.csv\")\n",
    "\n",
    "# Sort with best scores on top and reset index for slicing\n",
    "results.sort_values(\"loss\", ascending=True, inplace=True)\n",
    "results.reset_index(inplace=True, drop=True)\n",
    "results.head()"
   ]
  },
  {
   "cell_type": "code",
   "execution_count": 29,
   "metadata": {},
   "outputs": [
    {
     "data": {
      "text/plain": [
       "{'alpha': 20, 'iters': 317, 'num_factors': 25, 'reg': 99}"
      ]
     },
     "execution_count": 29,
     "metadata": {},
     "output_type": "execute_result"
    }
   ],
   "source": [
    "best_params = ast.literal_eval(results.loc[0, \"params\"]).copy()\n",
    "best_params"
   ]
  },
  {
   "cell_type": "markdown",
   "metadata": {},
   "source": [
    "### Visualize the hyperparameter search"
   ]
  },
  {
   "cell_type": "code",
   "execution_count": 30,
   "metadata": {},
   "outputs": [
    {
     "data": {
      "text/html": [
       "<div>\n",
       "<style scoped>\n",
       "    .dataframe tbody tr th:only-of-type {\n",
       "        vertical-align: middle;\n",
       "    }\n",
       "\n",
       "    .dataframe tbody tr th {\n",
       "        vertical-align: top;\n",
       "    }\n",
       "\n",
       "    .dataframe thead th {\n",
       "        text-align: right;\n",
       "    }\n",
       "</style>\n",
       "<table border=\"1\" class=\"dataframe\">\n",
       "  <thead>\n",
       "    <tr style=\"text-align: right;\">\n",
       "      <th></th>\n",
       "      <th>alpha</th>\n",
       "      <th>iters</th>\n",
       "      <th>num_factors</th>\n",
       "      <th>reg</th>\n",
       "      <th>loss</th>\n",
       "      <th>iteration</th>\n",
       "    </tr>\n",
       "  </thead>\n",
       "  <tbody>\n",
       "    <tr>\n",
       "      <th>0</th>\n",
       "      <td>20</td>\n",
       "      <td>317</td>\n",
       "      <td>25</td>\n",
       "      <td>99</td>\n",
       "      <td>0.029814</td>\n",
       "      <td>20</td>\n",
       "    </tr>\n",
       "    <tr>\n",
       "      <th>1</th>\n",
       "      <td>20</td>\n",
       "      <td>102</td>\n",
       "      <td>25</td>\n",
       "      <td>99</td>\n",
       "      <td>0.029814</td>\n",
       "      <td>21</td>\n",
       "    </tr>\n",
       "    <tr>\n",
       "      <th>2</th>\n",
       "      <td>20</td>\n",
       "      <td>105</td>\n",
       "      <td>10</td>\n",
       "      <td>97</td>\n",
       "      <td>0.029836</td>\n",
       "      <td>7</td>\n",
       "    </tr>\n",
       "    <tr>\n",
       "      <th>3</th>\n",
       "      <td>15</td>\n",
       "      <td>490</td>\n",
       "      <td>30</td>\n",
       "      <td>84</td>\n",
       "      <td>0.030054</td>\n",
       "      <td>2</td>\n",
       "    </tr>\n",
       "    <tr>\n",
       "      <th>4</th>\n",
       "      <td>15</td>\n",
       "      <td>125</td>\n",
       "      <td>15</td>\n",
       "      <td>85</td>\n",
       "      <td>0.030056</td>\n",
       "      <td>5</td>\n",
       "    </tr>\n",
       "  </tbody>\n",
       "</table>\n",
       "</div>"
      ],
      "text/plain": [
       "   alpha  iters  num_factors  reg      loss  iteration\n",
       "0     20    317           25   99  0.029814         20\n",
       "1     20    102           25   99  0.029814         21\n",
       "2     20    105           10   97  0.029836          7\n",
       "3     15    490           30   84  0.030054          2\n",
       "4     15    125           15   85  0.030056          5"
      ]
     },
     "execution_count": 30,
     "metadata": {},
     "output_type": "execute_result"
    }
   ],
   "source": [
    "bayes_params = pd.DataFrame(\n",
    "    columns=list(ast.literal_eval(results.loc[0, \"params\"]).keys()),\n",
    "    index=list(range(len(results))),\n",
    ")\n",
    "\n",
    "# Add the results with each parameter a different column\n",
    "for i, params in enumerate(results[\"params\"]):\n",
    "    bayes_params.loc[i, :] = list(ast.literal_eval(params).values())\n",
    "\n",
    "bayes_params[\"loss\"] = results[\"loss\"]\n",
    "bayes_params[\"iteration\"] = results[\"iteration\"]\n",
    "\n",
    "bayes_params.head()"
   ]
  },
  {
   "cell_type": "code",
   "execution_count": 31,
   "metadata": {},
   "outputs": [
    {
     "data": {
      "text/plain": [
       "Text(0.5, 1.0, 'Regularization Parameter Search Distribution')"
      ]
     },
     "execution_count": 31,
     "metadata": {},
     "output_type": "execute_result"
    },
    {
     "data": {
      "image/png": "[encoded data removed]",
      "text/plain": [
       "<Figure size 1440x576 with 1 Axes>"
      ]
     },
     "metadata": {},
     "output_type": "display_data"
    }
   ],
   "source": [
    "plt.figure(figsize=(20, 8))\n",
    "plt.rcParams[\"font.size\"] = 18\n",
    "\n",
    "# Density plots of the learning rate distributions\n",
    "sns.kdeplot(bayes_params[\"reg\"], label=\"Bayes Optimization\", linewidth=2)\n",
    "plt.xlabel(\"Regularization Parameter\")\n",
    "plt.ylabel(\"Density\")\n",
    "plt.title(\"Regularization Parameter Search Distribution\")"
   ]
  },
  {
   "cell_type": "code",
   "execution_count": 32,
   "metadata": {},
   "outputs": [
    {
     "data": {
      "text/plain": [
       "Text(0.5, 1.0, 'Regularization Parameter Search Distribution')"
      ]
     },
     "execution_count": 32,
     "metadata": {},
     "output_type": "execute_result"
    },
    {
     "data": {
      "image/png": "[encoded data removed]",
      "text/plain": [
       "<Figure size 1440x576 with 1 Axes>"
      ]
     },
     "metadata": {},
     "output_type": "display_data"
    }
   ],
   "source": [
    "plt.figure(figsize=(20, 8))\n",
    "plt.rcParams[\"font.size\"] = 18\n",
    "\n",
    "sns.kdeplot(bayes_params[\"iters\"], label=\"Bayes Optimization\", linewidth=2)\n",
    "plt.xlabel(\"Regularization Parameter\")\n",
    "plt.ylabel(\"Density\")\n",
    "plt.title(\"Regularization Parameter Search Distribution\")"
   ]
  },
  {
   "cell_type": "code",
   "execution_count": 33,
   "metadata": {},
   "outputs": [
    {
     "data": {
      "text/plain": [
       "<matplotlib.axes._subplots.AxesSubplot at 0x7f6535af52b0>"
      ]
     },
     "execution_count": 33,
     "metadata": {},
     "output_type": "execute_result"
    },
    {
     "data": {
      "image/png": "[encoded data removed]",
      "text/plain": [
       "<Figure size 1008x432 with 1 Axes>"
      ]
     },
     "metadata": {},
     "output_type": "display_data"
    }
   ],
   "source": [
    "bayes_params[\"num_factors\"].value_counts().plot.bar(\n",
    "    figsize=(14, 6), color=\"blue\", title=\"Bayes Optimization Number Factors\"\n",
    ")"
   ]
  },
  {
   "cell_type": "code",
   "execution_count": 34,
   "metadata": {},
   "outputs": [
    {
     "data": {
      "text/plain": [
       "<matplotlib.axes._subplots.AxesSubplot at 0x7f652fc50898>"
      ]
     },
     "execution_count": 34,
     "metadata": {},
     "output_type": "execute_result"
    },
    {
     "data": {
      "image/png": "[encoded data removed]",
      "text/plain": [
       "<Figure size 1008x432 with 1 Axes>"
      ]
     },
     "metadata": {},
     "output_type": "display_data"
    }
   ],
   "source": [
    "bayes_params[\"alpha\"].value_counts().plot.bar(\n",
    "    figsize=(14, 6), color=\"blue\", title=\"Bayes Optimization Alpha\"\n",
    ")"
   ]
  },
  {
   "cell_type": "code",
   "execution_count": 35,
   "metadata": {},
   "outputs": [
    {
     "data": {
      "image/png": "[encoded data removed]",
      "text/plain": [
       "<Figure size 1728x432 with 4 Axes>"
      ]
     },
     "metadata": {},
     "output_type": "display_data"
    }
   ],
   "source": [
    "fig, axs = plt.subplots(1, 4, figsize=(24, 6))\n",
    "i = 0\n",
    "\n",
    "# Plot of four hyperparameters\n",
    "for i, hyper in enumerate([\"reg\", \"iters\", \"alpha\", \"num_factors\"]):\n",
    "    # Scatterplot\n",
    "    sns.regplot(\"iteration\", hyper, data=bayes_params, ax=axs[i])\n",
    "    axs[i].set(\n",
    "        xlabel=\"Iteration\",\n",
    "        ylabel=\"{}\".format(hyper),\n",
    "        title=\"{} over Search\".format(hyper),\n",
    "    )\n",
    "\n",
    "plt.tight_layout()"
   ]
  },
  {
   "cell_type": "code",
   "execution_count": 36,
   "metadata": {},
   "outputs": [
    {
     "data": {
      "text/plain": [
       "Text(0.5, 1.0, 'Bayes Optimization MSE')"
      ]
     },
     "execution_count": 36,
     "metadata": {},
     "output_type": "execute_result"
    },
    {
     "data": {
      "image/png": "[encoded data removed]",
      "text/plain": [
       "<Figure size 432x288 with 1 Axes>"
      ]
     },
     "metadata": {},
     "output_type": "display_data"
    }
   ],
   "source": [
    "plt.hist(bayes_params[\"loss\"], label=\"Bayes Optimization\", edgecolor=\"k\")\n",
    "plt.xlabel(\"Test Set MSE\")\n",
    "plt.ylabel(\"Count\")\n",
    "plt.title(\"Bayes Optimization MSE\")"
   ]
  },
  {
   "cell_type": "code",
   "execution_count": 37,
   "metadata": {},
   "outputs": [
    {
     "data": {
      "text/plain": [
       "Text(0.5, 1.0, 'Test Set MSE versus Iteration')"
      ]
     },
     "execution_count": 37,
     "metadata": {},
     "output_type": "execute_result"
    },
    {
     "data": {
      "image/png": "[encoded data removed]",
      "text/plain": [
       "<Figure size 576x576 with 1 Axes>"
      ]
     },
     "metadata": {},
     "output_type": "display_data"
    }
   ],
   "source": [
    "# Plot of scores over the course of searching\n",
    "sns.lmplot(\"iteration\", \"loss\", data=bayes_params, size=8)\n",
    "plt.xlabel(\"Iteration\")\n",
    "plt.ylabel(\"Test Set MSE\")\n",
    "plt.title(\"Test Set MSE versus Iteration\")"
   ]
  },
  {
   "cell_type": "code",
   "execution_count": 39,
   "metadata": {},
   "outputs": [],
   "source": [
    "# Save dataframes of parameters\n",
    "bayes_params.to_csv(\"./bayes_params.csv\", index=False)"
   ]
  },
  {
   "cell_type": "markdown",
   "metadata": {},
   "source": [
    "### Fit the ALS model with tuned parameters\n",
    "\n",
    "Fit the ALS model and return the user and item vectors"
   ]
  },
  {
   "cell_type": "code",
   "execution_count": 40,
   "metadata": {},
   "outputs": [
    {
     "data": {
      "application/vnd.jupyter.widget-view+json": {
       "model_id": "575d94bac24b4769821df06f224b9fca",
       "version_major": 2,
       "version_minor": 0
      },
      "text/plain": [
       "HBox(children=(FloatProgress(value=0.0, max=317.0), HTML(value='')))"
      ]
     },
     "metadata": {},
     "output_type": "display_data"
    },
    {
     "name": "stdout",
     "output_type": "stream",
     "text": [
      "\n"
     ]
    }
   ],
   "source": [
    "best_model, user_vecs, item_vecs = als_model.fit_als(\n",
    "    alpha=best_params[\"alpha\"],\n",
    "    num_factors=best_params[\"num_factors\"],\n",
    "    reg=best_params[\"reg\"],\n",
    "    iters=best_params[\"iters\"],\n",
    ")"
   ]
  },
  {
   "cell_type": "markdown",
   "metadata": {},
   "source": [
    "### Get the MSE on the training and test sets"
   ]
  },
  {
   "cell_type": "code",
   "execution_count": 41,
   "metadata": {},
   "outputs": [
    {
     "name": "stdout",
     "output_type": "stream",
     "text": [
      "training set mse = 0.029732382036385934, test set mse = 0.029813962653666676\n"
     ]
    }
   ],
   "source": [
    "training_mse, test_set_mse = als_model.get_mse(\n",
    "    user_vecs, item_vecs, train_df_mapped, test_df_mapped\n",
    ")"
   ]
  },
  {
   "cell_type": "markdown",
   "metadata": {},
   "source": [
    "### Convert user and item vectors to DataFrame and map to CUST_CODE and PROD_CODE"
   ]
  },
  {
   "cell_type": "code",
   "execution_count": 42,
   "metadata": {},
   "outputs": [],
   "source": [
    "user_factors, item_factors = als_model.get_user_item_factors(\n",
    "    user_vecs, item_vecs, train_df_mapped, train_items_mapping, train_cust_mapping\n",
    ")"
   ]
  },
  {
   "cell_type": "code",
   "execution_count": 43,
   "metadata": {},
   "outputs": [
    {
     "data": {
      "text/html": [
       "<div>\n",
       "<style scoped>\n",
       "    .dataframe tbody tr th:only-of-type {\n",
       "        vertical-align: middle;\n",
       "    }\n",
       "\n",
       "    .dataframe tbody tr th {\n",
       "        vertical-align: top;\n",
       "    }\n",
       "\n",
       "    .dataframe thead th {\n",
       "        text-align: right;\n",
       "    }\n",
       "</style>\n",
       "<table border=\"1\" class=\"dataframe\">\n",
       "  <thead>\n",
       "    <tr style=\"text-align: right;\">\n",
       "      <th></th>\n",
       "      <th>factor_0</th>\n",
       "      <th>factor_1</th>\n",
       "      <th>factor_2</th>\n",
       "      <th>factor_3</th>\n",
       "      <th>factor_4</th>\n",
       "      <th>factor_5</th>\n",
       "      <th>factor_6</th>\n",
       "      <th>factor_7</th>\n",
       "      <th>factor_8</th>\n",
       "      <th>factor_9</th>\n",
       "      <th>factor_10</th>\n",
       "      <th>factor_11</th>\n",
       "      <th>factor_12</th>\n",
       "      <th>factor_13</th>\n",
       "      <th>factor_14</th>\n",
       "      <th>factor_15</th>\n",
       "      <th>factor_16</th>\n",
       "      <th>factor_17</th>\n",
       "      <th>factor_18</th>\n",
       "      <th>factor_19</th>\n",
       "      <th>factor_20</th>\n",
       "      <th>factor_21</th>\n",
       "      <th>factor_22</th>\n",
       "      <th>factor_23</th>\n",
       "      <th>factor_24</th>\n",
       "      <th>CUST_CODE</th>\n",
       "    </tr>\n",
       "  </thead>\n",
       "  <tbody>\n",
       "    <tr>\n",
       "      <th>0</th>\n",
       "      <td>0.007463</td>\n",
       "      <td>-0.000680</td>\n",
       "      <td>0.005366</td>\n",
       "      <td>0.003615</td>\n",
       "      <td>0.004651</td>\n",
       "      <td>0.003823</td>\n",
       "      <td>0.005890</td>\n",
       "      <td>0.007055</td>\n",
       "      <td>0.006187</td>\n",
       "      <td>0.004056</td>\n",
       "      <td>0.007359</td>\n",
       "      <td>0.002281</td>\n",
       "      <td>0.004601</td>\n",
       "      <td>0.004757</td>\n",
       "      <td>0.004688</td>\n",
       "      <td>0.005582</td>\n",
       "      <td>0.006605</td>\n",
       "      <td>0.006112</td>\n",
       "      <td>0.005509</td>\n",
       "      <td>0.005362</td>\n",
       "      <td>0.006187</td>\n",
       "      <td>0.000481</td>\n",
       "      <td>0.003822</td>\n",
       "      <td>0.004832</td>\n",
       "      <td>0.003206</td>\n",
       "      <td>CUST0000000013</td>\n",
       "    </tr>\n",
       "    <tr>\n",
       "      <th>1</th>\n",
       "      <td>0.042196</td>\n",
       "      <td>-0.006041</td>\n",
       "      <td>0.006751</td>\n",
       "      <td>-0.007820</td>\n",
       "      <td>0.062753</td>\n",
       "      <td>-0.020122</td>\n",
       "      <td>0.018090</td>\n",
       "      <td>-0.000979</td>\n",
       "      <td>0.029097</td>\n",
       "      <td>-0.038228</td>\n",
       "      <td>0.079624</td>\n",
       "      <td>-0.009766</td>\n",
       "      <td>0.036663</td>\n",
       "      <td>0.007683</td>\n",
       "      <td>0.063245</td>\n",
       "      <td>0.061379</td>\n",
       "      <td>0.058113</td>\n",
       "      <td>0.048389</td>\n",
       "      <td>0.083416</td>\n",
       "      <td>0.059592</td>\n",
       "      <td>0.054784</td>\n",
       "      <td>-0.020142</td>\n",
       "      <td>0.102031</td>\n",
       "      <td>0.047736</td>\n",
       "      <td>0.001445</td>\n",
       "      <td>CUST0000000055</td>\n",
       "    </tr>\n",
       "    <tr>\n",
       "      <th>2</th>\n",
       "      <td>0.001905</td>\n",
       "      <td>0.007551</td>\n",
       "      <td>0.002333</td>\n",
       "      <td>0.007438</td>\n",
       "      <td>0.000220</td>\n",
       "      <td>0.008861</td>\n",
       "      <td>0.001843</td>\n",
       "      <td>0.004826</td>\n",
       "      <td>-0.000733</td>\n",
       "      <td>0.002802</td>\n",
       "      <td>0.000451</td>\n",
       "      <td>0.004297</td>\n",
       "      <td>-0.003757</td>\n",
       "      <td>0.004145</td>\n",
       "      <td>-0.002075</td>\n",
       "      <td>0.006993</td>\n",
       "      <td>0.007711</td>\n",
       "      <td>0.004604</td>\n",
       "      <td>0.005062</td>\n",
       "      <td>0.003206</td>\n",
       "      <td>0.004965</td>\n",
       "      <td>0.005310</td>\n",
       "      <td>-0.000805</td>\n",
       "      <td>0.004205</td>\n",
       "      <td>0.002555</td>\n",
       "      <td>CUST0000000679</td>\n",
       "    </tr>\n",
       "    <tr>\n",
       "      <th>3</th>\n",
       "      <td>0.000266</td>\n",
       "      <td>0.000624</td>\n",
       "      <td>0.001455</td>\n",
       "      <td>0.002870</td>\n",
       "      <td>0.001215</td>\n",
       "      <td>0.006305</td>\n",
       "      <td>0.001464</td>\n",
       "      <td>0.002308</td>\n",
       "      <td>-0.000875</td>\n",
       "      <td>0.001824</td>\n",
       "      <td>0.002093</td>\n",
       "      <td>0.000443</td>\n",
       "      <td>-0.000591</td>\n",
       "      <td>0.003088</td>\n",
       "      <td>-0.000442</td>\n",
       "      <td>0.003117</td>\n",
       "      <td>0.003052</td>\n",
       "      <td>0.003245</td>\n",
       "      <td>0.004089</td>\n",
       "      <td>0.002015</td>\n",
       "      <td>0.003788</td>\n",
       "      <td>0.003661</td>\n",
       "      <td>-0.000552</td>\n",
       "      <td>-0.000080</td>\n",
       "      <td>-0.000126</td>\n",
       "      <td>CUST0000001052</td>\n",
       "    </tr>\n",
       "    <tr>\n",
       "      <th>4</th>\n",
       "      <td>0.004335</td>\n",
       "      <td>0.003057</td>\n",
       "      <td>0.002655</td>\n",
       "      <td>-0.000290</td>\n",
       "      <td>0.004878</td>\n",
       "      <td>-0.000792</td>\n",
       "      <td>0.002543</td>\n",
       "      <td>0.001441</td>\n",
       "      <td>0.002682</td>\n",
       "      <td>0.000621</td>\n",
       "      <td>0.004846</td>\n",
       "      <td>0.002609</td>\n",
       "      <td>0.005400</td>\n",
       "      <td>0.003539</td>\n",
       "      <td>0.004997</td>\n",
       "      <td>0.002581</td>\n",
       "      <td>0.002828</td>\n",
       "      <td>0.002913</td>\n",
       "      <td>0.004326</td>\n",
       "      <td>0.002815</td>\n",
       "      <td>0.005709</td>\n",
       "      <td>0.001710</td>\n",
       "      <td>0.008268</td>\n",
       "      <td>0.003413</td>\n",
       "      <td>0.002465</td>\n",
       "      <td>CUST0000001058</td>\n",
       "    </tr>\n",
       "  </tbody>\n",
       "</table>\n",
       "</div>"
      ],
      "text/plain": [
       "   factor_0  factor_1  factor_2  factor_3  factor_4  factor_5  factor_6  \\\n",
       "0  0.007463 -0.000680  0.005366  0.003615  0.004651  0.003823  0.005890   \n",
       "1  0.042196 -0.006041  0.006751 -0.007820  0.062753 -0.020122  0.018090   \n",
       "2  0.001905  0.007551  0.002333  0.007438  0.000220  0.008861  0.001843   \n",
       "3  0.000266  0.000624  0.001455  0.002870  0.001215  0.006305  0.001464   \n",
       "4  0.004335  0.003057  0.002655 -0.000290  0.004878 -0.000792  0.002543   \n",
       "\n",
       "   factor_7  factor_8  factor_9  factor_10  factor_11  factor_12  factor_13  \\\n",
       "0  0.007055  0.006187  0.004056   0.007359   0.002281   0.004601   0.004757   \n",
       "1 -0.000979  0.029097 -0.038228   0.079624  -0.009766   0.036663   0.007683   \n",
       "2  0.004826 -0.000733  0.002802   0.000451   0.004297  -0.003757   0.004145   \n",
       "3  0.002308 -0.000875  0.001824   0.002093   0.000443  -0.000591   0.003088   \n",
       "4  0.001441  0.002682  0.000621   0.004846   0.002609   0.005400   0.003539   \n",
       "\n",
       "   factor_14  factor_15  factor_16  factor_17  factor_18  factor_19  \\\n",
       "0   0.004688   0.005582   0.006605   0.006112   0.005509   0.005362   \n",
       "1   0.063245   0.061379   0.058113   0.048389   0.083416   0.059592   \n",
       "2  -0.002075   0.006993   0.007711   0.004604   0.005062   0.003206   \n",
       "3  -0.000442   0.003117   0.003052   0.003245   0.004089   0.002015   \n",
       "4   0.004997   0.002581   0.002828   0.002913   0.004326   0.002815   \n",
       "\n",
       "   factor_20  factor_21  factor_22  factor_23  factor_24       CUST_CODE  \n",
       "0   0.006187   0.000481   0.003822   0.004832   0.003206  CUST0000000013  \n",
       "1   0.054784  -0.020142   0.102031   0.047736   0.001445  CUST0000000055  \n",
       "2   0.004965   0.005310  -0.000805   0.004205   0.002555  CUST0000000679  \n",
       "3   0.003788   0.003661  -0.000552  -0.000080  -0.000126  CUST0000001052  \n",
       "4   0.005709   0.001710   0.008268   0.003413   0.002465  CUST0000001058  "
      ]
     },
     "execution_count": 43,
     "metadata": {},
     "output_type": "execute_result"
    }
   ],
   "source": [
    "user_factors.head()"
   ]
  },
  {
   "cell_type": "code",
   "execution_count": 44,
   "metadata": {},
   "outputs": [
    {
     "data": {
      "text/html": [
       "<div>\n",
       "<style scoped>\n",
       "    .dataframe tbody tr th:only-of-type {\n",
       "        vertical-align: middle;\n",
       "    }\n",
       "\n",
       "    .dataframe tbody tr th {\n",
       "        vertical-align: top;\n",
       "    }\n",
       "\n",
       "    .dataframe thead th {\n",
       "        text-align: right;\n",
       "    }\n",
       "</style>\n",
       "<table border=\"1\" class=\"dataframe\">\n",
       "  <thead>\n",
       "    <tr style=\"text-align: right;\">\n",
       "      <th></th>\n",
       "      <th>factor_0</th>\n",
       "      <th>factor_1</th>\n",
       "      <th>factor_2</th>\n",
       "      <th>factor_3</th>\n",
       "      <th>factor_4</th>\n",
       "      <th>factor_5</th>\n",
       "      <th>factor_6</th>\n",
       "      <th>factor_7</th>\n",
       "      <th>factor_8</th>\n",
       "      <th>factor_9</th>\n",
       "      <th>factor_10</th>\n",
       "      <th>factor_11</th>\n",
       "      <th>factor_12</th>\n",
       "      <th>factor_13</th>\n",
       "      <th>factor_14</th>\n",
       "      <th>factor_15</th>\n",
       "      <th>factor_16</th>\n",
       "      <th>factor_17</th>\n",
       "      <th>factor_18</th>\n",
       "      <th>factor_19</th>\n",
       "      <th>factor_20</th>\n",
       "      <th>factor_21</th>\n",
       "      <th>factor_22</th>\n",
       "      <th>factor_23</th>\n",
       "      <th>factor_24</th>\n",
       "      <th>PROD_CODE</th>\n",
       "    </tr>\n",
       "  </thead>\n",
       "  <tbody>\n",
       "    <tr>\n",
       "      <th>0</th>\n",
       "      <td>0.098852</td>\n",
       "      <td>0.163831</td>\n",
       "      <td>0.062782</td>\n",
       "      <td>0.116470</td>\n",
       "      <td>0.209002</td>\n",
       "      <td>0.200804</td>\n",
       "      <td>0.083324</td>\n",
       "      <td>0.114422</td>\n",
       "      <td>-0.001722</td>\n",
       "      <td>0.071923</td>\n",
       "      <td>0.135773</td>\n",
       "      <td>0.118632</td>\n",
       "      <td>0.134937</td>\n",
       "      <td>0.171609</td>\n",
       "      <td>0.075134</td>\n",
       "      <td>0.157838</td>\n",
       "      <td>0.163906</td>\n",
       "      <td>0.148084</td>\n",
       "      <td>0.203248</td>\n",
       "      <td>0.127189</td>\n",
       "      <td>0.243155</td>\n",
       "      <td>0.173337</td>\n",
       "      <td>0.178632</td>\n",
       "      <td>0.115693</td>\n",
       "      <td>0.043675</td>\n",
       "      <td>PRD0900121</td>\n",
       "    </tr>\n",
       "    <tr>\n",
       "      <th>1</th>\n",
       "      <td>0.058094</td>\n",
       "      <td>0.030093</td>\n",
       "      <td>0.059018</td>\n",
       "      <td>0.007452</td>\n",
       "      <td>0.035343</td>\n",
       "      <td>0.005170</td>\n",
       "      <td>0.048432</td>\n",
       "      <td>0.027936</td>\n",
       "      <td>0.046388</td>\n",
       "      <td>0.036067</td>\n",
       "      <td>0.040936</td>\n",
       "      <td>0.036383</td>\n",
       "      <td>0.055214</td>\n",
       "      <td>0.051103</td>\n",
       "      <td>0.049959</td>\n",
       "      <td>0.026097</td>\n",
       "      <td>0.027814</td>\n",
       "      <td>0.030770</td>\n",
       "      <td>0.034937</td>\n",
       "      <td>0.012814</td>\n",
       "      <td>0.044953</td>\n",
       "      <td>0.028312</td>\n",
       "      <td>0.059118</td>\n",
       "      <td>0.032478</td>\n",
       "      <td>0.043089</td>\n",
       "      <td>PRD0900161</td>\n",
       "    </tr>\n",
       "    <tr>\n",
       "      <th>2</th>\n",
       "      <td>0.000766</td>\n",
       "      <td>0.023513</td>\n",
       "      <td>0.026635</td>\n",
       "      <td>0.033137</td>\n",
       "      <td>0.004971</td>\n",
       "      <td>0.049122</td>\n",
       "      <td>0.014308</td>\n",
       "      <td>0.023726</td>\n",
       "      <td>0.000620</td>\n",
       "      <td>0.038399</td>\n",
       "      <td>0.003672</td>\n",
       "      <td>0.024392</td>\n",
       "      <td>0.004450</td>\n",
       "      <td>0.027772</td>\n",
       "      <td>-0.000906</td>\n",
       "      <td>0.011066</td>\n",
       "      <td>0.013943</td>\n",
       "      <td>0.017316</td>\n",
       "      <td>0.012777</td>\n",
       "      <td>0.016307</td>\n",
       "      <td>0.021514</td>\n",
       "      <td>0.043878</td>\n",
       "      <td>-0.008592</td>\n",
       "      <td>0.001315</td>\n",
       "      <td>0.019906</td>\n",
       "      <td>PRD0900234</td>\n",
       "    </tr>\n",
       "    <tr>\n",
       "      <th>3</th>\n",
       "      <td>0.010650</td>\n",
       "      <td>0.004709</td>\n",
       "      <td>0.026922</td>\n",
       "      <td>0.017818</td>\n",
       "      <td>0.005461</td>\n",
       "      <td>0.010362</td>\n",
       "      <td>0.018078</td>\n",
       "      <td>0.009987</td>\n",
       "      <td>0.013994</td>\n",
       "      <td>0.022470</td>\n",
       "      <td>0.007272</td>\n",
       "      <td>0.003001</td>\n",
       "      <td>0.006082</td>\n",
       "      <td>0.012889</td>\n",
       "      <td>0.008665</td>\n",
       "      <td>0.009801</td>\n",
       "      <td>0.004736</td>\n",
       "      <td>0.007354</td>\n",
       "      <td>0.011249</td>\n",
       "      <td>0.008088</td>\n",
       "      <td>-0.004738</td>\n",
       "      <td>0.008003</td>\n",
       "      <td>-0.008687</td>\n",
       "      <td>0.001506</td>\n",
       "      <td>0.011334</td>\n",
       "      <td>PRD0900330</td>\n",
       "    </tr>\n",
       "    <tr>\n",
       "      <th>4</th>\n",
       "      <td>0.060486</td>\n",
       "      <td>0.002112</td>\n",
       "      <td>-0.015682</td>\n",
       "      <td>0.022759</td>\n",
       "      <td>0.105784</td>\n",
       "      <td>0.003024</td>\n",
       "      <td>0.022878</td>\n",
       "      <td>0.019869</td>\n",
       "      <td>0.026967</td>\n",
       "      <td>-0.037187</td>\n",
       "      <td>0.104706</td>\n",
       "      <td>0.011538</td>\n",
       "      <td>0.054761</td>\n",
       "      <td>-0.003606</td>\n",
       "      <td>0.055310</td>\n",
       "      <td>0.095097</td>\n",
       "      <td>0.086594</td>\n",
       "      <td>0.073725</td>\n",
       "      <td>0.097978</td>\n",
       "      <td>0.106644</td>\n",
       "      <td>0.083489</td>\n",
       "      <td>-0.036869</td>\n",
       "      <td>0.109061</td>\n",
       "      <td>0.088064</td>\n",
       "      <td>-0.007758</td>\n",
       "      <td>PRD0900434</td>\n",
       "    </tr>\n",
       "  </tbody>\n",
       "</table>\n",
       "</div>"
      ],
      "text/plain": [
       "   factor_0  factor_1  factor_2  factor_3  factor_4  factor_5  factor_6  \\\n",
       "0  0.098852  0.163831  0.062782  0.116470  0.209002  0.200804  0.083324   \n",
       "1  0.058094  0.030093  0.059018  0.007452  0.035343  0.005170  0.048432   \n",
       "2  0.000766  0.023513  0.026635  0.033137  0.004971  0.049122  0.014308   \n",
       "3  0.010650  0.004709  0.026922  0.017818  0.005461  0.010362  0.018078   \n",
       "4  0.060486  0.002112 -0.015682  0.022759  0.105784  0.003024  0.022878   \n",
       "\n",
       "   factor_7  factor_8  factor_9  factor_10  factor_11  factor_12  factor_13  \\\n",
       "0  0.114422 -0.001722  0.071923   0.135773   0.118632   0.134937   0.171609   \n",
       "1  0.027936  0.046388  0.036067   0.040936   0.036383   0.055214   0.051103   \n",
       "2  0.023726  0.000620  0.038399   0.003672   0.024392   0.004450   0.027772   \n",
       "3  0.009987  0.013994  0.022470   0.007272   0.003001   0.006082   0.012889   \n",
       "4  0.019869  0.026967 -0.037187   0.104706   0.011538   0.054761  -0.003606   \n",
       "\n",
       "   factor_14  factor_15  factor_16  factor_17  factor_18  factor_19  \\\n",
       "0   0.075134   0.157838   0.163906   0.148084   0.203248   0.127189   \n",
       "1   0.049959   0.026097   0.027814   0.030770   0.034937   0.012814   \n",
       "2  -0.000906   0.011066   0.013943   0.017316   0.012777   0.016307   \n",
       "3   0.008665   0.009801   0.004736   0.007354   0.011249   0.008088   \n",
       "4   0.055310   0.095097   0.086594   0.073725   0.097978   0.106644   \n",
       "\n",
       "   factor_20  factor_21  factor_22  factor_23  factor_24   PROD_CODE  \n",
       "0   0.243155   0.173337   0.178632   0.115693   0.043675  PRD0900121  \n",
       "1   0.044953   0.028312   0.059118   0.032478   0.043089  PRD0900161  \n",
       "2   0.021514   0.043878  -0.008592   0.001315   0.019906  PRD0900234  \n",
       "3  -0.004738   0.008003  -0.008687   0.001506   0.011334  PRD0900330  \n",
       "4   0.083489  -0.036869   0.109061   0.088064  -0.007758  PRD0900434  "
      ]
     },
     "execution_count": 44,
     "metadata": {},
     "output_type": "execute_result"
    }
   ],
   "source": [
    "item_factors.head()"
   ]
  },
  {
   "cell_type": "code",
   "execution_count": 48,
   "metadata": {},
   "outputs": [],
   "source": [
    "# Upload user and item factors to s3\n",
    "\n",
    "item_factors.to_csv(\"./item_factors.csv\", index=False)\n",
    "key = \"item_factors.csv\"  # filepath in s3\n",
    "s3.Bucket(bucket).Object(key).upload_file(\"./item_factors.csv\")\n",
    "\n",
    "user_factors.to_csv(\"./user_factors.csv\", index=False)\n",
    "key = \"user_factors.csv\"  # filepath in s3\n",
    "s3.Bucket(bucket).Object(key).upload_file(\"./user_factors.csv\")"
   ]
  },
  {
   "cell_type": "markdown",
   "metadata": {},
   "source": [
    "### Create DataFrame of predicitions"
   ]
  },
  {
   "cell_type": "code",
   "execution_count": 49,
   "metadata": {},
   "outputs": [
    {
     "data": {
      "text/html": [
       "<div>\n",
       "<style scoped>\n",
       "    .dataframe tbody tr th:only-of-type {\n",
       "        vertical-align: middle;\n",
       "    }\n",
       "\n",
       "    .dataframe tbody tr th {\n",
       "        vertical-align: top;\n",
       "    }\n",
       "\n",
       "    .dataframe thead th {\n",
       "        text-align: right;\n",
       "    }\n",
       "</style>\n",
       "<table border=\"1\" class=\"dataframe\">\n",
       "  <thead>\n",
       "    <tr style=\"text-align: right;\">\n",
       "      <th></th>\n",
       "      <th>PRED_QUANTITY</th>\n",
       "      <th>pred_rank</th>\n",
       "      <th>CUST_CODE</th>\n",
       "      <th>PROD_CODE</th>\n",
       "    </tr>\n",
       "  </thead>\n",
       "  <tbody>\n",
       "    <tr>\n",
       "      <th>0</th>\n",
       "      <td>0.015402</td>\n",
       "      <td>43.0</td>\n",
       "      <td>CUST0000000013</td>\n",
       "      <td>PRD0900121</td>\n",
       "    </tr>\n",
       "    <tr>\n",
       "      <th>1</th>\n",
       "      <td>0.115589</td>\n",
       "      <td>46.0</td>\n",
       "      <td>CUST0000000055</td>\n",
       "      <td>PRD0900121</td>\n",
       "    </tr>\n",
       "    <tr>\n",
       "      <th>2</th>\n",
       "      <td>0.012860</td>\n",
       "      <td>31.0</td>\n",
       "      <td>CUST0000000679</td>\n",
       "      <td>PRD0900121</td>\n",
       "    </tr>\n",
       "    <tr>\n",
       "      <th>3</th>\n",
       "      <td>0.007348</td>\n",
       "      <td>29.0</td>\n",
       "      <td>CUST0000001052</td>\n",
       "      <td>PRD0900121</td>\n",
       "    </tr>\n",
       "    <tr>\n",
       "      <th>4</th>\n",
       "      <td>0.011222</td>\n",
       "      <td>35.0</td>\n",
       "      <td>CUST0000001058</td>\n",
       "      <td>PRD0900121</td>\n",
       "    </tr>\n",
       "  </tbody>\n",
       "</table>\n",
       "</div>"
      ],
      "text/plain": [
       "   PRED_QUANTITY  pred_rank       CUST_CODE   PROD_CODE\n",
       "0       0.015402       43.0  CUST0000000013  PRD0900121\n",
       "1       0.115589       46.0  CUST0000000055  PRD0900121\n",
       "2       0.012860       31.0  CUST0000000679  PRD0900121\n",
       "3       0.007348       29.0  CUST0000001052  PRD0900121\n",
       "4       0.011222       35.0  CUST0000001058  PRD0900121"
      ]
     },
     "execution_count": 49,
     "metadata": {},
     "output_type": "execute_result"
    }
   ],
   "source": [
    "predictions = als_model.predict(user_vecs, item_vecs, train_df_mapped, 1000)\n",
    "predictions.head()"
   ]
  },
  {
   "cell_type": "code",
   "execution_count": 50,
   "metadata": {},
   "outputs": [],
   "source": [
    "# Upload the predictions file to s3\n",
    "predictions.to_csv(\"predictions.csv\")\n",
    "key = \"predictions.csv\"  # filepath in s3\n",
    "s3.Bucket(bucket).Object(key).upload_file(\"predictions.csv\")"
   ]
  },
  {
   "cell_type": "code",
   "execution_count": null,
   "metadata": {},
   "outputs": [],
   "source": []
  }
 ],
 "metadata": {
  "kernelspec": {
   "display_name": "conda_tensorflow_p36",
   "language": "python",
   "name": "conda_tensorflow_p36"
  },
  "language_info": {
   "codemirror_mode": {
    "name": "ipython",
    "version": 3
   },
   "file_extension": ".py",
   "mimetype": "text/x-python",
   "name": "python",
   "nbconvert_exporter": "python",
   "pygments_lexer": "ipython3",
   "version": "3.6.6"
  }
 },
 "nbformat": 4,
 "nbformat_minor": 2
}
