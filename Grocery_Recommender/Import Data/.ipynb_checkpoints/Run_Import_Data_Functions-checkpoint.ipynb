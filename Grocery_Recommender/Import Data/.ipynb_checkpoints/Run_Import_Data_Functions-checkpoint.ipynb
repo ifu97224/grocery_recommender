{
 "cells": [
  {
   "cell_type": "markdown",
   "metadata": {},
   "source": [
    "## Import the raw data\n",
    "\n",
    "This workbook imports the weekly transaction files, concatenates them into one large file for analysis and run some simple EDA"
   ]
  },
  {
   "cell_type": "markdown",
   "metadata": {},
   "source": [
    "### Set code parameters and import libraries"
   ]
  },
  {
   "cell_type": "code",
   "execution_count": 1,
   "metadata": {},
   "outputs": [],
   "source": [
    "import pandas as pd\n",
    "import boto3\n",
    "from sagemaker import get_execution_role\n",
    "\n",
    "import matplotlib.pyplot as plt\n",
    "import matplotlib.ticker as ticker\n",
    "import seaborn as sns\n",
    "\n",
    "%matplotlib inline\n",
    "\n",
    "from import_data import *"
   ]
  },
  {
   "cell_type": "code",
   "execution_count": 2,
   "metadata": {},
   "outputs": [],
   "source": [
    "pd.set_option(\"display.max_rows\", 500)\n",
    "pd.set_option(\"display.max_columns\", 500)"
   ]
  },
  {
   "cell_type": "code",
   "execution_count": 3,
   "metadata": {},
   "outputs": [],
   "source": [
    "role = get_execution_role()\n",
    "region = boto3.Session().region_name\n",
    "bucket = \"udacity-machine-learning-capstone-data\""
   ]
  },
  {
   "cell_type": "markdown",
   "metadata": {},
   "source": [
    "### Import the data"
   ]
  },
  {
   "cell_type": "code",
   "execution_count": null,
   "metadata": {},
   "outputs": [
    {
     "name": "stdout",
     "output_type": "stream",
     "text": [
      "Importing data for udacity_capstone_data/time.csv\n",
      "s3://udacity-machine-learning-capstone-data/udacity_capstone_data/time.csv\n",
      "udacity_capstone_data/time.csv\n",
      "Importing data for udacity_capstone_data/transactions_200607.csv\n",
      "s3://udacity-machine-learning-capstone-data/udacity_capstone_data/transactions_200607.csv\n",
      "udacity_capstone_data/transactions_200607.csv\n",
      "Importing data for udacity_capstone_data/transactions_200608.csv\n",
      "s3://udacity-machine-learning-capstone-data/udacity_capstone_data/transactions_200608.csv\n",
      "udacity_capstone_data/transactions_200608.csv\n",
      "Importing data for udacity_capstone_data/transactions_200609.csv\n",
      "s3://udacity-machine-learning-capstone-data/udacity_capstone_data/transactions_200609.csv\n",
      "udacity_capstone_data/transactions_200609.csv\n",
      "Importing data for udacity_capstone_data/transactions_200610.csv\n",
      "s3://udacity-machine-learning-capstone-data/udacity_capstone_data/transactions_200610.csv\n",
      "udacity_capstone_data/transactions_200610.csv\n",
      "Importing data for udacity_capstone_data/transactions_200611.csv\n",
      "s3://udacity-machine-learning-capstone-data/udacity_capstone_data/transactions_200611.csv\n",
      "udacity_capstone_data/transactions_200611.csv\n",
      "Importing data for udacity_capstone_data/transactions_200612.csv\n",
      "s3://udacity-machine-learning-capstone-data/udacity_capstone_data/transactions_200612.csv\n",
      "udacity_capstone_data/transactions_200612.csv\n",
      "Importing data for udacity_capstone_data/transactions_200613.csv\n",
      "s3://udacity-machine-learning-capstone-data/udacity_capstone_data/transactions_200613.csv\n",
      "udacity_capstone_data/transactions_200613.csv\n",
      "Importing data for udacity_capstone_data/transactions_200614.csv\n",
      "s3://udacity-machine-learning-capstone-data/udacity_capstone_data/transactions_200614.csv\n",
      "udacity_capstone_data/transactions_200614.csv\n",
      "Importing data for udacity_capstone_data/transactions_200615.csv\n",
      "s3://udacity-machine-learning-capstone-data/udacity_capstone_data/transactions_200615.csv\n",
      "udacity_capstone_data/transactions_200615.csv\n",
      "Importing data for udacity_capstone_data/transactions_200616.csv\n",
      "s3://udacity-machine-learning-capstone-data/udacity_capstone_data/transactions_200616.csv\n",
      "udacity_capstone_data/transactions_200616.csv\n",
      "Importing data for udacity_capstone_data/transactions_200617.csv\n",
      "s3://udacity-machine-learning-capstone-data/udacity_capstone_data/transactions_200617.csv\n",
      "udacity_capstone_data/transactions_200617.csv\n",
      "Importing data for udacity_capstone_data/transactions_200618.csv\n",
      "s3://udacity-machine-learning-capstone-data/udacity_capstone_data/transactions_200618.csv\n",
      "udacity_capstone_data/transactions_200618.csv\n",
      "Importing data for udacity_capstone_data/transactions_200619.csv\n",
      "s3://udacity-machine-learning-capstone-data/udacity_capstone_data/transactions_200619.csv\n",
      "udacity_capstone_data/transactions_200619.csv\n",
      "Importing data for udacity_capstone_data/transactions_200620.csv\n",
      "s3://udacity-machine-learning-capstone-data/udacity_capstone_data/transactions_200620.csv\n",
      "udacity_capstone_data/transactions_200620.csv\n",
      "Importing data for udacity_capstone_data/transactions_200621.csv\n",
      "s3://udacity-machine-learning-capstone-data/udacity_capstone_data/transactions_200621.csv\n",
      "udacity_capstone_data/transactions_200621.csv\n",
      "Importing data for udacity_capstone_data/transactions_200622.csv\n",
      "s3://udacity-machine-learning-capstone-data/udacity_capstone_data/transactions_200622.csv\n",
      "udacity_capstone_data/transactions_200622.csv\n",
      "Importing data for udacity_capstone_data/transactions_200623.csv\n",
      "s3://udacity-machine-learning-capstone-data/udacity_capstone_data/transactions_200623.csv\n",
      "udacity_capstone_data/transactions_200623.csv\n",
      "Importing data for udacity_capstone_data/transactions_200624.csv\n",
      "s3://udacity-machine-learning-capstone-data/udacity_capstone_data/transactions_200624.csv\n",
      "udacity_capstone_data/transactions_200624.csv\n",
      "Importing data for udacity_capstone_data/transactions_200625.csv\n",
      "s3://udacity-machine-learning-capstone-data/udacity_capstone_data/transactions_200625.csv\n",
      "udacity_capstone_data/transactions_200625.csv\n",
      "Importing data for udacity_capstone_data/transactions_200626.csv\n",
      "s3://udacity-machine-learning-capstone-data/udacity_capstone_data/transactions_200626.csv\n",
      "udacity_capstone_data/transactions_200626.csv\n",
      "Importing data for udacity_capstone_data/transactions_200627.csv\n",
      "s3://udacity-machine-learning-capstone-data/udacity_capstone_data/transactions_200627.csv\n",
      "udacity_capstone_data/transactions_200627.csv\n",
      "Importing data for udacity_capstone_data/transactions_200628.csv\n",
      "s3://udacity-machine-learning-capstone-data/udacity_capstone_data/transactions_200628.csv\n",
      "udacity_capstone_data/transactions_200628.csv\n",
      "Importing data for udacity_capstone_data/transactions_200629.csv\n",
      "s3://udacity-machine-learning-capstone-data/udacity_capstone_data/transactions_200629.csv\n",
      "udacity_capstone_data/transactions_200629.csv\n",
      "Importing data for udacity_capstone_data/transactions_200630.csv\n",
      "s3://udacity-machine-learning-capstone-data/udacity_capstone_data/transactions_200630.csv\n",
      "udacity_capstone_data/transactions_200630.csv\n",
      "Importing data for udacity_capstone_data/transactions_200631.csv\n",
      "s3://udacity-machine-learning-capstone-data/udacity_capstone_data/transactions_200631.csv\n",
      "udacity_capstone_data/transactions_200631.csv\n",
      "Importing data for udacity_capstone_data/transactions_200632.csv\n",
      "s3://udacity-machine-learning-capstone-data/udacity_capstone_data/transactions_200632.csv\n",
      "udacity_capstone_data/transactions_200632.csv\n",
      "Importing data for udacity_capstone_data/transactions_200633.csv\n",
      "s3://udacity-machine-learning-capstone-data/udacity_capstone_data/transactions_200633.csv\n",
      "udacity_capstone_data/transactions_200633.csv\n",
      "Importing data for udacity_capstone_data/transactions_200634.csv\n",
      "s3://udacity-machine-learning-capstone-data/udacity_capstone_data/transactions_200634.csv\n",
      "udacity_capstone_data/transactions_200634.csv\n",
      "Importing data for udacity_capstone_data/transactions_200635.csv\n",
      "s3://udacity-machine-learning-capstone-data/udacity_capstone_data/transactions_200635.csv\n",
      "udacity_capstone_data/transactions_200635.csv\n",
      "Importing data for udacity_capstone_data/transactions_200636.csv\n",
      "s3://udacity-machine-learning-capstone-data/udacity_capstone_data/transactions_200636.csv\n",
      "udacity_capstone_data/transactions_200636.csv\n",
      "Importing data for udacity_capstone_data/transactions_200637.csv\n",
      "s3://udacity-machine-learning-capstone-data/udacity_capstone_data/transactions_200637.csv\n",
      "udacity_capstone_data/transactions_200637.csv\n",
      "Importing data for udacity_capstone_data/transactions_200638.csv\n",
      "s3://udacity-machine-learning-capstone-data/udacity_capstone_data/transactions_200638.csv\n",
      "udacity_capstone_data/transactions_200638.csv\n",
      "Importing data for udacity_capstone_data/transactions_200639.csv\n",
      "s3://udacity-machine-learning-capstone-data/udacity_capstone_data/transactions_200639.csv\n",
      "udacity_capstone_data/transactions_200639.csv\n",
      "Importing data for udacity_capstone_data/transactions_200640.csv\n",
      "s3://udacity-machine-learning-capstone-data/udacity_capstone_data/transactions_200640.csv\n",
      "udacity_capstone_data/transactions_200640.csv\n",
      "Importing data for udacity_capstone_data/transactions_200641.csv\n",
      "s3://udacity-machine-learning-capstone-data/udacity_capstone_data/transactions_200641.csv\n",
      "udacity_capstone_data/transactions_200641.csv\n",
      "Importing data for udacity_capstone_data/transactions_200642.csv\n",
      "s3://udacity-machine-learning-capstone-data/udacity_capstone_data/transactions_200642.csv\n",
      "udacity_capstone_data/transactions_200642.csv\n",
      "Importing data for udacity_capstone_data/transactions_200643.csv\n",
      "s3://udacity-machine-learning-capstone-data/udacity_capstone_data/transactions_200643.csv\n",
      "udacity_capstone_data/transactions_200643.csv\n",
      "Importing data for udacity_capstone_data/transactions_200644.csv\n",
      "s3://udacity-machine-learning-capstone-data/udacity_capstone_data/transactions_200644.csv\n",
      "udacity_capstone_data/transactions_200644.csv\n",
      "Importing data for udacity_capstone_data/transactions_200645.csv\n",
      "s3://udacity-machine-learning-capstone-data/udacity_capstone_data/transactions_200645.csv\n",
      "udacity_capstone_data/transactions_200645.csv\n",
      "Importing data for udacity_capstone_data/transactions_200646.csv\n",
      "s3://udacity-machine-learning-capstone-data/udacity_capstone_data/transactions_200646.csv\n",
      "udacity_capstone_data/transactions_200646.csv\n"
     ]
    },
    {
     "name": "stdout",
     "output_type": "stream",
     "text": [
      "Importing data for udacity_capstone_data/transactions_200647.csv\n",
      "s3://udacity-machine-learning-capstone-data/udacity_capstone_data/transactions_200647.csv\n",
      "udacity_capstone_data/transactions_200647.csv\n",
      "Importing data for udacity_capstone_data/transactions_200648.csv\n",
      "s3://udacity-machine-learning-capstone-data/udacity_capstone_data/transactions_200648.csv\n",
      "udacity_capstone_data/transactions_200648.csv\n",
      "Importing data for udacity_capstone_data/transactions_200649.csv\n",
      "s3://udacity-machine-learning-capstone-data/udacity_capstone_data/transactions_200649.csv\n",
      "udacity_capstone_data/transactions_200649.csv\n",
      "Importing data for udacity_capstone_data/transactions_200650.csv\n",
      "s3://udacity-machine-learning-capstone-data/udacity_capstone_data/transactions_200650.csv\n",
      "udacity_capstone_data/transactions_200650.csv\n",
      "Importing data for udacity_capstone_data/transactions_200651.csv\n",
      "s3://udacity-machine-learning-capstone-data/udacity_capstone_data/transactions_200651.csv\n",
      "udacity_capstone_data/transactions_200651.csv\n",
      "Importing data for udacity_capstone_data/transactions_200652.csv\n",
      "s3://udacity-machine-learning-capstone-data/udacity_capstone_data/transactions_200652.csv\n",
      "udacity_capstone_data/transactions_200652.csv\n",
      "Importing data for udacity_capstone_data/transactions_200701.csv\n",
      "s3://udacity-machine-learning-capstone-data/udacity_capstone_data/transactions_200701.csv\n",
      "udacity_capstone_data/transactions_200701.csv\n",
      "Importing data for udacity_capstone_data/transactions_200702.csv\n",
      "s3://udacity-machine-learning-capstone-data/udacity_capstone_data/transactions_200702.csv\n",
      "udacity_capstone_data/transactions_200702.csv\n",
      "Importing data for udacity_capstone_data/transactions_200703.csv\n",
      "s3://udacity-machine-learning-capstone-data/udacity_capstone_data/transactions_200703.csv\n",
      "udacity_capstone_data/transactions_200703.csv\n",
      "Importing data for udacity_capstone_data/transactions_200704.csv\n",
      "s3://udacity-machine-learning-capstone-data/udacity_capstone_data/transactions_200704.csv\n",
      "udacity_capstone_data/transactions_200704.csv\n",
      "Importing data for udacity_capstone_data/transactions_200705.csv\n",
      "s3://udacity-machine-learning-capstone-data/udacity_capstone_data/transactions_200705.csv\n",
      "udacity_capstone_data/transactions_200705.csv\n",
      "Importing data for udacity_capstone_data/transactions_200706.csv\n",
      "s3://udacity-machine-learning-capstone-data/udacity_capstone_data/transactions_200706.csv\n",
      "udacity_capstone_data/transactions_200706.csv\n",
      "Importing data for udacity_capstone_data/transactions_200707.csv\n",
      "s3://udacity-machine-learning-capstone-data/udacity_capstone_data/transactions_200707.csv\n",
      "udacity_capstone_data/transactions_200707.csv\n",
      "Importing data for udacity_capstone_data/transactions_200708.csv\n",
      "s3://udacity-machine-learning-capstone-data/udacity_capstone_data/transactions_200708.csv\n",
      "udacity_capstone_data/transactions_200708.csv\n",
      "Importing data for udacity_capstone_data/transactions_200709.csv\n",
      "s3://udacity-machine-learning-capstone-data/udacity_capstone_data/transactions_200709.csv\n",
      "udacity_capstone_data/transactions_200709.csv\n",
      "Importing data for udacity_capstone_data/transactions_200710.csv\n",
      "s3://udacity-machine-learning-capstone-data/udacity_capstone_data/transactions_200710.csv\n",
      "udacity_capstone_data/transactions_200710.csv\n",
      "Importing data for udacity_capstone_data/transactions_200711.csv\n",
      "s3://udacity-machine-learning-capstone-data/udacity_capstone_data/transactions_200711.csv\n",
      "udacity_capstone_data/transactions_200711.csv\n",
      "Importing data for udacity_capstone_data/transactions_200712.csv\n",
      "s3://udacity-machine-learning-capstone-data/udacity_capstone_data/transactions_200712.csv\n",
      "udacity_capstone_data/transactions_200712.csv\n",
      "Importing data for udacity_capstone_data/transactions_200713.csv\n",
      "s3://udacity-machine-learning-capstone-data/udacity_capstone_data/transactions_200713.csv\n",
      "udacity_capstone_data/transactions_200713.csv\n",
      "Importing data for udacity_capstone_data/transactions_200714.csv\n",
      "s3://udacity-machine-learning-capstone-data/udacity_capstone_data/transactions_200714.csv\n",
      "udacity_capstone_data/transactions_200714.csv\n",
      "Importing data for udacity_capstone_data/transactions_200715.csv\n",
      "s3://udacity-machine-learning-capstone-data/udacity_capstone_data/transactions_200715.csv\n",
      "udacity_capstone_data/transactions_200715.csv\n",
      "Importing data for udacity_capstone_data/transactions_200716.csv\n",
      "s3://udacity-machine-learning-capstone-data/udacity_capstone_data/transactions_200716.csv\n",
      "udacity_capstone_data/transactions_200716.csv\n",
      "Importing data for udacity_capstone_data/transactions_200717.csv\n",
      "s3://udacity-machine-learning-capstone-data/udacity_capstone_data/transactions_200717.csv\n",
      "udacity_capstone_data/transactions_200717.csv\n",
      "Importing data for udacity_capstone_data/transactions_200718.csv\n",
      "s3://udacity-machine-learning-capstone-data/udacity_capstone_data/transactions_200718.csv\n",
      "udacity_capstone_data/transactions_200718.csv\n",
      "Importing data for udacity_capstone_data/transactions_200719.csv\n",
      "s3://udacity-machine-learning-capstone-data/udacity_capstone_data/transactions_200719.csv\n",
      "udacity_capstone_data/transactions_200719.csv\n",
      "Importing data for udacity_capstone_data/transactions_200720.csv\n",
      "s3://udacity-machine-learning-capstone-data/udacity_capstone_data/transactions_200720.csv\n",
      "udacity_capstone_data/transactions_200720.csv\n",
      "Importing data for udacity_capstone_data/transactions_200721.csv\n",
      "s3://udacity-machine-learning-capstone-data/udacity_capstone_data/transactions_200721.csv\n",
      "udacity_capstone_data/transactions_200721.csv\n",
      "Importing data for udacity_capstone_data/transactions_200722.csv\n",
      "s3://udacity-machine-learning-capstone-data/udacity_capstone_data/transactions_200722.csv\n",
      "udacity_capstone_data/transactions_200722.csv\n",
      "Importing data for udacity_capstone_data/transactions_200723.csv\n",
      "s3://udacity-machine-learning-capstone-data/udacity_capstone_data/transactions_200723.csv\n",
      "udacity_capstone_data/transactions_200723.csv\n",
      "Importing data for udacity_capstone_data/transactions_200724.csv\n",
      "s3://udacity-machine-learning-capstone-data/udacity_capstone_data/transactions_200724.csv\n",
      "udacity_capstone_data/transactions_200724.csv\n",
      "Importing data for udacity_capstone_data/transactions_200725.csv\n",
      "s3://udacity-machine-learning-capstone-data/udacity_capstone_data/transactions_200725.csv\n",
      "udacity_capstone_data/transactions_200725.csv\n",
      "Importing data for udacity_capstone_data/transactions_200726.csv\n",
      "s3://udacity-machine-learning-capstone-data/udacity_capstone_data/transactions_200726.csv\n",
      "udacity_capstone_data/transactions_200726.csv\n",
      "Importing data for udacity_capstone_data/transactions_200727.csv\n",
      "s3://udacity-machine-learning-capstone-data/udacity_capstone_data/transactions_200727.csv\n",
      "udacity_capstone_data/transactions_200727.csv\n",
      "Importing data for udacity_capstone_data/transactions_200728.csv\n",
      "s3://udacity-machine-learning-capstone-data/udacity_capstone_data/transactions_200728.csv\n",
      "udacity_capstone_data/transactions_200728.csv\n",
      "Importing data for udacity_capstone_data/transactions_200729.csv\n",
      "s3://udacity-machine-learning-capstone-data/udacity_capstone_data/transactions_200729.csv\n",
      "udacity_capstone_data/transactions_200729.csv\n",
      "Importing data for udacity_capstone_data/transactions_200730.csv\n",
      "s3://udacity-machine-learning-capstone-data/udacity_capstone_data/transactions_200730.csv\n",
      "udacity_capstone_data/transactions_200730.csv\n",
      "Importing data for udacity_capstone_data/transactions_200731.csv\n",
      "s3://udacity-machine-learning-capstone-data/udacity_capstone_data/transactions_200731.csv\n",
      "udacity_capstone_data/transactions_200731.csv\n",
      "Importing data for udacity_capstone_data/transactions_200732.csv\n",
      "s3://udacity-machine-learning-capstone-data/udacity_capstone_data/transactions_200732.csv\n",
      "udacity_capstone_data/transactions_200732.csv\n",
      "Importing data for udacity_capstone_data/transactions_200733.csv\n",
      "s3://udacity-machine-learning-capstone-data/udacity_capstone_data/transactions_200733.csv\n",
      "udacity_capstone_data/transactions_200733.csv\n",
      "Importing data for udacity_capstone_data/transactions_200734.csv\n",
      "s3://udacity-machine-learning-capstone-data/udacity_capstone_data/transactions_200734.csv\n",
      "udacity_capstone_data/transactions_200734.csv\n"
     ]
    }
   ],
   "source": [
    "# Import all customer transaction data and the calendar data\n",
    "time_data, all_trans = import_data(bucket)"
   ]
  },
  {
   "cell_type": "markdown",
   "metadata": {},
   "source": [
    "### EDA raw transaction files"
   ]
  },
  {
   "cell_type": "code",
   "execution_count": null,
   "metadata": {},
   "outputs": [],
   "source": [
    "all_trans.head()"
   ]
  },
  {
   "cell_type": "code",
   "execution_count": null,
   "metadata": {},
   "outputs": [],
   "source": [
    "all_trans.describe()"
   ]
  },
  {
   "cell_type": "code",
   "execution_count": null,
   "metadata": {},
   "outputs": [],
   "source": [
    "# Note that there are some potential outlier values in spend and quantity"
   ]
  },
  {
   "cell_type": "code",
   "execution_count": null,
   "metadata": {},
   "outputs": [],
   "source": [
    "# Any missing data in the transaction table?\n",
    "all_trans.isnull().sum()"
   ]
  },
  {
   "cell_type": "code",
   "execution_count": null,
   "metadata": {},
   "outputs": [],
   "source": [
    "# Note missing data in CUST_CODE, CUST_PRICE_SENSITIVITY and CUST_LIFESTAGE"
   ]
  },
  {
   "cell_type": "code",
   "execution_count": null,
   "metadata": {},
   "outputs": [],
   "source": [
    "# Get counts of SHOP_WEEK, SHOP_DATE, SHOP_WEEKDAY and SHOP_HOUR\n",
    "time_vars = all_trans[[\"SHOP_WEEK\", \"SHOP_DATE\", \"SHOP_WEEKDAY\", \"SHOP_HOUR\"]]\n",
    "time_vars.apply(pd.Series.value_counts)"
   ]
  },
  {
   "cell_type": "code",
   "execution_count": null,
   "metadata": {},
   "outputs": [],
   "source": [
    "# Get counts of CUST_PRICE_SENSITIVITY, CUST_LIFESTAGE\n",
    "cust_vars = all_trans[[\"CUST_PRICE_SENSITIVITY\", \"CUST_LIFESTAGE\"]]\n",
    "cust_vars.apply(pd.Series.value_counts)"
   ]
  },
  {
   "cell_type": "code",
   "execution_count": null,
   "metadata": {},
   "outputs": [],
   "source": [
    "# Get counts of BASKET_SIZE, BASKET_PRICE_SENSITIVITY, BASKET_TYPE and BASKET_DOMINANT_MISSION\n",
    "basket_vars = all_trans[\n",
    "    [\n",
    "        \"BASKET_SIZE\",\n",
    "        \"BASKET_PRICE_SENSITIVITY\",\n",
    "        \"BASKET_TYPE\",\n",
    "        \"BASKET_DOMINANT_MISSION\",\n",
    "    ]\n",
    "]\n",
    "basket_vars.apply(pd.Series.value_counts)"
   ]
  },
  {
   "cell_type": "code",
   "execution_count": null,
   "metadata": {},
   "outputs": [],
   "source": [
    "# Get counts of STORE_FORMAT and STORE_REGION\n",
    "store_vars = all_trans[[\"STORE_FORMAT\", \"STORE_REGION\"]]\n",
    "store_vars.apply(pd.Series.value_counts)"
   ]
  },
  {
   "cell_type": "code",
   "execution_count": null,
   "metadata": {},
   "outputs": [],
   "source": [
    "# Get counts of product codes\n",
    "prod_vars = all_trans[[\"PROD_CODE_10\", \"PROD_CODE_20\", \"PROD_CODE_30\", \"PROD_CODE_40\"]]\n",
    "prod_vars.apply(pd.Series.value_counts)"
   ]
  },
  {
   "cell_type": "code",
   "execution_count": null,
   "metadata": {},
   "outputs": [],
   "source": [
    "# Number of distinct customers\n",
    "all_trans[\"CUST_CODE\"].nunique()"
   ]
  },
  {
   "cell_type": "code",
   "execution_count": null,
   "metadata": {},
   "outputs": [],
   "source": [
    "# Number of distinct items\n",
    "all_trans[\"PROD_CODE\"].nunique()"
   ]
  },
  {
   "cell_type": "code",
   "execution_count": null,
   "metadata": {},
   "outputs": [],
   "source": [
    "# Number of unique stores\n",
    "all_trans"
   ]
  },
  {
   "cell_type": "code",
   "execution_count": null,
   "metadata": {},
   "outputs": [],
   "source": [
    "all_trans.info()"
   ]
  },
  {
   "cell_type": "code",
   "execution_count": null,
   "metadata": {},
   "outputs": [],
   "source": [
    "time_data.head()"
   ]
  },
  {
   "cell_type": "code",
   "execution_count": null,
   "metadata": {},
   "outputs": [],
   "source": [
    "time_data.describe()"
   ]
  },
  {
   "cell_type": "code",
   "execution_count": null,
   "metadata": {},
   "outputs": [],
   "source": [
    "time_data.isnull().sum()"
   ]
  },
  {
   "cell_type": "code",
   "execution_count": null,
   "metadata": {},
   "outputs": [],
   "source": [
    "time_data.info()"
   ]
  },
  {
   "cell_type": "markdown",
   "metadata": {},
   "source": [
    "### Create EDA Plots"
   ]
  },
  {
   "cell_type": "code",
   "execution_count": null,
   "metadata": {},
   "outputs": [],
   "source": [
    "# Density plot of the item spend\n",
    "plt.figure(figsize=(20, 8))\n",
    "plt.rcParams[\"font.size\"] = 18\n",
    "\n",
    "sns.kdeplot(all_trans[\"SPEND\"], label=\"Item Spend\", linewidth=2)\n",
    "plt.xlabel(\"Item Spend\")\n",
    "plt.ylabel(\"Density\")\n",
    "plt.title(\"Item Spend Density Plot\")\n",
    "\n",
    "formatter = ticker.FormatStrFormatter('$%1.0f')\n",
    "plt.gca().xaxis.set_major_formatter(formatter)\n"
   ]
  },
  {
   "cell_type": "code",
   "execution_count": null,
   "metadata": {},
   "outputs": [],
   "source": [
    "# Density plot of the item quantity\n",
    "plt.figure(figsize=(20, 8))\n",
    "plt.rcParams[\"font.size\"] = 18\n",
    "\n",
    "sns.kdeplot(all_trans[\"QUANTITY\"], label=\"Item Quantity\", linewidth=2)\n",
    "plt.xlabel(\"Item Quantity\")\n",
    "plt.ylabel(\"Density\")\n",
    "plt.title(\"Item Quantity Density Plot\")"
   ]
  },
  {
   "cell_type": "code",
   "execution_count": null,
   "metadata": {},
   "outputs": [],
   "source": [
    "bask_segments = all_trans.loc[\n",
    "    :,\n",
    "    [\n",
    "        \"CUST_CODE\",\n",
    "        \"BASKET_SIZE\",\n",
    "        \"BASKET_PRICE_SENSITIVITY\",\n",
    "        \"BASKET_TYPE\",\n",
    "        \"BASKET_DOMINANT_MISSION\",\n",
    "    ],\n",
    "].drop_duplicates()\n",
    "\n",
    "\n",
    "fig, axs = plt.subplots(1, 4, figsize=(24, 6))\n",
    "i = 0\n",
    "\n",
    "# Plot of four hyperparameters\n",
    "for i, var in enumerate(\n",
    "    [\n",
    "        \"BASKET_SIZE\",\n",
    "        \"BASKET_PRICE_SENSITIVITY\",\n",
    "        \"BASKET_TYPE\",\n",
    "        \"BASKET_DOMINANT_MISSION\",\n",
    "    ]\n",
    "):\n",
    "    bask_segments[var].value_counts().plot.bar(\n",
    "        color=\"blue\", title=\"Profile of {}\".format(var), ax=axs[i]\n",
    "    )\n",
    "    axs[i].get_yaxis().set_major_formatter(\n",
    "        ticker.FuncFormatter(lambda x, p: format(int(x), \",\"))\n",
    "    )\n",
    "\n",
    "plt.tight_layout()"
   ]
  },
  {
   "cell_type": "code",
   "execution_count": null,
   "metadata": {},
   "outputs": [],
   "source": [
    "cust_segments = all_trans.loc[\n",
    "    :, [\"CUST_CODE\", \"CUST_PRICE_SENSITIVITY\", \"CUST_LIFESTAGE\"]\n",
    "].drop_duplicates()\n",
    "\n",
    "fig, axs = plt.subplots(1, 2, figsize=(24, 6))\n",
    "i = 0\n",
    "\n",
    "# Plot of four hyperparameters\n",
    "for i, var in enumerate([\"CUST_PRICE_SENSITIVITY\", \"CUST_LIFESTAGE\"]):\n",
    "    cust_segments[var].value_counts().plot.bar(\n",
    "        color=\"blue\", title=\"Profile of {}\".format(var), ax=axs[i]\n",
    "    )\n",
    "    axs[i].get_yaxis().set_major_formatter(\n",
    "        ticker.FuncFormatter(lambda x, p: format(int(x), \",\"))\n",
    "    )\n",
    "\n",
    "plt.tight_layout()"
   ]
  },
  {
   "cell_type": "markdown",
   "metadata": {},
   "source": [
    "### Pickle DataFrames and upload to s3"
   ]
  },
  {
   "cell_type": "code",
   "execution_count": null,
   "metadata": {},
   "outputs": [],
   "source": [
    "# Transactions\n",
    "all_trans.to_pickle(\"./all_trans.pkl\")\n",
    "key = \"udacity_capstone_data/all_trans.pkl\"\n",
    "boto3.Session().resource(\"s3\").Bucket(bucket).Object(key).upload_file(\"./all_trans.pkl\")"
   ]
  },
  {
   "cell_type": "code",
   "execution_count": null,
   "metadata": {},
   "outputs": [],
   "source": [
    "# Calendar\n",
    "time_data.to_pickle(\"./time_data.pkl\")\n",
    "key = \"udacity_capstone_data/time_data.pkl\"\n",
    "boto3.Session().resource(\"s3\").Bucket(bucket).Object(key).upload_file(\"./time_data.pkl\")"
   ]
  },
  {
   "cell_type": "code",
   "execution_count": null,
   "metadata": {},
   "outputs": [],
   "source": []
  }
 ],
 "metadata": {
  "kernelspec": {
   "display_name": "conda_python3",
   "language": "python",
   "name": "conda_python3"
  },
  "language_info": {
   "codemirror_mode": {
    "name": "ipython",
    "version": 3
   },
   "file_extension": ".py",
   "mimetype": "text/x-python",
   "name": "python",
   "nbconvert_exporter": "python",
   "pygments_lexer": "ipython3",
   "version": "3.6.5"
  }
 },
 "nbformat": 4,
 "nbformat_minor": 2
}
