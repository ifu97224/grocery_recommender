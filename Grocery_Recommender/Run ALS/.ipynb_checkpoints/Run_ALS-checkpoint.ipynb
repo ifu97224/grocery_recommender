{
 "cells": [
  {
   "cell_type": "markdown",
   "metadata": {},
   "source": [
    "## Fit ALS Model\n",
    "\n",
    "This notebook preps, fits and tunes an ALS model.  The objective is to obtain customer and user factors to be used as features in predictive models"
   ]
  },
  {
   "cell_type": "code",
   "execution_count": 1,
   "metadata": {},
   "outputs": [],
   "source": [
    "import shutil\n",
    "import pandas as pd\n",
    "import numpy as np\n",
    "import pickle\n",
    "import boto3\n",
    "from sagemaker import get_execution_role\n",
    "from scipy.stats.mstats import winsorize\n",
    "from sklearn.model_selection import train_test_split\n",
    "from sklearn.metrics import mean_squared_error\n",
    "import scipy.sparse as sparse\n",
    "import csv\n",
    "import ast\n",
    "\n",
    "import matplotlib.pyplot as plt\n",
    "import seaborn as sns\n",
    "\n",
    "%matplotlib inline\n",
    "\n",
    "#!pip install implicit\n",
    "import implicit\n",
    "\n",
    "#!pip install hyperopt\n",
    "from hyperopt import hp, Trials, fmin, tpe\n",
    "\n",
    "from data_prep.prep_data_for_ALS import *\n",
    "from train.model import *\n",
    "\n",
    "pd.set_option('display.max_rows', 500)\n",
    "pd.set_option('display.max_columns', 500)"
   ]
  },
  {
   "cell_type": "code",
   "execution_count": 2,
   "metadata": {},
   "outputs": [],
   "source": [
    "role = get_execution_role()\n",
    "region = boto3.Session().region_name\n",
    "bucket='udacity-machine-learning-capstone-data'"
   ]
  },
  {
   "cell_type": "markdown",
   "metadata": {},
   "source": [
    "### Import the customer transaction file"
   ]
  },
  {
   "cell_type": "code",
   "execution_count": 3,
   "metadata": {},
   "outputs": [],
   "source": [
    "key = 'udacity_capstone_data/all_trans.pkl' \n",
    "s3 = boto3.client('s3')\n",
    "trans_pkl = s3.download_file(bucket, key, './data/all_trans.pkl')"
   ]
  },
  {
   "cell_type": "code",
   "execution_count": 4,
   "metadata": {},
   "outputs": [
    {
     "data": {
      "text/html": [
       "<div>\n",
       "<style scoped>\n",
       "    .dataframe tbody tr th:only-of-type {\n",
       "        vertical-align: middle;\n",
       "    }\n",
       "\n",
       "    .dataframe tbody tr th {\n",
       "        vertical-align: top;\n",
       "    }\n",
       "\n",
       "    .dataframe thead th {\n",
       "        text-align: right;\n",
       "    }\n",
       "</style>\n",
       "<table border=\"1\" class=\"dataframe\">\n",
       "  <thead>\n",
       "    <tr style=\"text-align: right;\">\n",
       "      <th></th>\n",
       "      <th>SHOP_WEEK</th>\n",
       "      <th>SHOP_DATE</th>\n",
       "      <th>SHOP_WEEKDAY</th>\n",
       "      <th>SHOP_HOUR</th>\n",
       "      <th>QUANTITY</th>\n",
       "      <th>SPEND</th>\n",
       "      <th>PROD_CODE</th>\n",
       "      <th>PROD_CODE_10</th>\n",
       "      <th>PROD_CODE_20</th>\n",
       "      <th>PROD_CODE_30</th>\n",
       "      <th>PROD_CODE_40</th>\n",
       "      <th>CUST_CODE</th>\n",
       "      <th>CUST_PRICE_SENSITIVITY</th>\n",
       "      <th>CUST_LIFESTAGE</th>\n",
       "      <th>BASKET_ID</th>\n",
       "      <th>BASKET_SIZE</th>\n",
       "      <th>BASKET_PRICE_SENSITIVITY</th>\n",
       "      <th>BASKET_TYPE</th>\n",
       "      <th>BASKET_DOMINANT_MISSION</th>\n",
       "      <th>STORE_CODE</th>\n",
       "      <th>STORE_FORMAT</th>\n",
       "      <th>STORE_REGION</th>\n",
       "    </tr>\n",
       "  </thead>\n",
       "  <tbody>\n",
       "    <tr>\n",
       "      <th>0</th>\n",
       "      <td>200607</td>\n",
       "      <td>20060415</td>\n",
       "      <td>7</td>\n",
       "      <td>19</td>\n",
       "      <td>1</td>\n",
       "      <td>0.93</td>\n",
       "      <td>PRD0900033</td>\n",
       "      <td>CL00201</td>\n",
       "      <td>DEP00067</td>\n",
       "      <td>G00021</td>\n",
       "      <td>D00005</td>\n",
       "      <td>CUST0000410727</td>\n",
       "      <td>UM</td>\n",
       "      <td>OT</td>\n",
       "      <td>994100100398294</td>\n",
       "      <td>L</td>\n",
       "      <td>MM</td>\n",
       "      <td>Full Shop</td>\n",
       "      <td>Mixed</td>\n",
       "      <td>STORE00001</td>\n",
       "      <td>LS</td>\n",
       "      <td>E02</td>\n",
       "    </tr>\n",
       "    <tr>\n",
       "      <th>1</th>\n",
       "      <td>200607</td>\n",
       "      <td>20060413</td>\n",
       "      <td>5</td>\n",
       "      <td>20</td>\n",
       "      <td>1</td>\n",
       "      <td>1.03</td>\n",
       "      <td>PRD0900097</td>\n",
       "      <td>CL00001</td>\n",
       "      <td>DEP00001</td>\n",
       "      <td>G00001</td>\n",
       "      <td>D00001</td>\n",
       "      <td>CUST0000634693</td>\n",
       "      <td>LA</td>\n",
       "      <td>YF</td>\n",
       "      <td>994100100532898</td>\n",
       "      <td>L</td>\n",
       "      <td>LA</td>\n",
       "      <td>Top Up</td>\n",
       "      <td>Fresh</td>\n",
       "      <td>STORE00001</td>\n",
       "      <td>LS</td>\n",
       "      <td>E02</td>\n",
       "    </tr>\n",
       "    <tr>\n",
       "      <th>2</th>\n",
       "      <td>200607</td>\n",
       "      <td>20060416</td>\n",
       "      <td>1</td>\n",
       "      <td>14</td>\n",
       "      <td>1</td>\n",
       "      <td>0.98</td>\n",
       "      <td>PRD0900121</td>\n",
       "      <td>CL00063</td>\n",
       "      <td>DEP00019</td>\n",
       "      <td>G00007</td>\n",
       "      <td>D00002</td>\n",
       "      <td>NaN</td>\n",
       "      <td>NaN</td>\n",
       "      <td>NaN</td>\n",
       "      <td>994100100135562</td>\n",
       "      <td>L</td>\n",
       "      <td>MM</td>\n",
       "      <td>Top Up</td>\n",
       "      <td>Grocery</td>\n",
       "      <td>STORE00001</td>\n",
       "      <td>LS</td>\n",
       "      <td>E02</td>\n",
       "    </tr>\n",
       "    <tr>\n",
       "      <th>3</th>\n",
       "      <td>200607</td>\n",
       "      <td>20060415</td>\n",
       "      <td>7</td>\n",
       "      <td>19</td>\n",
       "      <td>1</td>\n",
       "      <td>3.07</td>\n",
       "      <td>PRD0900135</td>\n",
       "      <td>CL00201</td>\n",
       "      <td>DEP00067</td>\n",
       "      <td>G00021</td>\n",
       "      <td>D00005</td>\n",
       "      <td>CUST0000410727</td>\n",
       "      <td>UM</td>\n",
       "      <td>OT</td>\n",
       "      <td>994100100398294</td>\n",
       "      <td>L</td>\n",
       "      <td>MM</td>\n",
       "      <td>Full Shop</td>\n",
       "      <td>Mixed</td>\n",
       "      <td>STORE00001</td>\n",
       "      <td>LS</td>\n",
       "      <td>E02</td>\n",
       "    </tr>\n",
       "    <tr>\n",
       "      <th>4</th>\n",
       "      <td>200607</td>\n",
       "      <td>20060415</td>\n",
       "      <td>7</td>\n",
       "      <td>19</td>\n",
       "      <td>1</td>\n",
       "      <td>4.81</td>\n",
       "      <td>PRD0900220</td>\n",
       "      <td>CL00051</td>\n",
       "      <td>DEP00013</td>\n",
       "      <td>G00005</td>\n",
       "      <td>D00002</td>\n",
       "      <td>CUST0000410727</td>\n",
       "      <td>UM</td>\n",
       "      <td>OT</td>\n",
       "      <td>994100100398294</td>\n",
       "      <td>L</td>\n",
       "      <td>MM</td>\n",
       "      <td>Full Shop</td>\n",
       "      <td>Mixed</td>\n",
       "      <td>STORE00001</td>\n",
       "      <td>LS</td>\n",
       "      <td>E02</td>\n",
       "    </tr>\n",
       "  </tbody>\n",
       "</table>\n",
       "</div>"
      ],
      "text/plain": [
       "   SHOP_WEEK  SHOP_DATE  SHOP_WEEKDAY  SHOP_HOUR  QUANTITY  SPEND   PROD_CODE  \\\n",
       "0     200607   20060415             7         19         1   0.93  PRD0900033   \n",
       "1     200607   20060413             5         20         1   1.03  PRD0900097   \n",
       "2     200607   20060416             1         14         1   0.98  PRD0900121   \n",
       "3     200607   20060415             7         19         1   3.07  PRD0900135   \n",
       "4     200607   20060415             7         19         1   4.81  PRD0900220   \n",
       "\n",
       "  PROD_CODE_10 PROD_CODE_20 PROD_CODE_30 PROD_CODE_40       CUST_CODE  \\\n",
       "0      CL00201     DEP00067       G00021       D00005  CUST0000410727   \n",
       "1      CL00001     DEP00001       G00001       D00001  CUST0000634693   \n",
       "2      CL00063     DEP00019       G00007       D00002             NaN   \n",
       "3      CL00201     DEP00067       G00021       D00005  CUST0000410727   \n",
       "4      CL00051     DEP00013       G00005       D00002  CUST0000410727   \n",
       "\n",
       "  CUST_PRICE_SENSITIVITY CUST_LIFESTAGE        BASKET_ID BASKET_SIZE  \\\n",
       "0                     UM             OT  994100100398294           L   \n",
       "1                     LA             YF  994100100532898           L   \n",
       "2                    NaN            NaN  994100100135562           L   \n",
       "3                     UM             OT  994100100398294           L   \n",
       "4                     UM             OT  994100100398294           L   \n",
       "\n",
       "  BASKET_PRICE_SENSITIVITY BASKET_TYPE BASKET_DOMINANT_MISSION  STORE_CODE  \\\n",
       "0                       MM   Full Shop                   Mixed  STORE00001   \n",
       "1                       LA      Top Up                   Fresh  STORE00001   \n",
       "2                       MM      Top Up                 Grocery  STORE00001   \n",
       "3                       MM   Full Shop                   Mixed  STORE00001   \n",
       "4                       MM   Full Shop                   Mixed  STORE00001   \n",
       "\n",
       "  STORE_FORMAT STORE_REGION  \n",
       "0           LS          E02  \n",
       "1           LS          E02  \n",
       "2           LS          E02  \n",
       "3           LS          E02  \n",
       "4           LS          E02  "
      ]
     },
     "execution_count": 4,
     "metadata": {},
     "output_type": "execute_result"
    }
   ],
   "source": [
    "s3 = boto3.resource('s3')\n",
    "all_cust_trans = pickle.loads(s3.Bucket(bucket).Object(key).get()['Body'].read())\n",
    "all_cust_trans.head()"
   ]
  },
  {
   "cell_type": "markdown",
   "metadata": {},
   "source": [
    "### Summarize to customer and count of products purchased\n",
    "\n",
    "Create a DataFrame at the customer and product level with count of the quantity of units purchased as implicit feedback"
   ]
  },
  {
   "cell_type": "code",
   "execution_count": 5,
   "metadata": {},
   "outputs": [],
   "source": [
    "prep_als = als_data_prep(all_cust_trans, 200716, 200815)"
   ]
  },
  {
   "cell_type": "code",
   "execution_count": 6,
   "metadata": {},
   "outputs": [
    {
     "data": {
      "text/html": [
       "<div>\n",
       "<style scoped>\n",
       "    .dataframe tbody tr th:only-of-type {\n",
       "        vertical-align: middle;\n",
       "    }\n",
       "\n",
       "    .dataframe tbody tr th {\n",
       "        vertical-align: top;\n",
       "    }\n",
       "\n",
       "    .dataframe thead th {\n",
       "        text-align: right;\n",
       "    }\n",
       "</style>\n",
       "<table border=\"1\" class=\"dataframe\">\n",
       "  <thead>\n",
       "    <tr style=\"text-align: right;\">\n",
       "      <th></th>\n",
       "      <th>CUST_CODE</th>\n",
       "      <th>PROD_CODE</th>\n",
       "      <th>QUANTITY</th>\n",
       "    </tr>\n",
       "  </thead>\n",
       "  <tbody>\n",
       "    <tr>\n",
       "      <th>0</th>\n",
       "      <td>CUST0000000013</td>\n",
       "      <td>PRD0900121</td>\n",
       "      <td>1</td>\n",
       "    </tr>\n",
       "    <tr>\n",
       "      <th>1</th>\n",
       "      <td>CUST0000000013</td>\n",
       "      <td>PRD0900139</td>\n",
       "      <td>1</td>\n",
       "    </tr>\n",
       "    <tr>\n",
       "      <th>2</th>\n",
       "      <td>CUST0000000013</td>\n",
       "      <td>PRD0900161</td>\n",
       "      <td>1</td>\n",
       "    </tr>\n",
       "    <tr>\n",
       "      <th>3</th>\n",
       "      <td>CUST0000000013</td>\n",
       "      <td>PRD0900234</td>\n",
       "      <td>3</td>\n",
       "    </tr>\n",
       "    <tr>\n",
       "      <th>4</th>\n",
       "      <td>CUST0000000013</td>\n",
       "      <td>PRD0900330</td>\n",
       "      <td>1</td>\n",
       "    </tr>\n",
       "  </tbody>\n",
       "</table>\n",
       "</div>"
      ],
      "text/plain": [
       "        CUST_CODE   PROD_CODE  QUANTITY\n",
       "0  CUST0000000013  PRD0900121         1\n",
       "1  CUST0000000013  PRD0900139         1\n",
       "2  CUST0000000013  PRD0900161         1\n",
       "3  CUST0000000013  PRD0900234         3\n",
       "4  CUST0000000013  PRD0900330         1"
      ]
     },
     "execution_count": 6,
     "metadata": {},
     "output_type": "execute_result"
    }
   ],
   "source": [
    "cust_quant_summ = prep_als.create_cust_quant_summ()\n",
    "cust_quant_summ.head()"
   ]
  },
  {
   "cell_type": "markdown",
   "metadata": {},
   "source": [
    "### Winsorize the DataFrame to remove outliers"
   ]
  },
  {
   "cell_type": "code",
   "execution_count": 7,
   "metadata": {},
   "outputs": [],
   "source": [
    "winsorized_list = prep_als.winsorize_df(train_df = cust_quant_summ, \n",
    "                                        test_df = None, \n",
    "                                        valid_df = None,\n",
    "                                        cols = ['QUANTITY'], \n",
    "                                        lower = 0.05, \n",
    "                                        upper = 0.05, \n",
    "                                        test_set = False,\n",
    "                                        valid_set = False)"
   ]
  },
  {
   "cell_type": "code",
   "execution_count": 8,
   "metadata": {},
   "outputs": [],
   "source": [
    "cust_summ_train = winsorized_list[0]"
   ]
  },
  {
   "cell_type": "code",
   "execution_count": 9,
   "metadata": {},
   "outputs": [
    {
     "data": {
      "text/html": [
       "<div>\n",
       "<style scoped>\n",
       "    .dataframe tbody tr th:only-of-type {\n",
       "        vertical-align: middle;\n",
       "    }\n",
       "\n",
       "    .dataframe tbody tr th {\n",
       "        vertical-align: top;\n",
       "    }\n",
       "\n",
       "    .dataframe thead th {\n",
       "        text-align: right;\n",
       "    }\n",
       "</style>\n",
       "<table border=\"1\" class=\"dataframe\">\n",
       "  <thead>\n",
       "    <tr style=\"text-align: right;\">\n",
       "      <th></th>\n",
       "      <th>CUST_CODE</th>\n",
       "      <th>PROD_CODE</th>\n",
       "      <th>QUANTITY</th>\n",
       "    </tr>\n",
       "  </thead>\n",
       "  <tbody>\n",
       "    <tr>\n",
       "      <th>0</th>\n",
       "      <td>CUST0000000013</td>\n",
       "      <td>PRD0900121</td>\n",
       "      <td>1</td>\n",
       "    </tr>\n",
       "    <tr>\n",
       "      <th>1</th>\n",
       "      <td>CUST0000000013</td>\n",
       "      <td>PRD0900139</td>\n",
       "      <td>1</td>\n",
       "    </tr>\n",
       "    <tr>\n",
       "      <th>2</th>\n",
       "      <td>CUST0000000013</td>\n",
       "      <td>PRD0900161</td>\n",
       "      <td>1</td>\n",
       "    </tr>\n",
       "    <tr>\n",
       "      <th>3</th>\n",
       "      <td>CUST0000000013</td>\n",
       "      <td>PRD0900234</td>\n",
       "      <td>3</td>\n",
       "    </tr>\n",
       "    <tr>\n",
       "      <th>4</th>\n",
       "      <td>CUST0000000013</td>\n",
       "      <td>PRD0900330</td>\n",
       "      <td>1</td>\n",
       "    </tr>\n",
       "  </tbody>\n",
       "</table>\n",
       "</div>"
      ],
      "text/plain": [
       "        CUST_CODE   PROD_CODE  QUANTITY\n",
       "0  CUST0000000013  PRD0900121         1\n",
       "1  CUST0000000013  PRD0900139         1\n",
       "2  CUST0000000013  PRD0900161         1\n",
       "3  CUST0000000013  PRD0900234         3\n",
       "4  CUST0000000013  PRD0900330         1"
      ]
     },
     "execution_count": 9,
     "metadata": {},
     "output_type": "execute_result"
    }
   ],
   "source": [
    "cust_summ_train.sort_values(['CUST_CODE','PROD_CODE']).head()"
   ]
  },
  {
   "cell_type": "markdown",
   "metadata": {},
   "source": [
    "### Normalize the data with a min/max scaler"
   ]
  },
  {
   "cell_type": "code",
   "execution_count": 10,
   "metadata": {},
   "outputs": [],
   "source": [
    "normalized_list = prep_als.normalize_min_max(train_df = cust_summ_train,\n",
    "                                             test_df = None,\n",
    "                                             valid_df = None,\n",
    "                                             group_var = 'PROD_CODE', \n",
    "                                             normal_var = 'QUANTITY',\n",
    "                                             test_set = False,\n",
    "                                             valid_set = False)"
   ]
  },
  {
   "cell_type": "code",
   "execution_count": 11,
   "metadata": {},
   "outputs": [],
   "source": [
    "train_df_normal = normalized_list[0]"
   ]
  },
  {
   "cell_type": "code",
   "execution_count": 12,
   "metadata": {},
   "outputs": [
    {
     "data": {
      "text/html": [
       "<div>\n",
       "<style scoped>\n",
       "    .dataframe tbody tr th:only-of-type {\n",
       "        vertical-align: middle;\n",
       "    }\n",
       "\n",
       "    .dataframe tbody tr th {\n",
       "        vertical-align: top;\n",
       "    }\n",
       "\n",
       "    .dataframe thead th {\n",
       "        text-align: right;\n",
       "    }\n",
       "</style>\n",
       "<table border=\"1\" class=\"dataframe\">\n",
       "  <thead>\n",
       "    <tr style=\"text-align: right;\">\n",
       "      <th></th>\n",
       "      <th>CUST_CODE</th>\n",
       "      <th>PROD_CODE</th>\n",
       "      <th>QUANTITY</th>\n",
       "    </tr>\n",
       "  </thead>\n",
       "  <tbody>\n",
       "    <tr>\n",
       "      <th>0</th>\n",
       "      <td>CUST0000000013</td>\n",
       "      <td>PRD0900121</td>\n",
       "      <td>0.010000</td>\n",
       "    </tr>\n",
       "    <tr>\n",
       "      <th>1856</th>\n",
       "      <td>CUST0000000013</td>\n",
       "      <td>PRD0900139</td>\n",
       "      <td>0.010000</td>\n",
       "    </tr>\n",
       "    <tr>\n",
       "      <th>2058</th>\n",
       "      <td>CUST0000000013</td>\n",
       "      <td>PRD0900161</td>\n",
       "      <td>0.010000</td>\n",
       "    </tr>\n",
       "    <tr>\n",
       "      <th>2143</th>\n",
       "      <td>CUST0000000013</td>\n",
       "      <td>PRD0900234</td>\n",
       "      <td>0.029231</td>\n",
       "    </tr>\n",
       "    <tr>\n",
       "      <th>2657</th>\n",
       "      <td>CUST0000000013</td>\n",
       "      <td>PRD0900330</td>\n",
       "      <td>0.010000</td>\n",
       "    </tr>\n",
       "  </tbody>\n",
       "</table>\n",
       "</div>"
      ],
      "text/plain": [
       "           CUST_CODE   PROD_CODE  QUANTITY\n",
       "0     CUST0000000013  PRD0900121  0.010000\n",
       "1856  CUST0000000013  PRD0900139  0.010000\n",
       "2058  CUST0000000013  PRD0900161  0.010000\n",
       "2143  CUST0000000013  PRD0900234  0.029231\n",
       "2657  CUST0000000013  PRD0900330  0.010000"
      ]
     },
     "execution_count": 12,
     "metadata": {},
     "output_type": "execute_result"
    }
   ],
   "source": [
    "train_df_normal.sort_values(['CUST_CODE','PROD_CODE']).head()"
   ]
  },
  {
   "cell_type": "markdown",
   "metadata": {},
   "source": [
    "### Remove random rows from each customer to use as a test set\n",
    "\n",
    "As ALS needs all customers to build the model, random customer/product rows will be held out to use as a test set"
   ]
  },
  {
   "cell_type": "code",
   "execution_count": 13,
   "metadata": {},
   "outputs": [
    {
     "data": {
      "text/html": [
       "<div>\n",
       "<style scoped>\n",
       "    .dataframe tbody tr th:only-of-type {\n",
       "        vertical-align: middle;\n",
       "    }\n",
       "\n",
       "    .dataframe tbody tr th {\n",
       "        vertical-align: top;\n",
       "    }\n",
       "\n",
       "    .dataframe thead th {\n",
       "        text-align: right;\n",
       "    }\n",
       "</style>\n",
       "<table border=\"1\" class=\"dataframe\">\n",
       "  <thead>\n",
       "    <tr style=\"text-align: right;\">\n",
       "      <th></th>\n",
       "      <th>CUST_CODE</th>\n",
       "      <th>PROD_CODE</th>\n",
       "      <th>QUANTITY</th>\n",
       "    </tr>\n",
       "  </thead>\n",
       "  <tbody>\n",
       "    <tr>\n",
       "      <th>0</th>\n",
       "      <td>CUST0000003447</td>\n",
       "      <td>PRD0900121</td>\n",
       "      <td>0.026279</td>\n",
       "    </tr>\n",
       "    <tr>\n",
       "      <th>1</th>\n",
       "      <td>CUST0000010712</td>\n",
       "      <td>PRD0900121</td>\n",
       "      <td>0.010000</td>\n",
       "    </tr>\n",
       "    <tr>\n",
       "      <th>2</th>\n",
       "      <td>CUST0000010921</td>\n",
       "      <td>PRD0900121</td>\n",
       "      <td>0.010000</td>\n",
       "    </tr>\n",
       "    <tr>\n",
       "      <th>3</th>\n",
       "      <td>CUST0000016376</td>\n",
       "      <td>PRD0900121</td>\n",
       "      <td>0.014651</td>\n",
       "    </tr>\n",
       "    <tr>\n",
       "      <th>4</th>\n",
       "      <td>CUST0000016975</td>\n",
       "      <td>PRD0900121</td>\n",
       "      <td>0.010000</td>\n",
       "    </tr>\n",
       "  </tbody>\n",
       "</table>\n",
       "</div>"
      ],
      "text/plain": [
       "        CUST_CODE   PROD_CODE  QUANTITY\n",
       "0  CUST0000003447  PRD0900121  0.026279\n",
       "1  CUST0000010712  PRD0900121  0.010000\n",
       "2  CUST0000010921  PRD0900121  0.010000\n",
       "3  CUST0000016376  PRD0900121  0.014651\n",
       "4  CUST0000016975  PRD0900121  0.010000"
      ]
     },
     "execution_count": 13,
     "metadata": {},
     "output_type": "execute_result"
    }
   ],
   "source": [
    "test_df, train_df = prep_als.create_als_train_test(train_df_normal, frac = 0.1)\n",
    "test_df.head()"
   ]
  },
  {
   "cell_type": "markdown",
   "metadata": {},
   "source": [
    "### Create the index mapping on CUST_CODE and PROD_CODE\n",
    "\n",
    "The ALS aglorithm requires that the customer vector and product vector be integers - these functions create and merge the mapping"
   ]
  },
  {
   "cell_type": "code",
   "execution_count": 14,
   "metadata": {},
   "outputs": [],
   "source": [
    "# Create the customer and items mapping files\n",
    "train_cust_mapping = prep_als.create_mapping(train_df, 'CUST_CODE')"
   ]
  },
  {
   "cell_type": "code",
   "execution_count": 15,
   "metadata": {},
   "outputs": [],
   "source": [
    "train_items_mapping = prep_als.create_mapping(train_df, 'PROD_CODE')"
   ]
  },
  {
   "cell_type": "code",
   "execution_count": 16,
   "metadata": {},
   "outputs": [
    {
     "data": {
      "text/html": [
       "<div>\n",
       "<style scoped>\n",
       "    .dataframe tbody tr th:only-of-type {\n",
       "        vertical-align: middle;\n",
       "    }\n",
       "\n",
       "    .dataframe tbody tr th {\n",
       "        vertical-align: top;\n",
       "    }\n",
       "\n",
       "    .dataframe thead th {\n",
       "        text-align: right;\n",
       "    }\n",
       "</style>\n",
       "<table border=\"1\" class=\"dataframe\">\n",
       "  <thead>\n",
       "    <tr style=\"text-align: right;\">\n",
       "      <th></th>\n",
       "      <th>CUST_CODE</th>\n",
       "      <th>PROD_CODE</th>\n",
       "      <th>QUANTITY</th>\n",
       "      <th>index_CUST_CODE</th>\n",
       "      <th>index_PROD_CODE</th>\n",
       "    </tr>\n",
       "  </thead>\n",
       "  <tbody>\n",
       "    <tr>\n",
       "      <th>0</th>\n",
       "      <td>CUST0000000013</td>\n",
       "      <td>PRD0900121</td>\n",
       "      <td>0.010</td>\n",
       "      <td>0</td>\n",
       "      <td>120</td>\n",
       "    </tr>\n",
       "    <tr>\n",
       "      <th>6925</th>\n",
       "      <td>CUST0000000013</td>\n",
       "      <td>PRD0903497</td>\n",
       "      <td>0.010</td>\n",
       "      <td>0</td>\n",
       "      <td>3496</td>\n",
       "    </tr>\n",
       "    <tr>\n",
       "      <th>4899</th>\n",
       "      <td>CUST0000000013</td>\n",
       "      <td>PRD0902522</td>\n",
       "      <td>0.035</td>\n",
       "      <td>0</td>\n",
       "      <td>2521</td>\n",
       "    </tr>\n",
       "    <tr>\n",
       "      <th>3202</th>\n",
       "      <td>CUST0000000013</td>\n",
       "      <td>PRD0901297</td>\n",
       "      <td>0.010</td>\n",
       "      <td>0</td>\n",
       "      <td>1296</td>\n",
       "    </tr>\n",
       "    <tr>\n",
       "      <th>5613</th>\n",
       "      <td>CUST0000000013</td>\n",
       "      <td>PRD0902846</td>\n",
       "      <td>0.010</td>\n",
       "      <td>0</td>\n",
       "      <td>2845</td>\n",
       "    </tr>\n",
       "  </tbody>\n",
       "</table>\n",
       "</div>"
      ],
      "text/plain": [
       "           CUST_CODE   PROD_CODE  QUANTITY  index_CUST_CODE  index_PROD_CODE\n",
       "0     CUST0000000013  PRD0900121     0.010                0              120\n",
       "6925  CUST0000000013  PRD0903497     0.010                0             3496\n",
       "4899  CUST0000000013  PRD0902522     0.035                0             2521\n",
       "3202  CUST0000000013  PRD0901297     0.010                0             1296\n",
       "5613  CUST0000000013  PRD0902846     0.010                0             2845"
      ]
     },
     "execution_count": 16,
     "metadata": {},
     "output_type": "execute_result"
    }
   ],
   "source": [
    "train_df_mapped = prep_als.merge_mapping(train_df, train_cust_mapping, train_items_mapping)\n",
    "train_df_mapped.sort_values(['CUST_CODE']).head()"
   ]
  },
  {
   "cell_type": "code",
   "execution_count": 17,
   "metadata": {},
   "outputs": [
    {
     "data": {
      "text/html": [
       "<div>\n",
       "<style scoped>\n",
       "    .dataframe tbody tr th:only-of-type {\n",
       "        vertical-align: middle;\n",
       "    }\n",
       "\n",
       "    .dataframe tbody tr th {\n",
       "        vertical-align: top;\n",
       "    }\n",
       "\n",
       "    .dataframe thead th {\n",
       "        text-align: right;\n",
       "    }\n",
       "</style>\n",
       "<table border=\"1\" class=\"dataframe\">\n",
       "  <thead>\n",
       "    <tr style=\"text-align: right;\">\n",
       "      <th></th>\n",
       "      <th>CUST_CODE</th>\n",
       "      <th>PROD_CODE</th>\n",
       "      <th>QUANTITY</th>\n",
       "      <th>index_CUST_CODE</th>\n",
       "      <th>index_PROD_CODE</th>\n",
       "    </tr>\n",
       "  </thead>\n",
       "  <tbody>\n",
       "    <tr>\n",
       "      <th>29036</th>\n",
       "      <td>CUST0000000013</td>\n",
       "      <td>PRD0904158</td>\n",
       "      <td>0.038846</td>\n",
       "      <td>0</td>\n",
       "      <td>4157</td>\n",
       "    </tr>\n",
       "    <tr>\n",
       "      <th>11559</th>\n",
       "      <td>CUST0000000013</td>\n",
       "      <td>PRD0900139</td>\n",
       "      <td>0.010000</td>\n",
       "      <td>0</td>\n",
       "      <td>138</td>\n",
       "    </tr>\n",
       "    <tr>\n",
       "      <th>29347</th>\n",
       "      <td>CUST0000000013</td>\n",
       "      <td>PRD0902860</td>\n",
       "      <td>0.010000</td>\n",
       "      <td>0</td>\n",
       "      <td>2859</td>\n",
       "    </tr>\n",
       "    <tr>\n",
       "      <th>20620</th>\n",
       "      <td>CUST0000000013</td>\n",
       "      <td>PRD0904311</td>\n",
       "      <td>0.010000</td>\n",
       "      <td>0</td>\n",
       "      <td>4310</td>\n",
       "    </tr>\n",
       "    <tr>\n",
       "      <th>29755</th>\n",
       "      <td>CUST0000000055</td>\n",
       "      <td>PRD0901006</td>\n",
       "      <td>1.010000</td>\n",
       "      <td>1</td>\n",
       "      <td>1005</td>\n",
       "    </tr>\n",
       "  </tbody>\n",
       "</table>\n",
       "</div>"
      ],
      "text/plain": [
       "            CUST_CODE   PROD_CODE  QUANTITY  index_CUST_CODE  index_PROD_CODE\n",
       "29036  CUST0000000013  PRD0904158  0.038846                0             4157\n",
       "11559  CUST0000000013  PRD0900139  0.010000                0              138\n",
       "29347  CUST0000000013  PRD0902860  0.010000                0             2859\n",
       "20620  CUST0000000013  PRD0904311  0.010000                0             4310\n",
       "29755  CUST0000000055  PRD0901006  1.010000                1             1005"
      ]
     },
     "execution_count": 17,
     "metadata": {},
     "output_type": "execute_result"
    }
   ],
   "source": [
    "test_df_mapped = prep_als.merge_mapping(test_df, train_cust_mapping, train_items_mapping)\n",
    "test_df_mapped.sort_values(['CUST_CODE']).head()"
   ]
  },
  {
   "cell_type": "markdown",
   "metadata": {},
   "source": [
    "### Create the sparse matrix required by ALS"
   ]
  },
  {
   "cell_type": "code",
   "execution_count": 18,
   "metadata": {},
   "outputs": [],
   "source": [
    "purchases_sparse = prep_als.create_sparse_matrix(train_df_mapped)"
   ]
  },
  {
   "cell_type": "code",
   "execution_count": 19,
   "metadata": {},
   "outputs": [
    {
     "data": {
      "text/plain": [
       "<4997x4364 sparse matrix of type '<class 'numpy.float64'>'\n",
       "\twith 427908 stored elements in Compressed Sparse Row format>"
      ]
     },
     "execution_count": 19,
     "metadata": {},
     "output_type": "execute_result"
    }
   ],
   "source": [
    "purchases_sparse"
   ]
  },
  {
   "cell_type": "code",
   "execution_count": 20,
   "metadata": {},
   "outputs": [
    {
     "data": {
      "text/plain": [
       "98.03774106810557"
      ]
     },
     "execution_count": 20,
     "metadata": {},
     "output_type": "execute_result"
    }
   ],
   "source": [
    "# Check the sparsity of the matrix\n",
    "matrix_size = purchases_sparse.shape[0] * purchases_sparse.shape[1]\n",
    "num_purchases = len(purchases_sparse.nonzero()[0])\n",
    "sparsity = 100 * (1 - (num_purchases/matrix_size))\n",
    "sparsity"
   ]
  },
  {
   "cell_type": "markdown",
   "metadata": {},
   "source": [
    "### Hyperparameter tuning\n",
    "\n",
    "Tune the alpha, number of factors, regularization parameter and number of iterations"
   ]
  },
  {
   "cell_type": "code",
   "execution_count": 21,
   "metadata": {},
   "outputs": [],
   "source": [
    "# Create the object to fit and tune ALS\n",
    "als_model = fit_and_tune_als(purchases_sparse)"
   ]
  },
  {
   "cell_type": "code",
   "execution_count": 22,
   "metadata": {},
   "outputs": [],
   "source": [
    "# Define the search space\n",
    "space = {'alpha': hp.choice('alpha', np.arange(5, 50+1, 5, dtype=int)),\n",
    "         'num_factors': hp.choice('num_factors', np.arange(5, 30+1, 5, dtype=int)),\n",
    "         'reg': hp.choice('reg', np.arange(20, 100+1, 1, dtype=int)),\n",
    "         'iters': hp.choice('iters', np.arange(50, 500+1, 1, dtype=int)),\n",
    "        }"
   ]
  },
  {
   "cell_type": "code",
   "execution_count": 23,
   "metadata": {},
   "outputs": [
    {
     "name": "stdout",
     "output_type": "stream",
     "text": [
      "{'alpha': 50, 'iters': 109, 'num_factors': 5, 'reg': 73}\n",
      "  0%|          | 0/2 [00:00<?, ?it/s, best loss: ?]"
     ]
    },
    {
     "data": {
      "application/vnd.jupyter.widget-view+json": {
       "model_id": "5416eb1784a94eb2a508272881c6be04",
       "version_major": 2,
       "version_minor": 0
      },
      "text/plain": [
       "HBox(children=(FloatProgress(value=0.0, max=109.0), HTML(value='')))"
      ]
     },
     "metadata": {},
     "output_type": "display_data"
    },
    {
     "name": "stdout",
     "output_type": "stream",
     "text": [
      "training set mse = 0.04124843403769165, test set mse = 0.041069837253902106\n",
      "{'alpha': 25, 'iters': 410, 'num_factors': 25, 'reg': 46}                     \n",
      " 50%|█████     | 1/2 [01:31<01:31, 91.94s/it, best loss: 0.041069837253902106]"
     ]
    },
    {
     "data": {
      "application/vnd.jupyter.widget-view+json": {
       "model_id": "38291d43cb4c43e9bc22766702b557fc",
       "version_major": 2,
       "version_minor": 0
      },
      "text/plain": [
       "HBox(children=(FloatProgress(value=0.0, max=410.0), HTML(value='')))"
      ]
     },
     "metadata": {},
     "output_type": "display_data"
    },
    {
     "name": "stdout",
     "output_type": "stream",
     "text": [
      "training set mse = 0.034457874284322475, test set mse = 0.034469765541480804  \n",
      "100%|██████████| 2/2 [06:09<00:00, 184.53s/it, best loss: 0.034469765541480804]\n"
     ]
    }
   ],
   "source": [
    "best = als_model.tune_params(search_space = space, \n",
    "                             out_file = './results/als_trials.csv', \n",
    "                             max_evals = 2,\n",
    "                             train_df = train_df_mapped, \n",
    "                             test_df = test_df_mapped)"
   ]
  },
  {
   "cell_type": "code",
   "execution_count": 24,
   "metadata": {},
   "outputs": [
    {
     "data": {
      "text/html": [
       "<div>\n",
       "<style scoped>\n",
       "    .dataframe tbody tr th:only-of-type {\n",
       "        vertical-align: middle;\n",
       "    }\n",
       "\n",
       "    .dataframe tbody tr th {\n",
       "        vertical-align: top;\n",
       "    }\n",
       "\n",
       "    .dataframe thead th {\n",
       "        text-align: right;\n",
       "    }\n",
       "</style>\n",
       "<table border=\"1\" class=\"dataframe\">\n",
       "  <thead>\n",
       "    <tr style=\"text-align: right;\">\n",
       "      <th></th>\n",
       "      <th>loss</th>\n",
       "      <th>params</th>\n",
       "      <th>iteration</th>\n",
       "      <th>train_time</th>\n",
       "      <th>status</th>\n",
       "    </tr>\n",
       "  </thead>\n",
       "  <tbody>\n",
       "    <tr>\n",
       "      <th>0</th>\n",
       "      <td>0.03447</td>\n",
       "      <td>{'alpha': 25, 'iters': 410, 'num_factors': 25,...</td>\n",
       "      <td>2</td>\n",
       "      <td>277.071908</td>\n",
       "      <td>ok</td>\n",
       "    </tr>\n",
       "    <tr>\n",
       "      <th>1</th>\n",
       "      <td>0.04107</td>\n",
       "      <td>{'alpha': 50, 'iters': 109, 'num_factors': 5, ...</td>\n",
       "      <td>1</td>\n",
       "      <td>91.592314</td>\n",
       "      <td>ok</td>\n",
       "    </tr>\n",
       "  </tbody>\n",
       "</table>\n",
       "</div>"
      ],
      "text/plain": [
       "      loss                                             params  iteration  \\\n",
       "0  0.03447  {'alpha': 25, 'iters': 410, 'num_factors': 25,...          2   \n",
       "1  0.04107  {'alpha': 50, 'iters': 109, 'num_factors': 5, ...          1   \n",
       "\n",
       "   train_time status  \n",
       "0  277.071908     ok  \n",
       "1   91.592314     ok  "
      ]
     },
     "execution_count": 24,
     "metadata": {},
     "output_type": "execute_result"
    }
   ],
   "source": [
    "results = pd.read_csv('./results/als_trials.csv')\n",
    "\n",
    "# Sort with best scores on top and reset index for slicing\n",
    "results.sort_values('loss', ascending = True, inplace = True)\n",
    "results.reset_index(inplace = True, drop = True)\n",
    "results.head()"
   ]
  },
  {
   "cell_type": "code",
   "execution_count": 25,
   "metadata": {},
   "outputs": [
    {
     "data": {
      "text/plain": [
       "{'alpha': 25, 'iters': 410, 'num_factors': 25, 'reg': 46}"
      ]
     },
     "execution_count": 25,
     "metadata": {},
     "output_type": "execute_result"
    }
   ],
   "source": [
    "best_params = ast.literal_eval(results.loc[0, 'params']).copy()\n",
    "best_params"
   ]
  },
  {
   "cell_type": "markdown",
   "metadata": {},
   "source": [
    "### Visualize the hyperparameter search"
   ]
  },
  {
   "cell_type": "code",
   "execution_count": 26,
   "metadata": {},
   "outputs": [
    {
     "data": {
      "text/html": [
       "<div>\n",
       "<style scoped>\n",
       "    .dataframe tbody tr th:only-of-type {\n",
       "        vertical-align: middle;\n",
       "    }\n",
       "\n",
       "    .dataframe tbody tr th {\n",
       "        vertical-align: top;\n",
       "    }\n",
       "\n",
       "    .dataframe thead th {\n",
       "        text-align: right;\n",
       "    }\n",
       "</style>\n",
       "<table border=\"1\" class=\"dataframe\">\n",
       "  <thead>\n",
       "    <tr style=\"text-align: right;\">\n",
       "      <th></th>\n",
       "      <th>alpha</th>\n",
       "      <th>iters</th>\n",
       "      <th>num_factors</th>\n",
       "      <th>reg</th>\n",
       "      <th>loss</th>\n",
       "      <th>iteration</th>\n",
       "    </tr>\n",
       "  </thead>\n",
       "  <tbody>\n",
       "    <tr>\n",
       "      <th>0</th>\n",
       "      <td>25</td>\n",
       "      <td>410</td>\n",
       "      <td>25</td>\n",
       "      <td>46</td>\n",
       "      <td>0.03447</td>\n",
       "      <td>2</td>\n",
       "    </tr>\n",
       "    <tr>\n",
       "      <th>1</th>\n",
       "      <td>50</td>\n",
       "      <td>109</td>\n",
       "      <td>5</td>\n",
       "      <td>73</td>\n",
       "      <td>0.04107</td>\n",
       "      <td>1</td>\n",
       "    </tr>\n",
       "  </tbody>\n",
       "</table>\n",
       "</div>"
      ],
      "text/plain": [
       "   alpha  iters  num_factors  reg     loss  iteration\n",
       "0     25    410           25   46  0.03447          2\n",
       "1     50    109            5   73  0.04107          1"
      ]
     },
     "execution_count": 26,
     "metadata": {},
     "output_type": "execute_result"
    }
   ],
   "source": [
    "bayes_params = pd.DataFrame(columns = list(ast.literal_eval(results.loc[0, 'params']).keys()),\n",
    "                            index = list(range(len(results))))\n",
    "\n",
    "# Add the results with each parameter a different column\n",
    "for i, params in enumerate(results['params']):\n",
    "    bayes_params.loc[i, :] = list(ast.literal_eval(params).values())\n",
    "    \n",
    "bayes_params['loss'] = results['loss']\n",
    "bayes_params['iteration'] = results['iteration']\n",
    "\n",
    "bayes_params.head()"
   ]
  },
  {
   "cell_type": "code",
   "execution_count": 27,
   "metadata": {},
   "outputs": [
    {
     "data": {
      "text/plain": [
       "Text(0.5, 1.0, 'Regularization Parameter Search Distribution')"
      ]
     },
     "execution_count": 27,
     "metadata": {},
     "output_type": "execute_result"
    },
    {
     "data": {
      "image/png": "[encoded data removed]",
      "text/plain": [
       "<Figure size 1440x576 with 1 Axes>"
      ]
     },
     "metadata": {},
     "output_type": "display_data"
    }
   ],
   "source": [
    "plt.figure(figsize = (20, 8))\n",
    "plt.rcParams['font.size'] = 18\n",
    "\n",
    "# Density plots of the learning rate distributions \n",
    "sns.kdeplot(bayes_params['reg'], label = 'Bayes Optimization', linewidth = 2)\n",
    "plt.xlabel('Regularization Parameter')\n",
    "plt.ylabel('Density'); \n",
    "plt.title('Regularization Parameter Search Distribution')"
   ]
  },
  {
   "cell_type": "code",
   "execution_count": 28,
   "metadata": {},
   "outputs": [
    {
     "data": {
      "text/plain": [
       "Text(0.5, 1.0, 'Regularization Parameter Search Distribution')"
      ]
     },
     "execution_count": 28,
     "metadata": {},
     "output_type": "execute_result"
    },
    {
     "data": {
      "image/png": "[encoded data removed]",
      "text/plain": [
       "<Figure size 1440x576 with 1 Axes>"
      ]
     },
     "metadata": {},
     "output_type": "display_data"
    }
   ],
   "source": [
    "plt.figure(figsize = (20, 8))\n",
    "plt.rcParams['font.size'] = 18\n",
    "\n",
    "sns.kdeplot(bayes_params['iters'], label = 'Bayes Optimization', linewidth = 2)\n",
    "plt.xlabel('Regularization Parameter')\n",
    "plt.ylabel('Density'); \n",
    "plt.title('Regularization Parameter Search Distribution')"
   ]
  },
  {
   "cell_type": "code",
   "execution_count": 29,
   "metadata": {},
   "outputs": [
    {
     "data": {
      "text/plain": [
       "<matplotlib.axes._subplots.AxesSubplot at 0x7f03d9f6f7f0>"
      ]
     },
     "execution_count": 29,
     "metadata": {},
     "output_type": "execute_result"
    },
    {
     "data": {
      "image/png": "[encoded data removed]",
      "text/plain": [
       "<Figure size 1008x432 with 1 Axes>"
      ]
     },
     "metadata": {},
     "output_type": "display_data"
    }
   ],
   "source": [
    "bayes_params['num_factors'].value_counts().plot.bar(figsize = (14, 6), \n",
    "                                                    color = 'blue', \n",
    "                                                    title = 'Bayes Optimization Number Factors')"
   ]
  },
  {
   "cell_type": "code",
   "execution_count": 30,
   "metadata": {},
   "outputs": [
    {
     "data": {
      "text/plain": [
       "<matplotlib.axes._subplots.AxesSubplot at 0x7f03d95bda90>"
      ]
     },
     "execution_count": 30,
     "metadata": {},
     "output_type": "execute_result"
    },
    {
     "data": {
      "image/png": "[encoded data removed]",
      "text/plain": [
       "<Figure size 1008x432 with 1 Axes>"
      ]
     },
     "metadata": {},
     "output_type": "display_data"
    }
   ],
   "source": [
    "bayes_params['alpha'].value_counts().plot.bar(figsize = (14, 6), \n",
    "                                                    color = 'blue', \n",
    "                                                    title = 'Bayes Optimization Alpha')"
   ]
  },
  {
   "cell_type": "code",
   "execution_count": 31,
   "metadata": {},
   "outputs": [
    {
     "data": {
      "image/png": "[encoded data removed]",
      "text/plain": [
       "<Figure size 1728x432 with 4 Axes>"
      ]
     },
     "metadata": {},
     "output_type": "display_data"
    }
   ],
   "source": [
    "fig, axs = plt.subplots(1, 4, figsize = (24, 6))\n",
    "i = 0\n",
    "\n",
    "# Plot of four hyperparameters\n",
    "for i, hyper in enumerate(['reg', 'iters', 'alpha', 'num_factors']):\n",
    "    \n",
    "        # Scatterplot\n",
    "        sns.regplot('iteration', hyper, data = bayes_params, ax = axs[i])\n",
    "        axs[i].set(xlabel = 'Iteration', ylabel = '{}'.format(hyper), title = '{} over Search'.format(hyper));\n",
    "\n",
    "plt.tight_layout()"
   ]
  },
  {
   "cell_type": "code",
   "execution_count": 32,
   "metadata": {},
   "outputs": [
    {
     "data": {
      "image/png": "[encoded data removed]",
      "text/plain": [
       "<Figure size 432x288 with 1 Axes>"
      ]
     },
     "metadata": {},
     "output_type": "display_data"
    }
   ],
   "source": [
    "plt.hist(bayes_params['loss'], label = 'Bayes Optimization', edgecolor = 'k');\n",
    "plt.xlabel(\"Test Set MSE\"); plt.ylabel(\"Count\"); plt.title(\"Bayes Optimization MSE\");"
   ]
  },
  {
   "cell_type": "code",
   "execution_count": 33,
   "metadata": {},
   "outputs": [
    {
     "data": {
      "image/png": "[encoded data removed]",
      "text/plain": [
       "<Figure size 576x576 with 1 Axes>"
      ]
     },
     "metadata": {},
     "output_type": "display_data"
    }
   ],
   "source": [
    "# Plot of scores over the course of searching\n",
    "sns.lmplot('iteration', 'loss', data = bayes_params, size = 8);\n",
    "plt.xlabel('Iteration'); plt.ylabel('Test Set MSE'); plt.title(\"Test Set MSE versus Iteration\");"
   ]
  },
  {
   "cell_type": "code",
   "execution_count": 34,
   "metadata": {},
   "outputs": [],
   "source": [
    "# Save dataframes of parameters\n",
    "bayes_params.to_csv('./results/bayes_params.csv', index = False)"
   ]
  },
  {
   "cell_type": "markdown",
   "metadata": {},
   "source": [
    "### Fit the ALS model with tuned parameters\n",
    "\n",
    "Fit the ALS model and return the user and item vectors"
   ]
  },
  {
   "cell_type": "code",
   "execution_count": 35,
   "metadata": {},
   "outputs": [
    {
     "data": {
      "application/vnd.jupyter.widget-view+json": {
       "model_id": "36c61923005740169da4615de21cb2ed",
       "version_major": 2,
       "version_minor": 0
      },
      "text/plain": [
       "HBox(children=(FloatProgress(value=0.0, max=410.0), HTML(value='')))"
      ]
     },
     "metadata": {},
     "output_type": "display_data"
    },
    {
     "name": "stdout",
     "output_type": "stream",
     "text": [
      "\n"
     ]
    }
   ],
   "source": [
    "best_model, user_vecs, item_vecs = als_model.fit_als(alpha = best_params['alpha'], \n",
    "                                                    num_factors = best_params['num_factors'], \n",
    "                                                    reg = best_params['reg'], \n",
    "                                                    iters = best_params['iters'])"
   ]
  },
  {
   "cell_type": "markdown",
   "metadata": {},
   "source": [
    "### Get the MSE on the training and test sets"
   ]
  },
  {
   "cell_type": "code",
   "execution_count": 36,
   "metadata": {},
   "outputs": [
    {
     "name": "stdout",
     "output_type": "stream",
     "text": [
      "training set mse = 0.03445599747454708, test set mse = 0.03445523153402991\n"
     ]
    }
   ],
   "source": [
    "training_mse, test_set_mse = als_model.get_mse(user_vecs, item_vecs, train_df_mapped, test_df_mapped)"
   ]
  },
  {
   "cell_type": "markdown",
   "metadata": {},
   "source": [
    "### Convert user and item vectors to DataFrame and map to CUST_CODE and PROD_CODE"
   ]
  },
  {
   "cell_type": "code",
   "execution_count": 37,
   "metadata": {},
   "outputs": [],
   "source": [
    "user_factors, item_factors = als_model.get_user_item_factors(user_vecs, \n",
    "                                                             item_vecs, \n",
    "                                                             train_df_mapped, \n",
    "                                                             train_items_mapping, \n",
    "                                                             train_cust_mapping)"
   ]
  },
  {
   "cell_type": "code",
   "execution_count": 38,
   "metadata": {},
   "outputs": [
    {
     "data": {
      "text/html": [
       "<div>\n",
       "<style scoped>\n",
       "    .dataframe tbody tr th:only-of-type {\n",
       "        vertical-align: middle;\n",
       "    }\n",
       "\n",
       "    .dataframe tbody tr th {\n",
       "        vertical-align: top;\n",
       "    }\n",
       "\n",
       "    .dataframe thead th {\n",
       "        text-align: right;\n",
       "    }\n",
       "</style>\n",
       "<table border=\"1\" class=\"dataframe\">\n",
       "  <thead>\n",
       "    <tr style=\"text-align: right;\">\n",
       "      <th></th>\n",
       "      <th>factor_0</th>\n",
       "      <th>factor_1</th>\n",
       "      <th>factor_2</th>\n",
       "      <th>factor_3</th>\n",
       "      <th>factor_4</th>\n",
       "      <th>factor_5</th>\n",
       "      <th>factor_6</th>\n",
       "      <th>factor_7</th>\n",
       "      <th>factor_8</th>\n",
       "      <th>factor_9</th>\n",
       "      <th>factor_10</th>\n",
       "      <th>factor_11</th>\n",
       "      <th>factor_12</th>\n",
       "      <th>factor_13</th>\n",
       "      <th>factor_14</th>\n",
       "      <th>factor_15</th>\n",
       "      <th>factor_16</th>\n",
       "      <th>factor_17</th>\n",
       "      <th>factor_18</th>\n",
       "      <th>factor_19</th>\n",
       "      <th>factor_20</th>\n",
       "      <th>factor_21</th>\n",
       "      <th>factor_22</th>\n",
       "      <th>factor_23</th>\n",
       "      <th>factor_24</th>\n",
       "      <th>CUST_CODE</th>\n",
       "    </tr>\n",
       "  </thead>\n",
       "  <tbody>\n",
       "    <tr>\n",
       "      <th>0</th>\n",
       "      <td>-0.000496</td>\n",
       "      <td>0.005579</td>\n",
       "      <td>-0.016285</td>\n",
       "      <td>-0.007970</td>\n",
       "      <td>0.032797</td>\n",
       "      <td>0.008913</td>\n",
       "      <td>0.019892</td>\n",
       "      <td>-0.005918</td>\n",
       "      <td>0.003453</td>\n",
       "      <td>0.013109</td>\n",
       "      <td>-0.012981</td>\n",
       "      <td>0.000310</td>\n",
       "      <td>0.018598</td>\n",
       "      <td>0.019125</td>\n",
       "      <td>0.004630</td>\n",
       "      <td>0.005597</td>\n",
       "      <td>0.021680</td>\n",
       "      <td>0.014397</td>\n",
       "      <td>0.018896</td>\n",
       "      <td>-0.016429</td>\n",
       "      <td>0.003649</td>\n",
       "      <td>0.027114</td>\n",
       "      <td>0.008274</td>\n",
       "      <td>0.021615</td>\n",
       "      <td>-0.016910</td>\n",
       "      <td>CUST0000000013</td>\n",
       "    </tr>\n",
       "    <tr>\n",
       "      <th>1</th>\n",
       "      <td>-0.108439</td>\n",
       "      <td>-0.082888</td>\n",
       "      <td>0.056405</td>\n",
       "      <td>0.086202</td>\n",
       "      <td>0.120631</td>\n",
       "      <td>0.080251</td>\n",
       "      <td>0.035076</td>\n",
       "      <td>-0.155978</td>\n",
       "      <td>-0.073895</td>\n",
       "      <td>0.312205</td>\n",
       "      <td>0.037803</td>\n",
       "      <td>0.118149</td>\n",
       "      <td>0.050015</td>\n",
       "      <td>0.098824</td>\n",
       "      <td>0.021565</td>\n",
       "      <td>0.165132</td>\n",
       "      <td>0.035032</td>\n",
       "      <td>-0.100880</td>\n",
       "      <td>0.208573</td>\n",
       "      <td>0.117719</td>\n",
       "      <td>0.068862</td>\n",
       "      <td>-0.066197</td>\n",
       "      <td>-0.032747</td>\n",
       "      <td>-0.073764</td>\n",
       "      <td>-0.078680</td>\n",
       "      <td>CUST0000000055</td>\n",
       "    </tr>\n",
       "    <tr>\n",
       "      <th>2</th>\n",
       "      <td>0.007228</td>\n",
       "      <td>0.020873</td>\n",
       "      <td>-0.019507</td>\n",
       "      <td>-0.015798</td>\n",
       "      <td>0.020097</td>\n",
       "      <td>0.003084</td>\n",
       "      <td>-0.015581</td>\n",
       "      <td>0.000430</td>\n",
       "      <td>0.000823</td>\n",
       "      <td>0.000917</td>\n",
       "      <td>0.012847</td>\n",
       "      <td>-0.012865</td>\n",
       "      <td>-0.001092</td>\n",
       "      <td>0.017762</td>\n",
       "      <td>0.041178</td>\n",
       "      <td>-0.020135</td>\n",
       "      <td>0.000974</td>\n",
       "      <td>0.022251</td>\n",
       "      <td>-0.023958</td>\n",
       "      <td>0.029250</td>\n",
       "      <td>-0.014099</td>\n",
       "      <td>0.035200</td>\n",
       "      <td>-0.017465</td>\n",
       "      <td>0.025503</td>\n",
       "      <td>0.026750</td>\n",
       "      <td>CUST0000000679</td>\n",
       "    </tr>\n",
       "    <tr>\n",
       "      <th>3</th>\n",
       "      <td>-0.004647</td>\n",
       "      <td>-0.004706</td>\n",
       "      <td>0.014735</td>\n",
       "      <td>-0.005807</td>\n",
       "      <td>0.007176</td>\n",
       "      <td>-0.001859</td>\n",
       "      <td>0.005245</td>\n",
       "      <td>0.006798</td>\n",
       "      <td>0.005564</td>\n",
       "      <td>0.002803</td>\n",
       "      <td>-0.000662</td>\n",
       "      <td>0.015397</td>\n",
       "      <td>0.008799</td>\n",
       "      <td>0.014814</td>\n",
       "      <td>-0.007007</td>\n",
       "      <td>-0.008100</td>\n",
       "      <td>0.003453</td>\n",
       "      <td>0.005587</td>\n",
       "      <td>0.006438</td>\n",
       "      <td>-0.010346</td>\n",
       "      <td>0.008791</td>\n",
       "      <td>0.004336</td>\n",
       "      <td>-0.007384</td>\n",
       "      <td>0.008369</td>\n",
       "      <td>-0.006155</td>\n",
       "      <td>CUST0000001052</td>\n",
       "    </tr>\n",
       "    <tr>\n",
       "      <th>4</th>\n",
       "      <td>0.005785</td>\n",
       "      <td>0.000699</td>\n",
       "      <td>-0.008628</td>\n",
       "      <td>0.001108</td>\n",
       "      <td>-0.001675</td>\n",
       "      <td>0.007015</td>\n",
       "      <td>-0.004202</td>\n",
       "      <td>-0.008762</td>\n",
       "      <td>0.011072</td>\n",
       "      <td>0.007740</td>\n",
       "      <td>-0.005685</td>\n",
       "      <td>0.025274</td>\n",
       "      <td>0.009495</td>\n",
       "      <td>0.012185</td>\n",
       "      <td>-0.000798</td>\n",
       "      <td>0.012505</td>\n",
       "      <td>-0.020286</td>\n",
       "      <td>0.003867</td>\n",
       "      <td>0.027599</td>\n",
       "      <td>0.018219</td>\n",
       "      <td>0.007168</td>\n",
       "      <td>-0.020552</td>\n",
       "      <td>0.017909</td>\n",
       "      <td>0.015969</td>\n",
       "      <td>-0.002682</td>\n",
       "      <td>CUST0000001058</td>\n",
       "    </tr>\n",
       "  </tbody>\n",
       "</table>\n",
       "</div>"
      ],
      "text/plain": [
       "   factor_0  factor_1  factor_2  factor_3  factor_4  factor_5  factor_6  \\\n",
       "0 -0.000496  0.005579 -0.016285 -0.007970  0.032797  0.008913  0.019892   \n",
       "1 -0.108439 -0.082888  0.056405  0.086202  0.120631  0.080251  0.035076   \n",
       "2  0.007228  0.020873 -0.019507 -0.015798  0.020097  0.003084 -0.015581   \n",
       "3 -0.004647 -0.004706  0.014735 -0.005807  0.007176 -0.001859  0.005245   \n",
       "4  0.005785  0.000699 -0.008628  0.001108 -0.001675  0.007015 -0.004202   \n",
       "\n",
       "   factor_7  factor_8  factor_9  factor_10  factor_11  factor_12  factor_13  \\\n",
       "0 -0.005918  0.003453  0.013109  -0.012981   0.000310   0.018598   0.019125   \n",
       "1 -0.155978 -0.073895  0.312205   0.037803   0.118149   0.050015   0.098824   \n",
       "2  0.000430  0.000823  0.000917   0.012847  -0.012865  -0.001092   0.017762   \n",
       "3  0.006798  0.005564  0.002803  -0.000662   0.015397   0.008799   0.014814   \n",
       "4 -0.008762  0.011072  0.007740  -0.005685   0.025274   0.009495   0.012185   \n",
       "\n",
       "   factor_14  factor_15  factor_16  factor_17  factor_18  factor_19  \\\n",
       "0   0.004630   0.005597   0.021680   0.014397   0.018896  -0.016429   \n",
       "1   0.021565   0.165132   0.035032  -0.100880   0.208573   0.117719   \n",
       "2   0.041178  -0.020135   0.000974   0.022251  -0.023958   0.029250   \n",
       "3  -0.007007  -0.008100   0.003453   0.005587   0.006438  -0.010346   \n",
       "4  -0.000798   0.012505  -0.020286   0.003867   0.027599   0.018219   \n",
       "\n",
       "   factor_20  factor_21  factor_22  factor_23  factor_24       CUST_CODE  \n",
       "0   0.003649   0.027114   0.008274   0.021615  -0.016910  CUST0000000013  \n",
       "1   0.068862  -0.066197  -0.032747  -0.073764  -0.078680  CUST0000000055  \n",
       "2  -0.014099   0.035200  -0.017465   0.025503   0.026750  CUST0000000679  \n",
       "3   0.008791   0.004336  -0.007384   0.008369  -0.006155  CUST0000001052  \n",
       "4   0.007168  -0.020552   0.017909   0.015969  -0.002682  CUST0000001058  "
      ]
     },
     "execution_count": 38,
     "metadata": {},
     "output_type": "execute_result"
    }
   ],
   "source": [
    "user_factors.head()"
   ]
  },
  {
   "cell_type": "code",
   "execution_count": 39,
   "metadata": {},
   "outputs": [
    {
     "data": {
      "text/html": [
       "<div>\n",
       "<style scoped>\n",
       "    .dataframe tbody tr th:only-of-type {\n",
       "        vertical-align: middle;\n",
       "    }\n",
       "\n",
       "    .dataframe tbody tr th {\n",
       "        vertical-align: top;\n",
       "    }\n",
       "\n",
       "    .dataframe thead th {\n",
       "        text-align: right;\n",
       "    }\n",
       "</style>\n",
       "<table border=\"1\" class=\"dataframe\">\n",
       "  <thead>\n",
       "    <tr style=\"text-align: right;\">\n",
       "      <th></th>\n",
       "      <th>factor_0</th>\n",
       "      <th>factor_1</th>\n",
       "      <th>factor_2</th>\n",
       "      <th>factor_3</th>\n",
       "      <th>factor_4</th>\n",
       "      <th>factor_5</th>\n",
       "      <th>factor_6</th>\n",
       "      <th>factor_7</th>\n",
       "      <th>factor_8</th>\n",
       "      <th>factor_9</th>\n",
       "      <th>factor_10</th>\n",
       "      <th>factor_11</th>\n",
       "      <th>factor_12</th>\n",
       "      <th>factor_13</th>\n",
       "      <th>factor_14</th>\n",
       "      <th>factor_15</th>\n",
       "      <th>factor_16</th>\n",
       "      <th>factor_17</th>\n",
       "      <th>factor_18</th>\n",
       "      <th>factor_19</th>\n",
       "      <th>factor_20</th>\n",
       "      <th>factor_21</th>\n",
       "      <th>factor_22</th>\n",
       "      <th>factor_23</th>\n",
       "      <th>factor_24</th>\n",
       "      <th>PROD_CODE</th>\n",
       "    </tr>\n",
       "  </thead>\n",
       "  <tbody>\n",
       "    <tr>\n",
       "      <th>0</th>\n",
       "      <td>0.056039</td>\n",
       "      <td>0.060702</td>\n",
       "      <td>0.408529</td>\n",
       "      <td>-0.102836</td>\n",
       "      <td>-0.040529</td>\n",
       "      <td>0.175616</td>\n",
       "      <td>0.178776</td>\n",
       "      <td>0.052871</td>\n",
       "      <td>0.591093</td>\n",
       "      <td>0.236236</td>\n",
       "      <td>-0.133098</td>\n",
       "      <td>-0.012547</td>\n",
       "      <td>0.225235</td>\n",
       "      <td>0.297624</td>\n",
       "      <td>0.134588</td>\n",
       "      <td>-0.042460</td>\n",
       "      <td>0.198374</td>\n",
       "      <td>0.197199</td>\n",
       "      <td>0.145561</td>\n",
       "      <td>0.519227</td>\n",
       "      <td>0.148606</td>\n",
       "      <td>0.074217</td>\n",
       "      <td>-0.271803</td>\n",
       "      <td>0.279401</td>\n",
       "      <td>-0.048003</td>\n",
       "      <td>PRD0900121</td>\n",
       "    </tr>\n",
       "    <tr>\n",
       "      <th>1</th>\n",
       "      <td>0.029470</td>\n",
       "      <td>0.029033</td>\n",
       "      <td>0.033649</td>\n",
       "      <td>-0.062453</td>\n",
       "      <td>0.006768</td>\n",
       "      <td>-0.022437</td>\n",
       "      <td>0.160554</td>\n",
       "      <td>0.052376</td>\n",
       "      <td>0.177287</td>\n",
       "      <td>0.118454</td>\n",
       "      <td>-0.087439</td>\n",
       "      <td>0.078232</td>\n",
       "      <td>-0.001510</td>\n",
       "      <td>-0.138751</td>\n",
       "      <td>0.095473</td>\n",
       "      <td>0.080484</td>\n",
       "      <td>-0.061601</td>\n",
       "      <td>0.064813</td>\n",
       "      <td>0.187527</td>\n",
       "      <td>0.034128</td>\n",
       "      <td>0.022699</td>\n",
       "      <td>-0.005100</td>\n",
       "      <td>0.255020</td>\n",
       "      <td>0.096123</td>\n",
       "      <td>0.109535</td>\n",
       "      <td>PRD0900161</td>\n",
       "    </tr>\n",
       "    <tr>\n",
       "      <th>2</th>\n",
       "      <td>0.152048</td>\n",
       "      <td>0.100820</td>\n",
       "      <td>0.147576</td>\n",
       "      <td>-0.017530</td>\n",
       "      <td>-0.043932</td>\n",
       "      <td>-0.046699</td>\n",
       "      <td>0.086889</td>\n",
       "      <td>-0.097756</td>\n",
       "      <td>0.011950</td>\n",
       "      <td>-0.037012</td>\n",
       "      <td>-0.075132</td>\n",
       "      <td>0.003183</td>\n",
       "      <td>0.057809</td>\n",
       "      <td>0.035124</td>\n",
       "      <td>-0.040075</td>\n",
       "      <td>-0.015797</td>\n",
       "      <td>0.107875</td>\n",
       "      <td>0.106519</td>\n",
       "      <td>0.026624</td>\n",
       "      <td>-0.042752</td>\n",
       "      <td>-0.075884</td>\n",
       "      <td>-0.019642</td>\n",
       "      <td>0.019963</td>\n",
       "      <td>0.135893</td>\n",
       "      <td>-0.000520</td>\n",
       "      <td>PRD0900234</td>\n",
       "    </tr>\n",
       "    <tr>\n",
       "      <th>3</th>\n",
       "      <td>-0.038501</td>\n",
       "      <td>0.038071</td>\n",
       "      <td>0.062106</td>\n",
       "      <td>-0.025431</td>\n",
       "      <td>0.086924</td>\n",
       "      <td>-0.086160</td>\n",
       "      <td>0.044355</td>\n",
       "      <td>0.062196</td>\n",
       "      <td>-0.043871</td>\n",
       "      <td>0.003863</td>\n",
       "      <td>0.078580</td>\n",
       "      <td>-0.023053</td>\n",
       "      <td>-0.065377</td>\n",
       "      <td>0.017186</td>\n",
       "      <td>0.022127</td>\n",
       "      <td>0.017429</td>\n",
       "      <td>0.057279</td>\n",
       "      <td>-0.021557</td>\n",
       "      <td>0.010272</td>\n",
       "      <td>0.004696</td>\n",
       "      <td>-0.013161</td>\n",
       "      <td>0.006001</td>\n",
       "      <td>0.046045</td>\n",
       "      <td>0.037758</td>\n",
       "      <td>0.026393</td>\n",
       "      <td>PRD0900330</td>\n",
       "    </tr>\n",
       "    <tr>\n",
       "      <th>4</th>\n",
       "      <td>-0.112231</td>\n",
       "      <td>0.029624</td>\n",
       "      <td>0.030859</td>\n",
       "      <td>0.113136</td>\n",
       "      <td>0.177019</td>\n",
       "      <td>0.224185</td>\n",
       "      <td>0.149841</td>\n",
       "      <td>-0.062104</td>\n",
       "      <td>0.003087</td>\n",
       "      <td>0.097004</td>\n",
       "      <td>0.002932</td>\n",
       "      <td>0.130978</td>\n",
       "      <td>0.054183</td>\n",
       "      <td>-0.075964</td>\n",
       "      <td>-0.127763</td>\n",
       "      <td>0.227537</td>\n",
       "      <td>0.178595</td>\n",
       "      <td>0.149405</td>\n",
       "      <td>-0.079241</td>\n",
       "      <td>0.203838</td>\n",
       "      <td>-0.085241</td>\n",
       "      <td>0.055021</td>\n",
       "      <td>-0.115308</td>\n",
       "      <td>0.025655</td>\n",
       "      <td>-0.044449</td>\n",
       "      <td>PRD0900434</td>\n",
       "    </tr>\n",
       "  </tbody>\n",
       "</table>\n",
       "</div>"
      ],
      "text/plain": [
       "   factor_0  factor_1  factor_2  factor_3  factor_4  factor_5  factor_6  \\\n",
       "0  0.056039  0.060702  0.408529 -0.102836 -0.040529  0.175616  0.178776   \n",
       "1  0.029470  0.029033  0.033649 -0.062453  0.006768 -0.022437  0.160554   \n",
       "2  0.152048  0.100820  0.147576 -0.017530 -0.043932 -0.046699  0.086889   \n",
       "3 -0.038501  0.038071  0.062106 -0.025431  0.086924 -0.086160  0.044355   \n",
       "4 -0.112231  0.029624  0.030859  0.113136  0.177019  0.224185  0.149841   \n",
       "\n",
       "   factor_7  factor_8  factor_9  factor_10  factor_11  factor_12  factor_13  \\\n",
       "0  0.052871  0.591093  0.236236  -0.133098  -0.012547   0.225235   0.297624   \n",
       "1  0.052376  0.177287  0.118454  -0.087439   0.078232  -0.001510  -0.138751   \n",
       "2 -0.097756  0.011950 -0.037012  -0.075132   0.003183   0.057809   0.035124   \n",
       "3  0.062196 -0.043871  0.003863   0.078580  -0.023053  -0.065377   0.017186   \n",
       "4 -0.062104  0.003087  0.097004   0.002932   0.130978   0.054183  -0.075964   \n",
       "\n",
       "   factor_14  factor_15  factor_16  factor_17  factor_18  factor_19  \\\n",
       "0   0.134588  -0.042460   0.198374   0.197199   0.145561   0.519227   \n",
       "1   0.095473   0.080484  -0.061601   0.064813   0.187527   0.034128   \n",
       "2  -0.040075  -0.015797   0.107875   0.106519   0.026624  -0.042752   \n",
       "3   0.022127   0.017429   0.057279  -0.021557   0.010272   0.004696   \n",
       "4  -0.127763   0.227537   0.178595   0.149405  -0.079241   0.203838   \n",
       "\n",
       "   factor_20  factor_21  factor_22  factor_23  factor_24   PROD_CODE  \n",
       "0   0.148606   0.074217  -0.271803   0.279401  -0.048003  PRD0900121  \n",
       "1   0.022699  -0.005100   0.255020   0.096123   0.109535  PRD0900161  \n",
       "2  -0.075884  -0.019642   0.019963   0.135893  -0.000520  PRD0900234  \n",
       "3  -0.013161   0.006001   0.046045   0.037758   0.026393  PRD0900330  \n",
       "4  -0.085241   0.055021  -0.115308   0.025655  -0.044449  PRD0900434  "
      ]
     },
     "execution_count": 39,
     "metadata": {},
     "output_type": "execute_result"
    }
   ],
   "source": [
    "item_factors.head()"
   ]
  },
  {
   "cell_type": "code",
   "execution_count": 40,
   "metadata": {},
   "outputs": [],
   "source": [
    "# Upload user and item factors to s3\n",
    "\n",
    "item_factors.to_csv('./results/item_factors.csv', index = False)\n",
    "key = 'item_factors.csv' # filepath in s3\n",
    "s3.Bucket(bucket).Object(key).upload_file('./results/item_factors.csv')\n",
    "\n",
    "user_factors.to_csv('./results/user_factors.csv', index = False)\n",
    "key = 'user_factors.csv' # filepath in s3\n",
    "s3.Bucket(bucket).Object(key).upload_file('./results/user_factors.csv')"
   ]
  },
  {
   "cell_type": "markdown",
   "metadata": {},
   "source": [
    "### Create DataFrame of predicitions"
   ]
  },
  {
   "cell_type": "code",
   "execution_count": 45,
   "metadata": {},
   "outputs": [],
   "source": [
    "def predict(user_vecs, item_vecs, mapping_df, top_x):\n",
    "    \"\"\"\n",
    "    Function to get predictions from the fitted ALS model\n",
    "\n",
    "    :param user_vecs: The user vectors from the ALS model\n",
    "    :param item_vecs: The item vectors from the ALS model\n",
    "    :mapping_df:  The DataFrame with the lookup between the customer and product indices and \n",
    "                  the actual CUST_CODE and PROD_CODE\n",
    "    :top_x: Number of predictions to return per customer\n",
    "    :return pred_df:  The DataFrame containing the CUST_CODE and prediction for each PROD_CODE\n",
    "    \"\"\"\n",
    "    \n",
    "    # Get the predicted DataFrame from the dot product of the user and item vectors\n",
    "    pred_df = pd.DataFrame(user_vecs.dot(item_vecs.T))\n",
    "\n",
    "    # Get the column headers(product indices)\n",
    "    products = list(mapping_df[\"index_PROD_CODE\"].unique())\n",
    "\n",
    "    # Replace the column indices with the product index\n",
    "    pred_df.columns = products\n",
    "\n",
    "    # Create a column for the index_CUST_CODE - this is the index of the DataFrame\n",
    "    pred_df.loc[:, \"index_CUST_CODE\"] = np.sort(mapping_df[\"index_CUST_CODE\"].unique())\n",
    "\n",
    "    # Melt the DataFrame\n",
    "    pred_df = pd.melt(pred_df, id_vars=\"index_CUST_CODE\", value_vars=products)\n",
    "    pred_df = pred_df.rename(\n",
    "        columns={\"variable\": \"index_PROD_CODE\", \"value\": \"PRED_QUANTITY\"}\n",
    "    )\n",
    "\n",
    "    # Create rank of the predicted quantity by customer\n",
    "    pred_df.loc[:, \"pred_rank\"] = pred_df.groupby(\"index_CUST_CODE\")[\n",
    "        \"PRED_QUANTITY\"\n",
    "    ].rank(\"dense\", ascending=False)\n",
    "\n",
    "    # Keep only the top x products\n",
    "    pred_df.loc[pred_df[\"pred_rank\"] <= top_x]\n",
    "\n",
    "    # Map the CUST_CODE and PROD_CODE\n",
    "    cust_map = mapping_df[[\"CUST_CODE\", \"index_CUST_CODE\"]].drop_duplicates()\n",
    "    pred_df = pred_df.merge(cust_map, on=\"index_CUST_CODE\")\n",
    "    pred_df.drop(\"index_CUST_CODE\", axis=1, inplace=True)\n",
    "\n",
    "    prod_map = mapping_df[[\"PROD_CODE\", \"index_PROD_CODE\"]].drop_duplicates()\n",
    "    pred_df = pred_df.merge(prod_map, on=\"index_PROD_CODE\")\n",
    "    pred_df.drop(\"index_PROD_CODE\", axis=1, inplace=True)\n",
    "\n",
    "    return pred_df"
   ]
  },
  {
   "cell_type": "code",
   "execution_count": 46,
   "metadata": {},
   "outputs": [
    {
     "ename": "UnboundLocalError",
     "evalue": "local variable 'pred_df' referenced before assignment",
     "output_type": "error",
     "traceback": [
      "\u001b[0;31m---------------------------------------------------------------------------\u001b[0m",
      "\u001b[0;31mUnboundLocalError\u001b[0m                         Traceback (most recent call last)",
      "\u001b[0;32m<ipython-input-46-3d94d6ab3516>\u001b[0m in \u001b[0;36m<module>\u001b[0;34m()\u001b[0m\n\u001b[0;32m----> 1\u001b[0;31m \u001b[0mpredictions\u001b[0m \u001b[0;34m=\u001b[0m \u001b[0mpredict\u001b[0m\u001b[0;34m(\u001b[0m\u001b[0muser_vecs\u001b[0m\u001b[0;34m,\u001b[0m \u001b[0mitem_vecs\u001b[0m\u001b[0;34m,\u001b[0m \u001b[0mtrain_df_mapped\u001b[0m\u001b[0;34m,\u001b[0m \u001b[0;36m100\u001b[0m\u001b[0;34m)\u001b[0m\u001b[0;34m\u001b[0m\u001b[0m\n\u001b[0m\u001b[1;32m      2\u001b[0m \u001b[0mpredictions\u001b[0m\u001b[0;34m.\u001b[0m\u001b[0mhead\u001b[0m\u001b[0;34m(\u001b[0m\u001b[0;34m)\u001b[0m\u001b[0;34m\u001b[0m\u001b[0m\n",
      "\u001b[0;32m<ipython-input-45-738ac62b0ddf>\u001b[0m in \u001b[0;36mpredict\u001b[0;34m(user_vecs, item_vecs, mapping_df, top_x)\u001b[0m\n\u001b[1;32m     10\u001b[0m     \u001b[0;34m:\u001b[0m\u001b[0;32mreturn\u001b[0m \u001b[0mpred_df\u001b[0m\u001b[0;34m:\u001b[0m  \u001b[0mThe\u001b[0m \u001b[0mDataFrame\u001b[0m \u001b[0mcontaining\u001b[0m \u001b[0mthe\u001b[0m \u001b[0mCUST_CODE\u001b[0m \u001b[0;32mand\u001b[0m \u001b[0mprediction\u001b[0m \u001b[0;32mfor\u001b[0m \u001b[0meach\u001b[0m \u001b[0mPROD_CODE\u001b[0m\u001b[0;34m\u001b[0m\u001b[0m\n\u001b[1;32m     11\u001b[0m     \"\"\"\n\u001b[0;32m---> 12\u001b[0;31m     \u001b[0;32mdel\u001b[0m \u001b[0mpred_df\u001b[0m\u001b[0;34m\u001b[0m\u001b[0m\n\u001b[0m\u001b[1;32m     13\u001b[0m \u001b[0;34m\u001b[0m\u001b[0m\n\u001b[1;32m     14\u001b[0m     \u001b[0;31m# Get the predicted DataFrame from the dot product of the user and item vectors\u001b[0m\u001b[0;34m\u001b[0m\u001b[0;34m\u001b[0m\u001b[0m\n",
      "\u001b[0;31mUnboundLocalError\u001b[0m: local variable 'pred_df' referenced before assignment"
     ]
    }
   ],
   "source": [
    "predictions = predict(user_vecs, item_vecs, train_df_mapped, 100)\n",
    "predictions.head()"
   ]
  },
  {
   "cell_type": "code",
   "execution_count": null,
   "metadata": {},
   "outputs": [],
   "source": [
    "# Upload the predictions file to s3\n",
    "predictions.to_csv('predictions.csv')\n",
    "key = 'predictions.csv' # filepath in s3\n",
    "s3.Bucket(bucket).Object(key).upload_file('predictions.csv')"
   ]
  }
 ],
 "metadata": {
  "kernelspec": {
   "display_name": "conda_tensorflow_p36",
   "language": "python",
   "name": "conda_tensorflow_p36"
  },
  "language_info": {
   "codemirror_mode": {
    "name": "ipython",
    "version": 3
   },
   "file_extension": ".py",
   "mimetype": "text/x-python",
   "name": "python",
   "nbconvert_exporter": "python",
   "pygments_lexer": "ipython3",
   "version": "3.6.5"
  }
 },
 "nbformat": 4,
 "nbformat_minor": 2
}
