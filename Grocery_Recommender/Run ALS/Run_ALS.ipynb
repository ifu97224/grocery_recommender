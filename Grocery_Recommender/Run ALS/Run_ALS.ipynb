{
 "cells": [
  {
   "cell_type": "markdown",
   "metadata": {},
   "source": [
    "## Fit ALS Model\n",
    "\n",
    "This notebook preps, fits and tunes an ALS model.  The objective is to obtain customer and user factors to be used as features in predictive models"
   ]
  },
  {
   "cell_type": "code",
   "execution_count": 1,
   "metadata": {},
   "outputs": [],
   "source": [
    "import shutil\n",
    "import pandas as pd\n",
    "import numpy as np\n",
    "import pickle\n",
    "import boto3\n",
    "from sagemaker import get_execution_role\n",
    "from scipy.stats.mstats import winsorize\n",
    "from sklearn.model_selection import train_test_split\n",
    "from sklearn.metrics import mean_squared_error\n",
    "import scipy.sparse as sparse\n",
    "import csv\n",
    "import ast\n",
    "\n",
    "import matplotlib.pyplot as plt\n",
    "import seaborn as sns\n",
    "\n",
    "%matplotlib inline\n",
    "\n",
    "#!pip install implicit\n",
    "import implicit\n",
    "\n",
    "#!pip install hyperopt\n",
    "from hyperopt import hp, Trials, fmin, tpe\n",
    "\n",
    "from data_prep.prep_data_for_ALS import *\n",
    "from train.model import *\n",
    "\n",
    "pd.set_option('display.max_rows', 500)\n",
    "pd.set_option('display.max_columns', 500)"
   ]
  },
  {
   "cell_type": "code",
   "execution_count": 2,
   "metadata": {},
   "outputs": [],
   "source": [
    "role = get_execution_role()\n",
    "region = boto3.Session().region_name\n",
    "bucket = \"udacity-machine-learning-capstone-data\""
   ]
  },
  {
   "cell_type": "markdown",
   "metadata": {},
   "source": [
    "### Import the customer transaction file"
   ]
  },
  {
   "cell_type": "code",
   "execution_count": 3,
   "metadata": {},
   "outputs": [],
   "source": [
    "key = \"udacity_capstone_data/all_trans.pkl\"\n",
    "s3 = boto3.client(\"s3\")\n",
    "trans_pkl = s3.download_file(bucket, key, \"./data/all_trans.pkl\")"
   ]
  },
  {
   "cell_type": "code",
   "execution_count": 4,
   "metadata": {},
   "outputs": [
    {
     "data": {
      "text/html": [
       "<div>\n",
       "<style scoped>\n",
       "    .dataframe tbody tr th:only-of-type {\n",
       "        vertical-align: middle;\n",
       "    }\n",
       "\n",
       "    .dataframe tbody tr th {\n",
       "        vertical-align: top;\n",
       "    }\n",
       "\n",
       "    .dataframe thead th {\n",
       "        text-align: right;\n",
       "    }\n",
       "</style>\n",
       "<table border=\"1\" class=\"dataframe\">\n",
       "  <thead>\n",
       "    <tr style=\"text-align: right;\">\n",
       "      <th></th>\n",
       "      <th>SHOP_WEEK</th>\n",
       "      <th>SHOP_DATE</th>\n",
       "      <th>SHOP_WEEKDAY</th>\n",
       "      <th>SHOP_HOUR</th>\n",
       "      <th>QUANTITY</th>\n",
       "      <th>SPEND</th>\n",
       "      <th>PROD_CODE</th>\n",
       "      <th>PROD_CODE_10</th>\n",
       "      <th>PROD_CODE_20</th>\n",
       "      <th>PROD_CODE_30</th>\n",
       "      <th>PROD_CODE_40</th>\n",
       "      <th>CUST_CODE</th>\n",
       "      <th>CUST_PRICE_SENSITIVITY</th>\n",
       "      <th>CUST_LIFESTAGE</th>\n",
       "      <th>BASKET_ID</th>\n",
       "      <th>BASKET_SIZE</th>\n",
       "      <th>BASKET_PRICE_SENSITIVITY</th>\n",
       "      <th>BASKET_TYPE</th>\n",
       "      <th>BASKET_DOMINANT_MISSION</th>\n",
       "      <th>STORE_CODE</th>\n",
       "      <th>STORE_FORMAT</th>\n",
       "      <th>STORE_REGION</th>\n",
       "    </tr>\n",
       "  </thead>\n",
       "  <tbody>\n",
       "    <tr>\n",
       "      <th>0</th>\n",
       "      <td>200607</td>\n",
       "      <td>20060415</td>\n",
       "      <td>7</td>\n",
       "      <td>19</td>\n",
       "      <td>1</td>\n",
       "      <td>0.93</td>\n",
       "      <td>PRD0900033</td>\n",
       "      <td>CL00201</td>\n",
       "      <td>DEP00067</td>\n",
       "      <td>G00021</td>\n",
       "      <td>D00005</td>\n",
       "      <td>CUST0000410727</td>\n",
       "      <td>UM</td>\n",
       "      <td>OT</td>\n",
       "      <td>994100100398294</td>\n",
       "      <td>L</td>\n",
       "      <td>MM</td>\n",
       "      <td>Full Shop</td>\n",
       "      <td>Mixed</td>\n",
       "      <td>STORE00001</td>\n",
       "      <td>LS</td>\n",
       "      <td>E02</td>\n",
       "    </tr>\n",
       "    <tr>\n",
       "      <th>1</th>\n",
       "      <td>200607</td>\n",
       "      <td>20060413</td>\n",
       "      <td>5</td>\n",
       "      <td>20</td>\n",
       "      <td>1</td>\n",
       "      <td>1.03</td>\n",
       "      <td>PRD0900097</td>\n",
       "      <td>CL00001</td>\n",
       "      <td>DEP00001</td>\n",
       "      <td>G00001</td>\n",
       "      <td>D00001</td>\n",
       "      <td>CUST0000634693</td>\n",
       "      <td>LA</td>\n",
       "      <td>YF</td>\n",
       "      <td>994100100532898</td>\n",
       "      <td>L</td>\n",
       "      <td>LA</td>\n",
       "      <td>Top Up</td>\n",
       "      <td>Fresh</td>\n",
       "      <td>STORE00001</td>\n",
       "      <td>LS</td>\n",
       "      <td>E02</td>\n",
       "    </tr>\n",
       "    <tr>\n",
       "      <th>2</th>\n",
       "      <td>200607</td>\n",
       "      <td>20060416</td>\n",
       "      <td>1</td>\n",
       "      <td>14</td>\n",
       "      <td>1</td>\n",
       "      <td>0.98</td>\n",
       "      <td>PRD0900121</td>\n",
       "      <td>CL00063</td>\n",
       "      <td>DEP00019</td>\n",
       "      <td>G00007</td>\n",
       "      <td>D00002</td>\n",
       "      <td>NaN</td>\n",
       "      <td>NaN</td>\n",
       "      <td>NaN</td>\n",
       "      <td>994100100135562</td>\n",
       "      <td>L</td>\n",
       "      <td>MM</td>\n",
       "      <td>Top Up</td>\n",
       "      <td>Grocery</td>\n",
       "      <td>STORE00001</td>\n",
       "      <td>LS</td>\n",
       "      <td>E02</td>\n",
       "    </tr>\n",
       "    <tr>\n",
       "      <th>3</th>\n",
       "      <td>200607</td>\n",
       "      <td>20060415</td>\n",
       "      <td>7</td>\n",
       "      <td>19</td>\n",
       "      <td>1</td>\n",
       "      <td>3.07</td>\n",
       "      <td>PRD0900135</td>\n",
       "      <td>CL00201</td>\n",
       "      <td>DEP00067</td>\n",
       "      <td>G00021</td>\n",
       "      <td>D00005</td>\n",
       "      <td>CUST0000410727</td>\n",
       "      <td>UM</td>\n",
       "      <td>OT</td>\n",
       "      <td>994100100398294</td>\n",
       "      <td>L</td>\n",
       "      <td>MM</td>\n",
       "      <td>Full Shop</td>\n",
       "      <td>Mixed</td>\n",
       "      <td>STORE00001</td>\n",
       "      <td>LS</td>\n",
       "      <td>E02</td>\n",
       "    </tr>\n",
       "    <tr>\n",
       "      <th>4</th>\n",
       "      <td>200607</td>\n",
       "      <td>20060415</td>\n",
       "      <td>7</td>\n",
       "      <td>19</td>\n",
       "      <td>1</td>\n",
       "      <td>4.81</td>\n",
       "      <td>PRD0900220</td>\n",
       "      <td>CL00051</td>\n",
       "      <td>DEP00013</td>\n",
       "      <td>G00005</td>\n",
       "      <td>D00002</td>\n",
       "      <td>CUST0000410727</td>\n",
       "      <td>UM</td>\n",
       "      <td>OT</td>\n",
       "      <td>994100100398294</td>\n",
       "      <td>L</td>\n",
       "      <td>MM</td>\n",
       "      <td>Full Shop</td>\n",
       "      <td>Mixed</td>\n",
       "      <td>STORE00001</td>\n",
       "      <td>LS</td>\n",
       "      <td>E02</td>\n",
       "    </tr>\n",
       "  </tbody>\n",
       "</table>\n",
       "</div>"
      ],
      "text/plain": [
       "   SHOP_WEEK  SHOP_DATE  SHOP_WEEKDAY  SHOP_HOUR  QUANTITY  SPEND   PROD_CODE  \\\n",
       "0     200607   20060415             7         19         1   0.93  PRD0900033   \n",
       "1     200607   20060413             5         20         1   1.03  PRD0900097   \n",
       "2     200607   20060416             1         14         1   0.98  PRD0900121   \n",
       "3     200607   20060415             7         19         1   3.07  PRD0900135   \n",
       "4     200607   20060415             7         19         1   4.81  PRD0900220   \n",
       "\n",
       "  PROD_CODE_10 PROD_CODE_20 PROD_CODE_30 PROD_CODE_40       CUST_CODE  \\\n",
       "0      CL00201     DEP00067       G00021       D00005  CUST0000410727   \n",
       "1      CL00001     DEP00001       G00001       D00001  CUST0000634693   \n",
       "2      CL00063     DEP00019       G00007       D00002             NaN   \n",
       "3      CL00201     DEP00067       G00021       D00005  CUST0000410727   \n",
       "4      CL00051     DEP00013       G00005       D00002  CUST0000410727   \n",
       "\n",
       "  CUST_PRICE_SENSITIVITY CUST_LIFESTAGE        BASKET_ID BASKET_SIZE  \\\n",
       "0                     UM             OT  994100100398294           L   \n",
       "1                     LA             YF  994100100532898           L   \n",
       "2                    NaN            NaN  994100100135562           L   \n",
       "3                     UM             OT  994100100398294           L   \n",
       "4                     UM             OT  994100100398294           L   \n",
       "\n",
       "  BASKET_PRICE_SENSITIVITY BASKET_TYPE BASKET_DOMINANT_MISSION  STORE_CODE  \\\n",
       "0                       MM   Full Shop                   Mixed  STORE00001   \n",
       "1                       LA      Top Up                   Fresh  STORE00001   \n",
       "2                       MM      Top Up                 Grocery  STORE00001   \n",
       "3                       MM   Full Shop                   Mixed  STORE00001   \n",
       "4                       MM   Full Shop                   Mixed  STORE00001   \n",
       "\n",
       "  STORE_FORMAT STORE_REGION  \n",
       "0           LS          E02  \n",
       "1           LS          E02  \n",
       "2           LS          E02  \n",
       "3           LS          E02  \n",
       "4           LS          E02  "
      ]
     },
     "execution_count": 4,
     "metadata": {},
     "output_type": "execute_result"
    }
   ],
   "source": [
    "s3 = boto3.resource(\"s3\")\n",
    "all_cust_trans = pickle.loads(s3.Bucket(bucket).Object(key).get()[\"Body\"].read())\n",
    "all_cust_trans.head()"
   ]
  },
  {
   "cell_type": "markdown",
   "metadata": {},
   "source": [
    "### Summarize to customer and count of products purchased\n",
    "\n",
    "Create a DataFrame at the customer and product level with count of the quantity of units purchased as implicit feedback"
   ]
  },
  {
   "cell_type": "code",
   "execution_count": 5,
   "metadata": {},
   "outputs": [],
   "source": [
    "prep_als = als_data_prep(all_cust_trans, 200716, 200815)"
   ]
  },
  {
   "cell_type": "code",
   "execution_count": 6,
   "metadata": {},
   "outputs": [
    {
     "data": {
      "text/html": [
       "<div>\n",
       "<style scoped>\n",
       "    .dataframe tbody tr th:only-of-type {\n",
       "        vertical-align: middle;\n",
       "    }\n",
       "\n",
       "    .dataframe tbody tr th {\n",
       "        vertical-align: top;\n",
       "    }\n",
       "\n",
       "    .dataframe thead th {\n",
       "        text-align: right;\n",
       "    }\n",
       "</style>\n",
       "<table border=\"1\" class=\"dataframe\">\n",
       "  <thead>\n",
       "    <tr style=\"text-align: right;\">\n",
       "      <th></th>\n",
       "      <th>CUST_CODE</th>\n",
       "      <th>PROD_CODE</th>\n",
       "      <th>QUANTITY</th>\n",
       "    </tr>\n",
       "  </thead>\n",
       "  <tbody>\n",
       "    <tr>\n",
       "      <th>0</th>\n",
       "      <td>CUST0000000013</td>\n",
       "      <td>PRD0900121</td>\n",
       "      <td>1</td>\n",
       "    </tr>\n",
       "    <tr>\n",
       "      <th>1</th>\n",
       "      <td>CUST0000000013</td>\n",
       "      <td>PRD0900139</td>\n",
       "      <td>1</td>\n",
       "    </tr>\n",
       "    <tr>\n",
       "      <th>2</th>\n",
       "      <td>CUST0000000013</td>\n",
       "      <td>PRD0900161</td>\n",
       "      <td>1</td>\n",
       "    </tr>\n",
       "    <tr>\n",
       "      <th>3</th>\n",
       "      <td>CUST0000000013</td>\n",
       "      <td>PRD0900234</td>\n",
       "      <td>3</td>\n",
       "    </tr>\n",
       "    <tr>\n",
       "      <th>4</th>\n",
       "      <td>CUST0000000013</td>\n",
       "      <td>PRD0900330</td>\n",
       "      <td>1</td>\n",
       "    </tr>\n",
       "  </tbody>\n",
       "</table>\n",
       "</div>"
      ],
      "text/plain": [
       "        CUST_CODE   PROD_CODE  QUANTITY\n",
       "0  CUST0000000013  PRD0900121         1\n",
       "1  CUST0000000013  PRD0900139         1\n",
       "2  CUST0000000013  PRD0900161         1\n",
       "3  CUST0000000013  PRD0900234         3\n",
       "4  CUST0000000013  PRD0900330         1"
      ]
     },
     "execution_count": 6,
     "metadata": {},
     "output_type": "execute_result"
    }
   ],
   "source": [
    "cust_quant_summ = prep_als.create_cust_quant_summ()\n",
    "cust_quant_summ.head()"
   ]
  },
  {
   "cell_type": "markdown",
   "metadata": {},
   "source": [
    "### Winsorize the DataFrame to remove outliers"
   ]
  },
  {
   "cell_type": "code",
   "execution_count": 7,
   "metadata": {},
   "outputs": [],
   "source": [
    "winsorized_list = prep_als.winsorize_df(\n",
    "    train_df=cust_quant_summ,\n",
    "    test_df=None,\n",
    "    valid_df=None,\n",
    "    cols=[\"QUANTITY\"],\n",
    "    lower=0.05,\n",
    "    upper=0.05,\n",
    "    test_set=False,\n",
    "    valid_set=False,\n",
    ")"
   ]
  },
  {
   "cell_type": "code",
   "execution_count": 8,
   "metadata": {},
   "outputs": [],
   "source": [
    "cust_summ_train = winsorized_list[0]"
   ]
  },
  {
   "cell_type": "code",
   "execution_count": 9,
   "metadata": {},
   "outputs": [
    {
     "data": {
      "text/html": [
       "<div>\n",
       "<style scoped>\n",
       "    .dataframe tbody tr th:only-of-type {\n",
       "        vertical-align: middle;\n",
       "    }\n",
       "\n",
       "    .dataframe tbody tr th {\n",
       "        vertical-align: top;\n",
       "    }\n",
       "\n",
       "    .dataframe thead th {\n",
       "        text-align: right;\n",
       "    }\n",
       "</style>\n",
       "<table border=\"1\" class=\"dataframe\">\n",
       "  <thead>\n",
       "    <tr style=\"text-align: right;\">\n",
       "      <th></th>\n",
       "      <th>CUST_CODE</th>\n",
       "      <th>PROD_CODE</th>\n",
       "      <th>QUANTITY</th>\n",
       "    </tr>\n",
       "  </thead>\n",
       "  <tbody>\n",
       "    <tr>\n",
       "      <th>0</th>\n",
       "      <td>CUST0000000013</td>\n",
       "      <td>PRD0900121</td>\n",
       "      <td>1</td>\n",
       "    </tr>\n",
       "    <tr>\n",
       "      <th>1</th>\n",
       "      <td>CUST0000000013</td>\n",
       "      <td>PRD0900139</td>\n",
       "      <td>1</td>\n",
       "    </tr>\n",
       "    <tr>\n",
       "      <th>2</th>\n",
       "      <td>CUST0000000013</td>\n",
       "      <td>PRD0900161</td>\n",
       "      <td>1</td>\n",
       "    </tr>\n",
       "    <tr>\n",
       "      <th>3</th>\n",
       "      <td>CUST0000000013</td>\n",
       "      <td>PRD0900234</td>\n",
       "      <td>3</td>\n",
       "    </tr>\n",
       "    <tr>\n",
       "      <th>4</th>\n",
       "      <td>CUST0000000013</td>\n",
       "      <td>PRD0900330</td>\n",
       "      <td>1</td>\n",
       "    </tr>\n",
       "  </tbody>\n",
       "</table>\n",
       "</div>"
      ],
      "text/plain": [
       "        CUST_CODE   PROD_CODE  QUANTITY\n",
       "0  CUST0000000013  PRD0900121         1\n",
       "1  CUST0000000013  PRD0900139         1\n",
       "2  CUST0000000013  PRD0900161         1\n",
       "3  CUST0000000013  PRD0900234         3\n",
       "4  CUST0000000013  PRD0900330         1"
      ]
     },
     "execution_count": 9,
     "metadata": {},
     "output_type": "execute_result"
    }
   ],
   "source": [
    "cust_summ_train.sort_values([\"CUST_CODE\", \"PROD_CODE\"]).head()"
   ]
  },
  {
   "cell_type": "markdown",
   "metadata": {},
   "source": [
    "### Normalize the data with a min/max scaler"
   ]
  },
  {
   "cell_type": "code",
   "execution_count": 10,
   "metadata": {},
   "outputs": [],
   "source": [
    "normalized_list = prep_als.normalize_min_max(\n",
    "    train_df=cust_summ_train,\n",
    "    test_df=None,\n",
    "    valid_df=None,\n",
    "    group_var=\"PROD_CODE\",\n",
    "    normal_var=\"QUANTITY\",\n",
    "    test_set=False,\n",
    "    valid_set=False,\n",
    ")"
   ]
  },
  {
   "cell_type": "code",
   "execution_count": 11,
   "metadata": {},
   "outputs": [],
   "source": [
    "train_df_normal = normalized_list[0]"
   ]
  },
  {
   "cell_type": "code",
   "execution_count": 12,
   "metadata": {},
   "outputs": [
    {
     "data": {
      "text/html": [
       "<div>\n",
       "<style scoped>\n",
       "    .dataframe tbody tr th:only-of-type {\n",
       "        vertical-align: middle;\n",
       "    }\n",
       "\n",
       "    .dataframe tbody tr th {\n",
       "        vertical-align: top;\n",
       "    }\n",
       "\n",
       "    .dataframe thead th {\n",
       "        text-align: right;\n",
       "    }\n",
       "</style>\n",
       "<table border=\"1\" class=\"dataframe\">\n",
       "  <thead>\n",
       "    <tr style=\"text-align: right;\">\n",
       "      <th></th>\n",
       "      <th>CUST_CODE</th>\n",
       "      <th>PROD_CODE</th>\n",
       "      <th>QUANTITY</th>\n",
       "    </tr>\n",
       "  </thead>\n",
       "  <tbody>\n",
       "    <tr>\n",
       "      <th>0</th>\n",
       "      <td>CUST0000000013</td>\n",
       "      <td>PRD0900121</td>\n",
       "      <td>0.010000</td>\n",
       "    </tr>\n",
       "    <tr>\n",
       "      <th>1856</th>\n",
       "      <td>CUST0000000013</td>\n",
       "      <td>PRD0900139</td>\n",
       "      <td>0.010000</td>\n",
       "    </tr>\n",
       "    <tr>\n",
       "      <th>2058</th>\n",
       "      <td>CUST0000000013</td>\n",
       "      <td>PRD0900161</td>\n",
       "      <td>0.010000</td>\n",
       "    </tr>\n",
       "    <tr>\n",
       "      <th>2143</th>\n",
       "      <td>CUST0000000013</td>\n",
       "      <td>PRD0900234</td>\n",
       "      <td>0.029231</td>\n",
       "    </tr>\n",
       "    <tr>\n",
       "      <th>2657</th>\n",
       "      <td>CUST0000000013</td>\n",
       "      <td>PRD0900330</td>\n",
       "      <td>0.010000</td>\n",
       "    </tr>\n",
       "  </tbody>\n",
       "</table>\n",
       "</div>"
      ],
      "text/plain": [
       "           CUST_CODE   PROD_CODE  QUANTITY\n",
       "0     CUST0000000013  PRD0900121  0.010000\n",
       "1856  CUST0000000013  PRD0900139  0.010000\n",
       "2058  CUST0000000013  PRD0900161  0.010000\n",
       "2143  CUST0000000013  PRD0900234  0.029231\n",
       "2657  CUST0000000013  PRD0900330  0.010000"
      ]
     },
     "execution_count": 12,
     "metadata": {},
     "output_type": "execute_result"
    }
   ],
   "source": [
    "train_df_normal.sort_values([\"CUST_CODE\", \"PROD_CODE\"]).head()"
   ]
  },
  {
   "cell_type": "markdown",
   "metadata": {},
   "source": [
    "### Remove random rows from each customer to use as a test set\n",
    "\n",
    "As ALS needs all customers to build the model, random customer/product rows will be held out to use as a test set"
   ]
  },
  {
   "cell_type": "code",
   "execution_count": 13,
   "metadata": {},
   "outputs": [
    {
     "data": {
      "text/html": [
       "<div>\n",
       "<style scoped>\n",
       "    .dataframe tbody tr th:only-of-type {\n",
       "        vertical-align: middle;\n",
       "    }\n",
       "\n",
       "    .dataframe tbody tr th {\n",
       "        vertical-align: top;\n",
       "    }\n",
       "\n",
       "    .dataframe thead th {\n",
       "        text-align: right;\n",
       "    }\n",
       "</style>\n",
       "<table border=\"1\" class=\"dataframe\">\n",
       "  <thead>\n",
       "    <tr style=\"text-align: right;\">\n",
       "      <th></th>\n",
       "      <th>CUST_CODE</th>\n",
       "      <th>PROD_CODE</th>\n",
       "      <th>QUANTITY</th>\n",
       "    </tr>\n",
       "  </thead>\n",
       "  <tbody>\n",
       "    <tr>\n",
       "      <th>0</th>\n",
       "      <td>CUST0000003447</td>\n",
       "      <td>PRD0900121</td>\n",
       "      <td>0.026279</td>\n",
       "    </tr>\n",
       "    <tr>\n",
       "      <th>1</th>\n",
       "      <td>CUST0000010712</td>\n",
       "      <td>PRD0900121</td>\n",
       "      <td>0.010000</td>\n",
       "    </tr>\n",
       "    <tr>\n",
       "      <th>2</th>\n",
       "      <td>CUST0000010921</td>\n",
       "      <td>PRD0900121</td>\n",
       "      <td>0.010000</td>\n",
       "    </tr>\n",
       "    <tr>\n",
       "      <th>3</th>\n",
       "      <td>CUST0000016376</td>\n",
       "      <td>PRD0900121</td>\n",
       "      <td>0.014651</td>\n",
       "    </tr>\n",
       "    <tr>\n",
       "      <th>4</th>\n",
       "      <td>CUST0000016975</td>\n",
       "      <td>PRD0900121</td>\n",
       "      <td>0.010000</td>\n",
       "    </tr>\n",
       "  </tbody>\n",
       "</table>\n",
       "</div>"
      ],
      "text/plain": [
       "        CUST_CODE   PROD_CODE  QUANTITY\n",
       "0  CUST0000003447  PRD0900121  0.026279\n",
       "1  CUST0000010712  PRD0900121  0.010000\n",
       "2  CUST0000010921  PRD0900121  0.010000\n",
       "3  CUST0000016376  PRD0900121  0.014651\n",
       "4  CUST0000016975  PRD0900121  0.010000"
      ]
     },
     "execution_count": 13,
     "metadata": {},
     "output_type": "execute_result"
    }
   ],
   "source": [
    "test_df, train_df = prep_als.create_als_train_test(train_df_normal, frac=0.1)\n",
    "test_df.head()"
   ]
  },
  {
   "cell_type": "markdown",
   "metadata": {},
   "source": [
    "### Create the index mapping on CUST_CODE and PROD_CODE\n",
    "\n",
    "The ALS aglorithm requires that the customer vector and product vector be integers - these functions create and merge the mapping"
   ]
  },
  {
   "cell_type": "code",
   "execution_count": 14,
   "metadata": {},
   "outputs": [],
   "source": [
    "# Create the customer and items mapping files\n",
    "train_cust_mapping = prep_als.create_mapping(train_df, \"CUST_CODE\")"
   ]
  },
  {
   "cell_type": "code",
   "execution_count": 15,
   "metadata": {},
   "outputs": [],
   "source": [
    "train_items_mapping = prep_als.create_mapping(train_df, \"PROD_CODE\")"
   ]
  },
  {
   "cell_type": "code",
   "execution_count": 16,
   "metadata": {},
   "outputs": [
    {
     "data": {
      "text/html": [
       "<div>\n",
       "<style scoped>\n",
       "    .dataframe tbody tr th:only-of-type {\n",
       "        vertical-align: middle;\n",
       "    }\n",
       "\n",
       "    .dataframe tbody tr th {\n",
       "        vertical-align: top;\n",
       "    }\n",
       "\n",
       "    .dataframe thead th {\n",
       "        text-align: right;\n",
       "    }\n",
       "</style>\n",
       "<table border=\"1\" class=\"dataframe\">\n",
       "  <thead>\n",
       "    <tr style=\"text-align: right;\">\n",
       "      <th></th>\n",
       "      <th>CUST_CODE</th>\n",
       "      <th>PROD_CODE</th>\n",
       "      <th>QUANTITY</th>\n",
       "      <th>index_CUST_CODE</th>\n",
       "      <th>index_PROD_CODE</th>\n",
       "    </tr>\n",
       "  </thead>\n",
       "  <tbody>\n",
       "    <tr>\n",
       "      <th>0</th>\n",
       "      <td>CUST0000000013</td>\n",
       "      <td>PRD0900121</td>\n",
       "      <td>0.010</td>\n",
       "      <td>0</td>\n",
       "      <td>120</td>\n",
       "    </tr>\n",
       "    <tr>\n",
       "      <th>6925</th>\n",
       "      <td>CUST0000000013</td>\n",
       "      <td>PRD0903497</td>\n",
       "      <td>0.010</td>\n",
       "      <td>0</td>\n",
       "      <td>3496</td>\n",
       "    </tr>\n",
       "    <tr>\n",
       "      <th>4899</th>\n",
       "      <td>CUST0000000013</td>\n",
       "      <td>PRD0902522</td>\n",
       "      <td>0.035</td>\n",
       "      <td>0</td>\n",
       "      <td>2521</td>\n",
       "    </tr>\n",
       "    <tr>\n",
       "      <th>3202</th>\n",
       "      <td>CUST0000000013</td>\n",
       "      <td>PRD0901297</td>\n",
       "      <td>0.010</td>\n",
       "      <td>0</td>\n",
       "      <td>1296</td>\n",
       "    </tr>\n",
       "    <tr>\n",
       "      <th>5613</th>\n",
       "      <td>CUST0000000013</td>\n",
       "      <td>PRD0902846</td>\n",
       "      <td>0.010</td>\n",
       "      <td>0</td>\n",
       "      <td>2845</td>\n",
       "    </tr>\n",
       "  </tbody>\n",
       "</table>\n",
       "</div>"
      ],
      "text/plain": [
       "           CUST_CODE   PROD_CODE  QUANTITY  index_CUST_CODE  index_PROD_CODE\n",
       "0     CUST0000000013  PRD0900121     0.010                0              120\n",
       "6925  CUST0000000013  PRD0903497     0.010                0             3496\n",
       "4899  CUST0000000013  PRD0902522     0.035                0             2521\n",
       "3202  CUST0000000013  PRD0901297     0.010                0             1296\n",
       "5613  CUST0000000013  PRD0902846     0.010                0             2845"
      ]
     },
     "execution_count": 16,
     "metadata": {},
     "output_type": "execute_result"
    }
   ],
   "source": [
    "train_df_mapped = prep_als.merge_mapping(\n",
    "    train_df, train_cust_mapping, train_items_mapping\n",
    ")\n",
    "train_df_mapped.sort_values([\"CUST_CODE\"]).head()"
   ]
  },
  {
   "cell_type": "code",
   "execution_count": 17,
   "metadata": {},
   "outputs": [
    {
     "data": {
      "text/html": [
       "<div>\n",
       "<style scoped>\n",
       "    .dataframe tbody tr th:only-of-type {\n",
       "        vertical-align: middle;\n",
       "    }\n",
       "\n",
       "    .dataframe tbody tr th {\n",
       "        vertical-align: top;\n",
       "    }\n",
       "\n",
       "    .dataframe thead th {\n",
       "        text-align: right;\n",
       "    }\n",
       "</style>\n",
       "<table border=\"1\" class=\"dataframe\">\n",
       "  <thead>\n",
       "    <tr style=\"text-align: right;\">\n",
       "      <th></th>\n",
       "      <th>CUST_CODE</th>\n",
       "      <th>PROD_CODE</th>\n",
       "      <th>QUANTITY</th>\n",
       "      <th>index_CUST_CODE</th>\n",
       "      <th>index_PROD_CODE</th>\n",
       "    </tr>\n",
       "  </thead>\n",
       "  <tbody>\n",
       "    <tr>\n",
       "      <th>29036</th>\n",
       "      <td>CUST0000000013</td>\n",
       "      <td>PRD0904158</td>\n",
       "      <td>0.038846</td>\n",
       "      <td>0</td>\n",
       "      <td>4157</td>\n",
       "    </tr>\n",
       "    <tr>\n",
       "      <th>11559</th>\n",
       "      <td>CUST0000000013</td>\n",
       "      <td>PRD0900139</td>\n",
       "      <td>0.010000</td>\n",
       "      <td>0</td>\n",
       "      <td>138</td>\n",
       "    </tr>\n",
       "    <tr>\n",
       "      <th>29347</th>\n",
       "      <td>CUST0000000013</td>\n",
       "      <td>PRD0902860</td>\n",
       "      <td>0.010000</td>\n",
       "      <td>0</td>\n",
       "      <td>2859</td>\n",
       "    </tr>\n",
       "    <tr>\n",
       "      <th>20620</th>\n",
       "      <td>CUST0000000013</td>\n",
       "      <td>PRD0904311</td>\n",
       "      <td>0.010000</td>\n",
       "      <td>0</td>\n",
       "      <td>4310</td>\n",
       "    </tr>\n",
       "    <tr>\n",
       "      <th>29755</th>\n",
       "      <td>CUST0000000055</td>\n",
       "      <td>PRD0901006</td>\n",
       "      <td>1.010000</td>\n",
       "      <td>1</td>\n",
       "      <td>1005</td>\n",
       "    </tr>\n",
       "  </tbody>\n",
       "</table>\n",
       "</div>"
      ],
      "text/plain": [
       "            CUST_CODE   PROD_CODE  QUANTITY  index_CUST_CODE  index_PROD_CODE\n",
       "29036  CUST0000000013  PRD0904158  0.038846                0             4157\n",
       "11559  CUST0000000013  PRD0900139  0.010000                0              138\n",
       "29347  CUST0000000013  PRD0902860  0.010000                0             2859\n",
       "20620  CUST0000000013  PRD0904311  0.010000                0             4310\n",
       "29755  CUST0000000055  PRD0901006  1.010000                1             1005"
      ]
     },
     "execution_count": 17,
     "metadata": {},
     "output_type": "execute_result"
    }
   ],
   "source": [
    "test_df_mapped = prep_als.merge_mapping(\n",
    "    test_df, train_cust_mapping, train_items_mapping\n",
    ")\n",
    "test_df_mapped.sort_values([\"CUST_CODE\"]).head()"
   ]
  },
  {
   "cell_type": "markdown",
   "metadata": {},
   "source": [
    "### Create the sparse matrix required by ALS"
   ]
  },
  {
   "cell_type": "code",
   "execution_count": 18,
   "metadata": {},
   "outputs": [],
   "source": [
    "purchases_sparse = prep_als.create_sparse_matrix(train_df_mapped)"
   ]
  },
  {
   "cell_type": "code",
   "execution_count": 19,
   "metadata": {},
   "outputs": [
    {
     "data": {
      "text/plain": [
       "<4997x4364 sparse matrix of type '<class 'numpy.float64'>'\n",
       "\twith 427908 stored elements in Compressed Sparse Row format>"
      ]
     },
     "execution_count": 19,
     "metadata": {},
     "output_type": "execute_result"
    }
   ],
   "source": [
    "purchases_sparse"
   ]
  },
  {
   "cell_type": "code",
   "execution_count": 20,
   "metadata": {},
   "outputs": [
    {
     "data": {
      "text/plain": [
       "98.03774106810557"
      ]
     },
     "execution_count": 20,
     "metadata": {},
     "output_type": "execute_result"
    }
   ],
   "source": [
    "# Check the sparsity of the matrix\n",
    "matrix_size = purchases_sparse.shape[0] * purchases_sparse.shape[1]\n",
    "num_purchases = len(purchases_sparse.nonzero()[0])\n",
    "sparsity = 100 * (1 - (num_purchases / matrix_size))\n",
    "sparsity"
   ]
  },
  {
   "cell_type": "markdown",
   "metadata": {},
   "source": [
    "### Hyperparameter tuning\n",
    "\n",
    "Tune the alpha, number of factors, regularization parameter and number of iterations"
   ]
  },
  {
   "cell_type": "code",
   "execution_count": 21,
   "metadata": {},
   "outputs": [],
   "source": [
    "# Create the object to fit and tune ALS\n",
    "als_model = fit_and_tune_als(purchases_sparse)"
   ]
  },
  {
   "cell_type": "code",
   "execution_count": 22,
   "metadata": {},
   "outputs": [],
   "source": [
    "# Define the search space\n",
    "space = {\n",
    "    \"alpha\": hp.choice(\"alpha\", np.arange(5, 50 + 1, 5, dtype=int)),\n",
    "    \"num_factors\": hp.choice(\"num_factors\", np.arange(5, 30 + 1, 5, dtype=int)),\n",
    "    \"reg\": hp.choice(\"reg\", np.arange(20, 100 + 1, 1, dtype=int)),\n",
    "    \"iters\": hp.choice(\"iters\", np.arange(50, 500 + 1, 1, dtype=int)),\n",
    "}"
   ]
  },
  {
   "cell_type": "code",
   "execution_count": 23,
   "metadata": {},
   "outputs": [
    {
     "name": "stdout",
     "output_type": "stream",
     "text": [
      "{'alpha': 5, 'iters': 102, 'num_factors': 20, 'reg': 61}\n",
      "  0%|          | 0/25 [00:00<?, ?it/s, best loss: ?]"
     ]
    },
    {
     "data": {
      "application/vnd.jupyter.widget-view+json": {
       "model_id": "58ce1c17cff84dcfa23b5e80310a347a",
       "version_major": 2,
       "version_minor": 0
      },
      "text/plain": [
       "HBox(children=(FloatProgress(value=0.0, max=102.0), HTML(value='')))"
      ]
     },
     "metadata": {},
     "output_type": "display_data"
    },
    {
     "name": "stdout",
     "output_type": "stream",
     "text": [
      "training set mse = 0.03277058174996366, test set mse = 0.03297585233009508\n",
      "{'alpha': 45, 'iters': 62, 'num_factors': 5, 'reg': 80}                       \n",
      "  4%|▍         | 1/25 [00:46<18:24, 46.03s/it, best loss: 0.03297585233009508]"
     ]
    },
    {
     "data": {
      "application/vnd.jupyter.widget-view+json": {
       "model_id": "780c5096bbf449118298475b8cbf023b",
       "version_major": 2,
       "version_minor": 0
      },
      "text/plain": [
       "HBox(children=(FloatProgress(value=0.0, max=62.0), HTML(value='')))"
      ]
     },
     "metadata": {},
     "output_type": "display_data"
    },
    {
     "name": "stdout",
     "output_type": "stream",
     "text": [
      "training set mse = 0.038259753376281326, test set mse = 0.03802398177596855   \n",
      "{'alpha': 35, 'iters': 59, 'num_factors': 5, 'reg': 24}                       \n",
      "  8%|▊         | 2/25 [01:29<17:18, 45.16s/it, best loss: 0.03297585233009508]"
     ]
    },
    {
     "data": {
      "application/vnd.jupyter.widget-view+json": {
       "model_id": "776799e64afc49f1a218a66034f58eea",
       "version_major": 2,
       "version_minor": 0
      },
      "text/plain": [
       "HBox(children=(FloatProgress(value=0.0, max=59.0), HTML(value='')))"
      ]
     },
     "metadata": {},
     "output_type": "display_data"
    },
    {
     "name": "stdout",
     "output_type": "stream",
     "text": [
      "training set mse = 0.038512754162169614, test set mse = 0.038379706253710164  \n",
      "{'alpha': 10, 'iters': 314, 'num_factors': 30, 'reg': 37}                     \n",
      " 12%|█▏        | 3/25 [02:12<16:19, 44.52s/it, best loss: 0.03297585233009508]"
     ]
    },
    {
     "data": {
      "application/vnd.jupyter.widget-view+json": {
       "model_id": "318e3f9ebe4c4e6aabe30f8bc5a71484",
       "version_major": 2,
       "version_minor": 0
      },
      "text/plain": [
       "HBox(children=(FloatProgress(value=0.0, max=314.0), HTML(value='')))"
      ]
     },
     "metadata": {},
     "output_type": "display_data"
    },
    {
     "name": "stdout",
     "output_type": "stream",
     "text": [
      "training set mse = 0.03089821109664312, test set mse = 0.031013639638456506   \n",
      "{'alpha': 15, 'iters': 401, 'num_factors': 30, 'reg': 63}                      \n",
      " 16%|█▌        | 4/25 [03:28<18:56, 54.10s/it, best loss: 0.031013639638456506]"
     ]
    },
    {
     "data": {
      "application/vnd.jupyter.widget-view+json": {
       "model_id": "fcbc45c0cd3745ab8aa568942b09dfa5",
       "version_major": 2,
       "version_minor": 0
      },
      "text/plain": [
       "HBox(children=(FloatProgress(value=0.0, max=401.0), HTML(value='')))"
      ]
     },
     "metadata": {},
     "output_type": "display_data"
    },
    {
     "name": "stdout",
     "output_type": "stream",
     "text": [
      "training set mse = 0.03016837799547025, test set mse = 0.030255147774431123    \n",
      "{'alpha': 15, 'iters': 71, 'num_factors': 15, 'reg': 71}                       \n",
      " 20%|██        | 5/25 [04:55<21:19, 63.99s/it, best loss: 0.030255147774431123]"
     ]
    },
    {
     "data": {
      "application/vnd.jupyter.widget-view+json": {
       "model_id": "6873f333a699407a9b41d913ce1a4bb7",
       "version_major": 2,
       "version_minor": 0
      },
      "text/plain": [
       "HBox(children=(FloatProgress(value=0.0, max=71.0), HTML(value='')))"
      ]
     },
     "metadata": {},
     "output_type": "display_data"
    },
    {
     "name": "stdout",
     "output_type": "stream",
     "text": [
      "training set mse = 0.030009634633512826, test set mse = 0.030101788579713705   \n",
      "{'alpha': 15, 'iters': 125, 'num_factors': 20, 'reg': 67}                      \n",
      " 24%|██▍       | 6/25 [05:41<18:30, 58.46s/it, best loss: 0.030101788579713705]"
     ]
    },
    {
     "data": {
      "application/vnd.jupyter.widget-view+json": {
       "model_id": "b2f32f0283d2433bb6134fbc8471d1d8",
       "version_major": 2,
       "version_minor": 0
      },
      "text/plain": [
       "HBox(children=(FloatProgress(value=0.0, max=125.0), HTML(value='')))"
      ]
     },
     "metadata": {},
     "output_type": "display_data"
    },
    {
     "name": "stdout",
     "output_type": "stream",
     "text": [
      "training set mse = 0.030074374655598583, test set mse = 0.03016037990892499    \n",
      "{'alpha': 50, 'iters': 463, 'num_factors': 5, 'reg': 90}                       \n",
      " 28%|██▊       | 7/25 [06:32<16:53, 56.33s/it, best loss: 0.030101788579713705]"
     ]
    },
    {
     "data": {
      "application/vnd.jupyter.widget-view+json": {
       "model_id": "797a41c4e2a94e14b6fbfabf33aebeda",
       "version_major": 2,
       "version_minor": 0
      },
      "text/plain": [
       "HBox(children=(FloatProgress(value=0.0, max=463.0), HTML(value='')))"
      ]
     },
     "metadata": {},
     "output_type": "display_data"
    },
    {
     "name": "stdout",
     "output_type": "stream",
     "text": [
      "training set mse = 0.039769204255202806, test set mse = 0.03962045286814142    \n",
      "{'alpha': 30, 'iters': 474, 'num_factors': 15, 'reg': 82}                      \n",
      " 32%|███▏      | 8/25 [07:57<18:23, 64.93s/it, best loss: 0.030101788579713705]"
     ]
    },
    {
     "data": {
      "application/vnd.jupyter.widget-view+json": {
       "model_id": "aa79ca40f00546a5b76ac6691f371359",
       "version_major": 2,
       "version_minor": 0
      },
      "text/plain": [
       "HBox(children=(FloatProgress(value=0.0, max=474.0), HTML(value='')))"
      ]
     },
     "metadata": {},
     "output_type": "display_data"
    },
    {
     "name": "stdout",
     "output_type": "stream",
     "text": [
      "training set mse = 0.03260079303497578, test set mse = 0.03255882963459489     \n",
      "{'alpha': 20, 'iters': 171, 'num_factors': 15, 'reg': 51}                      \n",
      " 36%|███▌      | 9/25 [09:28<19:24, 72.78s/it, best loss: 0.030101788579713705]"
     ]
    },
    {
     "data": {
      "application/vnd.jupyter.widget-view+json": {
       "model_id": "e5a3a90b5444478491bafe5f4d8d0c04",
       "version_major": 2,
       "version_minor": 0
      },
      "text/plain": [
       "HBox(children=(FloatProgress(value=0.0, max=171.0), HTML(value='')))"
      ]
     },
     "metadata": {},
     "output_type": "display_data"
    },
    {
     "name": "stdout",
     "output_type": "stream",
     "text": [
      "training set mse = 0.03177099899325437, test set mse = 0.03175805669646361     \n",
      "{'alpha': 20, 'iters': 402, 'num_factors': 5, 'reg': 81}                        \n",
      " 40%|████      | 10/25 [10:25<16:59, 67.99s/it, best loss: 0.030101788579713705]"
     ]
    },
    {
     "data": {
      "application/vnd.jupyter.widget-view+json": {
       "model_id": "efe1efbfe3e443ffa6ba47de5c957c0b",
       "version_major": 2,
       "version_minor": 0
      },
      "text/plain": [
       "HBox(children=(FloatProgress(value=0.0, max=402.0), HTML(value='')))"
      ]
     },
     "metadata": {},
     "output_type": "display_data"
    },
    {
     "name": "stdout",
     "output_type": "stream",
     "text": [
      "training set mse = 0.03005405366298942, test set mse = 0.030090336362483226     \n",
      "{'alpha': 20, 'iters': 372, 'num_factors': 30, 'reg': 49}                       \n",
      " 44%|████▍     | 11/25 [11:45<16:40, 71.50s/it, best loss: 0.030090336362483226]"
     ]
    },
    {
     "data": {
      "application/vnd.jupyter.widget-view+json": {
       "model_id": "391146ca0d29424084c166d26ec12c71",
       "version_major": 2,
       "version_minor": 0
      },
      "text/plain": [
       "HBox(children=(FloatProgress(value=0.0, max=372.0), HTML(value='')))"
      ]
     },
     "metadata": {},
     "output_type": "display_data"
    },
    {
     "name": "stdout",
     "output_type": "stream",
     "text": [
      "training set mse = 0.032184135898198046, test set mse = 0.03223183946534371     \n",
      "{'alpha': 25, 'iters': 65, 'num_factors': 10, 'reg': 38}                        \n",
      " 48%|████▊     | 12/25 [13:09<16:17, 75.23s/it, best loss: 0.030090336362483226]"
     ]
    },
    {
     "data": {
      "application/vnd.jupyter.widget-view+json": {
       "model_id": "93307b09f6ef4e338b2712896bf764ac",
       "version_major": 2,
       "version_minor": 0
      },
      "text/plain": [
       "HBox(children=(FloatProgress(value=0.0, max=65.0), HTML(value='')))"
      ]
     },
     "metadata": {},
     "output_type": "display_data"
    },
    {
     "name": "stdout",
     "output_type": "stream",
     "text": [
      "training set mse = 0.03437887034074703, test set mse = 0.03418367009585378      \n",
      "{'alpha': 10, 'iters': 190, 'num_factors': 20, 'reg': 56}                       \n",
      " 52%|█████▏    | 13/25 [13:53<13:11, 65.95s/it, best loss: 0.030090336362483226]"
     ]
    },
    {
     "data": {
      "application/vnd.jupyter.widget-view+json": {
       "model_id": "fd898a2f28494741a1f17c2b8b7d803f",
       "version_major": 2,
       "version_minor": 0
      },
      "text/plain": [
       "HBox(children=(FloatProgress(value=0.0, max=190.0), HTML(value='')))"
      ]
     },
     "metadata": {},
     "output_type": "display_data"
    },
    {
     "name": "stdout",
     "output_type": "stream",
     "text": [
      "training set mse = 0.03057956720198313, test set mse = 0.03072497236954292      \n",
      "{'alpha': 15, 'iters': 266, 'num_factors': 5, 'reg': 86}                        \n",
      " 56%|█████▌    | 14/25 [14:52<11:41, 63.79s/it, best loss: 0.030090336362483226]"
     ]
    },
    {
     "data": {
      "application/vnd.jupyter.widget-view+json": {
       "model_id": "6de8a6ebfc2e4693bca135b16d85dcb8",
       "version_major": 2,
       "version_minor": 0
      },
      "text/plain": [
       "HBox(children=(FloatProgress(value=0.0, max=266.0), HTML(value='')))"
      ]
     },
     "metadata": {},
     "output_type": "display_data"
    },
    {
     "name": "stdout",
     "output_type": "stream",
     "text": [
      "training set mse = 0.02992996212569535, test set mse = 0.030056051387375996     \n",
      "{'alpha': 50, 'iters': 485, 'num_factors': 30, 'reg': 74}                       \n",
      " 60%|██████    | 15/25 [15:56<10:40, 64.06s/it, best loss: 0.030056051387375996]"
     ]
    },
    {
     "data": {
      "application/vnd.jupyter.widget-view+json": {
       "model_id": "30390006c41e45ae9afb0c25782bb85a",
       "version_major": 2,
       "version_minor": 0
      },
      "text/plain": [
       "HBox(children=(FloatProgress(value=0.0, max=485.0), HTML(value='')))"
      ]
     },
     "metadata": {},
     "output_type": "display_data"
    },
    {
     "name": "stdout",
     "output_type": "stream",
     "text": [
      "training set mse = 0.04156185227364938, test set mse = 0.04126931996436442      \n",
      "{'alpha': 30, 'iters': 319, 'num_factors': 20, 'reg': 28}                       \n",
      " 64%|██████▍   | 16/25 [17:36<11:12, 74.73s/it, best loss: 0.030056051387375996]"
     ]
    },
    {
     "data": {
      "application/vnd.jupyter.widget-view+json": {
       "model_id": "8cd8d563f5654261920f59bf32e3205a",
       "version_major": 2,
       "version_minor": 0
      },
      "text/plain": [
       "HBox(children=(FloatProgress(value=0.0, max=319.0), HTML(value='')))"
      ]
     },
     "metadata": {},
     "output_type": "display_data"
    },
    {
     "name": "stdout",
     "output_type": "stream",
     "text": [
      "training set mse = 0.03941003123477417, test set mse = 0.03926011023217534      \n",
      "{'alpha': 10, 'iters': 147, 'num_factors': 25, 'reg': 71}                       \n",
      " 68%|██████▊   | 17/25 [18:49<09:53, 74.23s/it, best loss: 0.030056051387375996]"
     ]
    },
    {
     "data": {
      "application/vnd.jupyter.widget-view+json": {
       "model_id": "3a8e047fedbd4cf2a1ab43c3e83b1b64",
       "version_major": 2,
       "version_minor": 0
      },
      "text/plain": [
       "HBox(children=(FloatProgress(value=0.0, max=147.0), HTML(value='')))"
      ]
     },
     "metadata": {},
     "output_type": "display_data"
    },
    {
     "name": "stdout",
     "output_type": "stream",
     "text": [
      "training set mse = 0.030765836408331908, test set mse = 0.03094357314371478     \n",
      "{'alpha': 25, 'iters': 186, 'num_factors': 20, 'reg': 78}                       \n",
      " 72%|███████▏  | 18/25 [21:00<10:38, 91.22s/it, best loss: 0.030056051387375996]"
     ]
    },
    {
     "data": {
      "application/vnd.jupyter.widget-view+json": {
       "model_id": "f5de0a9d187f429898a5d8a1d8f57f6c",
       "version_major": 2,
       "version_minor": 0
      },
      "text/plain": [
       "HBox(children=(FloatProgress(value=0.0, max=186.0), HTML(value='')))"
      ]
     },
     "metadata": {},
     "output_type": "display_data"
    },
    {
     "name": "stdout",
     "output_type": "stream",
     "text": [
      "training set mse = 0.03129059246572932, test set mse = 0.03132309546179015      \n",
      "{'alpha': 10, 'iters': 299, 'num_factors': 30, 'reg': 20}                       \n",
      " 76%|███████▌  | 19/25 [22:14<08:36, 86.00s/it, best loss: 0.030056051387375996]"
     ]
    },
    {
     "data": {
      "application/vnd.jupyter.widget-view+json": {
       "model_id": "9750a1634ff74b6db5c9d5ad5979acd3",
       "version_major": 2,
       "version_minor": 0
      },
      "text/plain": [
       "HBox(children=(FloatProgress(value=0.0, max=299.0), HTML(value='')))"
      ]
     },
     "metadata": {},
     "output_type": "display_data"
    },
    {
     "name": "stdout",
     "output_type": "stream",
     "text": [
      "training set mse = 0.03227251771801323, test set mse = 0.0323647603832219       \n",
      "{'alpha': 20, 'iters': 348, 'num_factors': 5, 'reg': 86}                         \n",
      " 80%|████████  | 20/25 [26:32<11:28, 137.76s/it, best loss: 0.030056051387375996]"
     ]
    },
    {
     "data": {
      "application/vnd.jupyter.widget-view+json": {
       "model_id": "d3851f2aa0fc40b393040c3ee20359b2",
       "version_major": 2,
       "version_minor": 0
      },
      "text/plain": [
       "HBox(children=(FloatProgress(value=0.0, max=348.0), HTML(value='')))"
      ]
     },
     "metadata": {},
     "output_type": "display_data"
    },
    {
     "name": "stdout",
     "output_type": "stream",
     "text": [
      "training set mse = 0.029939793742093605, test set mse = 0.030007134515463236     \n",
      "{'alpha': 15, 'iters': 98, 'num_factors': 5, 'reg': 26}                          \n",
      " 84%|████████▍ | 21/25 [30:18<10:56, 164.15s/it, best loss: 0.030007134515463236]"
     ]
    },
    {
     "data": {
      "application/vnd.jupyter.widget-view+json": {
       "model_id": "ccef0a36079a45afab7b10051917a6f3",
       "version_major": 2,
       "version_minor": 0
      },
      "text/plain": [
       "HBox(children=(FloatProgress(value=0.0, max=98.0), HTML(value='')))"
      ]
     },
     "metadata": {},
     "output_type": "display_data"
    },
    {
     "name": "stdout",
     "output_type": "stream",
     "text": [
      "training set mse = 0.03122541007308949, test set mse = 0.031271620737115195      \n",
      "{'alpha': 40, 'iters': 348, 'num_factors': 10, 'reg': 86}                        \n",
      " 88%|████████▊ | 22/25 [31:36<06:54, 138.19s/it, best loss: 0.030007134515463236]"
     ]
    },
    {
     "data": {
      "application/vnd.jupyter.widget-view+json": {
       "model_id": "97f8b82a586d46a0a825863d168678f1",
       "version_major": 2,
       "version_minor": 0
      },
      "text/plain": [
       "HBox(children=(FloatProgress(value=0.0, max=348.0), HTML(value='')))"
      ]
     },
     "metadata": {},
     "output_type": "display_data"
    },
    {
     "name": "stdout",
     "output_type": "stream",
     "text": [
      "training set mse = 0.036117818252389966, test set mse = 0.03593881339281419      \n",
      "{'alpha': 20, 'iters': 216, 'num_factors': 5, 'reg': 89}                         \n",
      " 92%|█████████▏| 23/25 [35:57<05:49, 175.00s/it, best loss: 0.030007134515463236]"
     ]
    },
    {
     "data": {
      "application/vnd.jupyter.widget-view+json": {
       "model_id": "50187b1dbbc4495babaf13e2f487b56b",
       "version_major": 2,
       "version_minor": 0
      },
      "text/plain": [
       "HBox(children=(FloatProgress(value=0.0, max=216.0), HTML(value='')))"
      ]
     },
     "metadata": {},
     "output_type": "display_data"
    },
    {
     "name": "stdout",
     "output_type": "stream",
     "text": [
      "training set mse = 0.02988781664555609, test set mse = 0.029941378552026         \n",
      "{'alpha': 20, 'iters': 162, 'num_factors': 25, 'reg': 32}                        \n",
      " 96%|█████████▌| 24/25 [37:17<02:26, 146.65s/it, best loss: 0.029941378552026]"
     ]
    },
    {
     "data": {
      "application/vnd.jupyter.widget-view+json": {
       "model_id": "b6af781dc71146f39c298ffd246bfe4a",
       "version_major": 2,
       "version_minor": 0
      },
      "text/plain": [
       "HBox(children=(FloatProgress(value=0.0, max=162.0), HTML(value='')))"
      ]
     },
     "metadata": {},
     "output_type": "display_data"
    },
    {
     "name": "stdout",
     "output_type": "stream",
     "text": [
      "training set mse = 0.03422498366092371, test set mse = 0.03435527210062166    \n",
      "100%|██████████| 25/25 [41:01<00:00, 98.45s/it, best loss: 0.029941378552026] \n"
     ]
    }
   ],
   "source": [
    "best = als_model.tune_params(\n",
    "    search_space=space,\n",
    "    out_file=\"./results/als_trials.csv\",\n",
    "    max_evals=25,\n",
    "    train_df=train_df_mapped,\n",
    "    test_df=test_df_mapped,\n",
    ")"
   ]
  },
  {
   "cell_type": "code",
   "execution_count": 24,
   "metadata": {},
   "outputs": [
    {
     "data": {
      "text/html": [
       "<div>\n",
       "<style scoped>\n",
       "    .dataframe tbody tr th:only-of-type {\n",
       "        vertical-align: middle;\n",
       "    }\n",
       "\n",
       "    .dataframe tbody tr th {\n",
       "        vertical-align: top;\n",
       "    }\n",
       "\n",
       "    .dataframe thead th {\n",
       "        text-align: right;\n",
       "    }\n",
       "</style>\n",
       "<table border=\"1\" class=\"dataframe\">\n",
       "  <thead>\n",
       "    <tr style=\"text-align: right;\">\n",
       "      <th></th>\n",
       "      <th>loss</th>\n",
       "      <th>params</th>\n",
       "      <th>iteration</th>\n",
       "      <th>train_time</th>\n",
       "      <th>status</th>\n",
       "    </tr>\n",
       "  </thead>\n",
       "  <tbody>\n",
       "    <tr>\n",
       "      <th>0</th>\n",
       "      <td>0.029941</td>\n",
       "      <td>{'alpha': 20, 'iters': 216, 'num_factors': 5, ...</td>\n",
       "      <td>24</td>\n",
       "      <td>80.474574</td>\n",
       "      <td>ok</td>\n",
       "    </tr>\n",
       "    <tr>\n",
       "      <th>1</th>\n",
       "      <td>0.030007</td>\n",
       "      <td>{'alpha': 20, 'iters': 348, 'num_factors': 5, ...</td>\n",
       "      <td>21</td>\n",
       "      <td>225.673626</td>\n",
       "      <td>ok</td>\n",
       "    </tr>\n",
       "    <tr>\n",
       "      <th>2</th>\n",
       "      <td>0.030056</td>\n",
       "      <td>{'alpha': 15, 'iters': 266, 'num_factors': 5, ...</td>\n",
       "      <td>15</td>\n",
       "      <td>64.639748</td>\n",
       "      <td>ok</td>\n",
       "    </tr>\n",
       "    <tr>\n",
       "      <th>3</th>\n",
       "      <td>0.030090</td>\n",
       "      <td>{'alpha': 20, 'iters': 402, 'num_factors': 5, ...</td>\n",
       "      <td>11</td>\n",
       "      <td>79.623829</td>\n",
       "      <td>ok</td>\n",
       "    </tr>\n",
       "    <tr>\n",
       "      <th>4</th>\n",
       "      <td>0.030102</td>\n",
       "      <td>{'alpha': 15, 'iters': 71, 'num_factors': 15, ...</td>\n",
       "      <td>6</td>\n",
       "      <td>45.508858</td>\n",
       "      <td>ok</td>\n",
       "    </tr>\n",
       "  </tbody>\n",
       "</table>\n",
       "</div>"
      ],
      "text/plain": [
       "       loss                                             params  iteration  \\\n",
       "0  0.029941  {'alpha': 20, 'iters': 216, 'num_factors': 5, ...         24   \n",
       "1  0.030007  {'alpha': 20, 'iters': 348, 'num_factors': 5, ...         21   \n",
       "2  0.030056  {'alpha': 15, 'iters': 266, 'num_factors': 5, ...         15   \n",
       "3  0.030090  {'alpha': 20, 'iters': 402, 'num_factors': 5, ...         11   \n",
       "4  0.030102  {'alpha': 15, 'iters': 71, 'num_factors': 15, ...          6   \n",
       "\n",
       "   train_time status  \n",
       "0   80.474574     ok  \n",
       "1  225.673626     ok  \n",
       "2   64.639748     ok  \n",
       "3   79.623829     ok  \n",
       "4   45.508858     ok  "
      ]
     },
     "execution_count": 24,
     "metadata": {},
     "output_type": "execute_result"
    }
   ],
   "source": [
    "results = pd.read_csv(\"./results/als_trials.csv\")\n",
    "\n",
    "# Sort with best scores on top and reset index for slicing\n",
    "results.sort_values(\"loss\", ascending=True, inplace=True)\n",
    "results.reset_index(inplace=True, drop=True)\n",
    "results.head()"
   ]
  },
  {
   "cell_type": "code",
   "execution_count": 25,
   "metadata": {},
   "outputs": [
    {
     "data": {
      "text/plain": [
       "{'alpha': 20, 'iters': 216, 'num_factors': 5, 'reg': 89}"
      ]
     },
     "execution_count": 25,
     "metadata": {},
     "output_type": "execute_result"
    }
   ],
   "source": [
    "best_params = ast.literal_eval(results.loc[0, \"params\"]).copy()\n",
    "best_params"
   ]
  },
  {
   "cell_type": "markdown",
   "metadata": {},
   "source": [
    "### Visualize the hyperparameter search"
   ]
  },
  {
   "cell_type": "code",
   "execution_count": 26,
   "metadata": {},
   "outputs": [
    {
     "data": {
      "text/html": [
       "<div>\n",
       "<style scoped>\n",
       "    .dataframe tbody tr th:only-of-type {\n",
       "        vertical-align: middle;\n",
       "    }\n",
       "\n",
       "    .dataframe tbody tr th {\n",
       "        vertical-align: top;\n",
       "    }\n",
       "\n",
       "    .dataframe thead th {\n",
       "        text-align: right;\n",
       "    }\n",
       "</style>\n",
       "<table border=\"1\" class=\"dataframe\">\n",
       "  <thead>\n",
       "    <tr style=\"text-align: right;\">\n",
       "      <th></th>\n",
       "      <th>alpha</th>\n",
       "      <th>iters</th>\n",
       "      <th>num_factors</th>\n",
       "      <th>reg</th>\n",
       "      <th>loss</th>\n",
       "      <th>iteration</th>\n",
       "    </tr>\n",
       "  </thead>\n",
       "  <tbody>\n",
       "    <tr>\n",
       "      <th>0</th>\n",
       "      <td>20</td>\n",
       "      <td>216</td>\n",
       "      <td>5</td>\n",
       "      <td>89</td>\n",
       "      <td>0.029941</td>\n",
       "      <td>24</td>\n",
       "    </tr>\n",
       "    <tr>\n",
       "      <th>1</th>\n",
       "      <td>20</td>\n",
       "      <td>348</td>\n",
       "      <td>5</td>\n",
       "      <td>86</td>\n",
       "      <td>0.030007</td>\n",
       "      <td>21</td>\n",
       "    </tr>\n",
       "    <tr>\n",
       "      <th>2</th>\n",
       "      <td>15</td>\n",
       "      <td>266</td>\n",
       "      <td>5</td>\n",
       "      <td>86</td>\n",
       "      <td>0.030056</td>\n",
       "      <td>15</td>\n",
       "    </tr>\n",
       "    <tr>\n",
       "      <th>3</th>\n",
       "      <td>20</td>\n",
       "      <td>402</td>\n",
       "      <td>5</td>\n",
       "      <td>81</td>\n",
       "      <td>0.030090</td>\n",
       "      <td>11</td>\n",
       "    </tr>\n",
       "    <tr>\n",
       "      <th>4</th>\n",
       "      <td>15</td>\n",
       "      <td>71</td>\n",
       "      <td>15</td>\n",
       "      <td>71</td>\n",
       "      <td>0.030102</td>\n",
       "      <td>6</td>\n",
       "    </tr>\n",
       "  </tbody>\n",
       "</table>\n",
       "</div>"
      ],
      "text/plain": [
       "   alpha  iters  num_factors  reg      loss  iteration\n",
       "0     20    216            5   89  0.029941         24\n",
       "1     20    348            5   86  0.030007         21\n",
       "2     15    266            5   86  0.030056         15\n",
       "3     20    402            5   81  0.030090         11\n",
       "4     15     71           15   71  0.030102          6"
      ]
     },
     "execution_count": 26,
     "metadata": {},
     "output_type": "execute_result"
    }
   ],
   "source": [
    "bayes_params = pd.DataFrame(\n",
    "    columns=list(ast.literal_eval(results.loc[0, \"params\"]).keys()),\n",
    "    index=list(range(len(results))),\n",
    ")\n",
    "\n",
    "# Add the results with each parameter a different column\n",
    "for i, params in enumerate(results[\"params\"]):\n",
    "    bayes_params.loc[i, :] = list(ast.literal_eval(params).values())\n",
    "\n",
    "bayes_params[\"loss\"] = results[\"loss\"]\n",
    "bayes_params[\"iteration\"] = results[\"iteration\"]\n",
    "\n",
    "bayes_params.head()"
   ]
  },
  {
   "cell_type": "code",
   "execution_count": 27,
   "metadata": {},
   "outputs": [
    {
     "data": {
      "text/plain": [
       "Text(0.5, 1.0, 'Regularization Parameter Search Distribution')"
      ]
     },
     "execution_count": 27,
     "metadata": {},
     "output_type": "execute_result"
    },
    {
     "data": {
      "image/png": "[encoded data removed]",
      "text/plain": [
       "<Figure size 1440x576 with 1 Axes>"
      ]
     },
     "metadata": {},
     "output_type": "display_data"
    }
   ],
   "source": [
    "plt.figure(figsize=(20, 8))\n",
    "plt.rcParams[\"font.size\"] = 18\n",
    "\n",
    "# Density plots of the learning rate distributions\n",
    "sns.kdeplot(bayes_params[\"reg\"], label=\"Bayes Optimization\", linewidth=2)\n",
    "plt.xlabel(\"Regularization Parameter\")\n",
    "plt.ylabel(\"Density\")\n",
    "plt.title(\"Regularization Parameter Search Distribution\")"
   ]
  },
  {
   "cell_type": "code",
   "execution_count": 28,
   "metadata": {},
   "outputs": [
    {
     "data": {
      "text/plain": [
       "Text(0.5, 1.0, 'Regularization Parameter Search Distribution')"
      ]
     },
     "execution_count": 28,
     "metadata": {},
     "output_type": "execute_result"
    },
    {
     "data": {
      "image/png": "[encoded data removed]",
      "text/plain": [
       "<Figure size 1440x576 with 1 Axes>"
      ]
     },
     "metadata": {},
     "output_type": "display_data"
    }
   ],
   "source": [
    "plt.figure(figsize=(20, 8))\n",
    "plt.rcParams[\"font.size\"] = 18\n",
    "\n",
    "sns.kdeplot(bayes_params[\"iters\"], label=\"Bayes Optimization\", linewidth=2)\n",
    "plt.xlabel(\"Regularization Parameter\")\n",
    "plt.ylabel(\"Density\")\n",
    "plt.title(\"Regularization Parameter Search Distribution\")"
   ]
  },
  {
   "cell_type": "code",
   "execution_count": 29,
   "metadata": {},
   "outputs": [
    {
     "data": {
      "text/plain": [
       "<matplotlib.axes._subplots.AxesSubplot at 0x7ff0d4f72940>"
      ]
     },
     "execution_count": 29,
     "metadata": {},
     "output_type": "execute_result"
    },
    {
     "data": {
      "image/png": "[encoded data removed]",
      "text/plain": [
       "<Figure size 1008x432 with 1 Axes>"
      ]
     },
     "metadata": {},
     "output_type": "display_data"
    }
   ],
   "source": [
    "bayes_params[\"num_factors\"].value_counts().plot.bar(\n",
    "    figsize=(14, 6), color=\"blue\", title=\"Bayes Optimization Number Factors\"\n",
    ")"
   ]
  },
  {
   "cell_type": "code",
   "execution_count": 30,
   "metadata": {},
   "outputs": [
    {
     "data": {
      "text/plain": [
       "<matplotlib.axes._subplots.AxesSubplot at 0x7ff0d4e0ba20>"
      ]
     },
     "execution_count": 30,
     "metadata": {},
     "output_type": "execute_result"
    },
    {
     "data": {
      "image/png": "[encoded data removed]",
      "text/plain": [
       "<Figure size 1008x432 with 1 Axes>"
      ]
     },
     "metadata": {},
     "output_type": "display_data"
    }
   ],
   "source": [
    "bayes_params[\"alpha\"].value_counts().plot.bar(\n",
    "    figsize=(14, 6), color=\"blue\", title=\"Bayes Optimization Alpha\"\n",
    ")"
   ]
  },
  {
   "cell_type": "code",
   "execution_count": 31,
   "metadata": {},
   "outputs": [
    {
     "data": {
      "image/png": "[encoded data removed]",
      "text/plain": [
       "<Figure size 1728x432 with 4 Axes>"
      ]
     },
     "metadata": {},
     "output_type": "display_data"
    }
   ],
   "source": [
    "fig, axs = plt.subplots(1, 4, figsize=(24, 6))\n",
    "i = 0\n",
    "\n",
    "# Plot of four hyperparameters\n",
    "for i, hyper in enumerate([\"reg\", \"iters\", \"alpha\", \"num_factors\"]):\n",
    "    # Scatterplot\n",
    "    sns.regplot(\"iteration\", hyper, data=bayes_params, ax=axs[i])\n",
    "    axs[i].set(\n",
    "        xlabel=\"Iteration\",\n",
    "        ylabel=\"{}\".format(hyper),\n",
    "        title=\"{} over Search\".format(hyper),\n",
    "    )\n",
    "\n",
    "plt.tight_layout()"
   ]
  },
  {
   "cell_type": "code",
   "execution_count": 32,
   "metadata": {},
   "outputs": [
    {
     "data": {
      "image/png": "[encoded data removed]",
      "text/plain": [
       "<Figure size 432x288 with 1 Axes>"
      ]
     },
     "metadata": {},
     "output_type": "display_data"
    }
   ],
   "source": [
    "plt.hist(bayes_params[\"loss\"], label=\"Bayes Optimization\", edgecolor=\"k\")\n",
    "plt.xlabel(\"Test Set MSE\")\n",
    "plt.ylabel(\"Count\")\n",
    "plt.title(\"Bayes Optimization MSE\")"
   ]
  },
  {
   "cell_type": "code",
   "execution_count": 33,
   "metadata": {},
   "outputs": [
    {
     "data": {
      "image/png": "[encoded data removed]",
      "text/plain": [
       "<Figure size 576x576 with 1 Axes>"
      ]
     },
     "metadata": {},
     "output_type": "display_data"
    }
   ],
   "source": [
    "# Plot of scores over the course of searching\n",
    "sns.lmplot(\"iteration\", \"loss\", data=bayes_params, size=8)\n",
    "plt.xlabel(\"Iteration\")\n",
    "plt.ylabel(\"Test Set MSE\")\n",
    "plt.title(\"Test Set MSE versus Iteration\")"
   ]
  },
  {
   "cell_type": "code",
   "execution_count": 34,
   "metadata": {},
   "outputs": [],
   "source": [
    "# Save dataframes of parameters\n",
    "bayes_params.to_csv(\"./results/bayes_params.csv\", index=False)"
   ]
  },
  {
   "cell_type": "markdown",
   "metadata": {},
   "source": [
    "### Fit the ALS model with tuned parameters\n",
    "\n",
    "Fit the ALS model and return the user and item vectors"
   ]
  },
  {
   "cell_type": "code",
   "execution_count": 35,
   "metadata": {},
   "outputs": [
    {
     "data": {
      "application/vnd.jupyter.widget-view+json": {
       "model_id": "fbb91a3b1c4b422abd93131f4881f3d2",
       "version_major": 2,
       "version_minor": 0
      },
      "text/plain": [
       "HBox(children=(FloatProgress(value=0.0, max=216.0), HTML(value='')))"
      ]
     },
     "metadata": {},
     "output_type": "display_data"
    },
    {
     "name": "stdout",
     "output_type": "stream",
     "text": [
      "\n"
     ]
    }
   ],
   "source": [
    "best_model, user_vecs, item_vecs = als_model.fit_als(\n",
    "    alpha=best_params[\"alpha\"],\n",
    "    num_factors=best_params[\"num_factors\"],\n",
    "    reg=best_params[\"reg\"],\n",
    "    iters=best_params[\"iters\"],\n",
    ")"
   ]
  },
  {
   "cell_type": "markdown",
   "metadata": {},
   "source": [
    "### Get the MSE on the training and test sets"
   ]
  },
  {
   "cell_type": "code",
   "execution_count": 36,
   "metadata": {},
   "outputs": [
    {
     "name": "stdout",
     "output_type": "stream",
     "text": [
      "training set mse = 0.029884296775636306, test set mse = 0.02995744139881301\n"
     ]
    }
   ],
   "source": [
    "training_mse, test_set_mse = als_model.get_mse(\n",
    "    user_vecs, item_vecs, train_df_mapped, test_df_mapped\n",
    ")"
   ]
  },
  {
   "cell_type": "markdown",
   "metadata": {},
   "source": [
    "### Convert user and item vectors to DataFrame and map to CUST_CODE and PROD_CODE"
   ]
  },
  {
   "cell_type": "code",
   "execution_count": 37,
   "metadata": {},
   "outputs": [],
   "source": [
    "user_factors, item_factors = als_model.get_user_item_factors(\n",
    "    user_vecs, item_vecs, train_df_mapped, train_items_mapping, train_cust_mapping\n",
    ")"
   ]
  },
  {
   "cell_type": "code",
   "execution_count": 38,
   "metadata": {},
   "outputs": [
    {
     "data": {
      "text/html": [
       "<div>\n",
       "<style scoped>\n",
       "    .dataframe tbody tr th:only-of-type {\n",
       "        vertical-align: middle;\n",
       "    }\n",
       "\n",
       "    .dataframe tbody tr th {\n",
       "        vertical-align: top;\n",
       "    }\n",
       "\n",
       "    .dataframe thead th {\n",
       "        text-align: right;\n",
       "    }\n",
       "</style>\n",
       "<table border=\"1\" class=\"dataframe\">\n",
       "  <thead>\n",
       "    <tr style=\"text-align: right;\">\n",
       "      <th></th>\n",
       "      <th>factor_0</th>\n",
       "      <th>factor_1</th>\n",
       "      <th>factor_2</th>\n",
       "      <th>factor_3</th>\n",
       "      <th>factor_4</th>\n",
       "      <th>CUST_CODE</th>\n",
       "    </tr>\n",
       "  </thead>\n",
       "  <tbody>\n",
       "    <tr>\n",
       "      <th>0</th>\n",
       "      <td>0.015998</td>\n",
       "      <td>0.004285</td>\n",
       "      <td>0.011275</td>\n",
       "      <td>0.010576</td>\n",
       "      <td>0.012515</td>\n",
       "      <td>CUST0000000013</td>\n",
       "    </tr>\n",
       "    <tr>\n",
       "      <th>1</th>\n",
       "      <td>0.089028</td>\n",
       "      <td>-0.106359</td>\n",
       "      <td>0.148901</td>\n",
       "      <td>0.109556</td>\n",
       "      <td>0.100083</td>\n",
       "      <td>CUST0000000055</td>\n",
       "    </tr>\n",
       "    <tr>\n",
       "      <th>2</th>\n",
       "      <td>0.004424</td>\n",
       "      <td>0.016657</td>\n",
       "      <td>0.019211</td>\n",
       "      <td>-0.000916</td>\n",
       "      <td>-0.000720</td>\n",
       "      <td>CUST0000000679</td>\n",
       "    </tr>\n",
       "    <tr>\n",
       "      <th>3</th>\n",
       "      <td>0.006272</td>\n",
       "      <td>0.006118</td>\n",
       "      <td>0.008476</td>\n",
       "      <td>0.003916</td>\n",
       "      <td>-0.004483</td>\n",
       "      <td>CUST0000001052</td>\n",
       "    </tr>\n",
       "    <tr>\n",
       "      <th>4</th>\n",
       "      <td>0.005155</td>\n",
       "      <td>-0.000453</td>\n",
       "      <td>0.008740</td>\n",
       "      <td>0.012690</td>\n",
       "      <td>0.010410</td>\n",
       "      <td>CUST0000001058</td>\n",
       "    </tr>\n",
       "  </tbody>\n",
       "</table>\n",
       "</div>"
      ],
      "text/plain": [
       "   factor_0  factor_1  factor_2  factor_3  factor_4       CUST_CODE\n",
       "0  0.015998  0.004285  0.011275  0.010576  0.012515  CUST0000000013\n",
       "1  0.089028 -0.106359  0.148901  0.109556  0.100083  CUST0000000055\n",
       "2  0.004424  0.016657  0.019211 -0.000916 -0.000720  CUST0000000679\n",
       "3  0.006272  0.006118  0.008476  0.003916 -0.004483  CUST0000001052\n",
       "4  0.005155 -0.000453  0.008740  0.012690  0.010410  CUST0000001058"
      ]
     },
     "execution_count": 38,
     "metadata": {},
     "output_type": "execute_result"
    }
   ],
   "source": [
    "user_factors.head()"
   ]
  },
  {
   "cell_type": "code",
   "execution_count": 39,
   "metadata": {},
   "outputs": [
    {
     "data": {
      "text/html": [
       "<div>\n",
       "<style scoped>\n",
       "    .dataframe tbody tr th:only-of-type {\n",
       "        vertical-align: middle;\n",
       "    }\n",
       "\n",
       "    .dataframe tbody tr th {\n",
       "        vertical-align: top;\n",
       "    }\n",
       "\n",
       "    .dataframe thead th {\n",
       "        text-align: right;\n",
       "    }\n",
       "</style>\n",
       "<table border=\"1\" class=\"dataframe\">\n",
       "  <thead>\n",
       "    <tr style=\"text-align: right;\">\n",
       "      <th></th>\n",
       "      <th>factor_0</th>\n",
       "      <th>factor_1</th>\n",
       "      <th>factor_2</th>\n",
       "      <th>factor_3</th>\n",
       "      <th>factor_4</th>\n",
       "      <th>PROD_CODE</th>\n",
       "    </tr>\n",
       "  </thead>\n",
       "  <tbody>\n",
       "    <tr>\n",
       "      <th>0</th>\n",
       "      <td>0.326456</td>\n",
       "      <td>0.230012</td>\n",
       "      <td>0.486178</td>\n",
       "      <td>0.353130</td>\n",
       "      <td>0.103477</td>\n",
       "      <td>PRD0900121</td>\n",
       "    </tr>\n",
       "    <tr>\n",
       "      <th>1</th>\n",
       "      <td>0.040455</td>\n",
       "      <td>0.057082</td>\n",
       "      <td>0.058655</td>\n",
       "      <td>0.145091</td>\n",
       "      <td>0.126039</td>\n",
       "      <td>PRD0900161</td>\n",
       "    </tr>\n",
       "    <tr>\n",
       "      <th>2</th>\n",
       "      <td>0.043378</td>\n",
       "      <td>0.100436</td>\n",
       "      <td>0.035514</td>\n",
       "      <td>0.028367</td>\n",
       "      <td>-0.012243</td>\n",
       "      <td>PRD0900234</td>\n",
       "    </tr>\n",
       "    <tr>\n",
       "      <th>3</th>\n",
       "      <td>0.020408</td>\n",
       "      <td>0.038742</td>\n",
       "      <td>0.001891</td>\n",
       "      <td>0.023434</td>\n",
       "      <td>0.020836</td>\n",
       "      <td>PRD0900330</td>\n",
       "    </tr>\n",
       "    <tr>\n",
       "      <th>4</th>\n",
       "      <td>0.197696</td>\n",
       "      <td>-0.116625</td>\n",
       "      <td>0.222180</td>\n",
       "      <td>0.081353</td>\n",
       "      <td>0.117213</td>\n",
       "      <td>PRD0900434</td>\n",
       "    </tr>\n",
       "  </tbody>\n",
       "</table>\n",
       "</div>"
      ],
      "text/plain": [
       "   factor_0  factor_1  factor_2  factor_3  factor_4   PROD_CODE\n",
       "0  0.326456  0.230012  0.486178  0.353130  0.103477  PRD0900121\n",
       "1  0.040455  0.057082  0.058655  0.145091  0.126039  PRD0900161\n",
       "2  0.043378  0.100436  0.035514  0.028367 -0.012243  PRD0900234\n",
       "3  0.020408  0.038742  0.001891  0.023434  0.020836  PRD0900330\n",
       "4  0.197696 -0.116625  0.222180  0.081353  0.117213  PRD0900434"
      ]
     },
     "execution_count": 39,
     "metadata": {},
     "output_type": "execute_result"
    }
   ],
   "source": [
    "item_factors.head()"
   ]
  },
  {
   "cell_type": "code",
   "execution_count": 40,
   "metadata": {},
   "outputs": [],
   "source": [
    "# Upload user and item factors to s3\n",
    "\n",
    "item_factors.to_csv(\"./results/item_factors.csv\", index=False)\n",
    "key = \"item_factors.csv\"  # filepath in s3\n",
    "s3.Bucket(bucket).Object(key).upload_file(\"./results/item_factors.csv\")\n",
    "\n",
    "user_factors.to_csv(\"./results/user_factors.csv\", index=False)\n",
    "key = \"user_factors.csv\"  # filepath in s3\n",
    "s3.Bucket(bucket).Object(key).upload_file(\"./results/user_factors.csv\")"
   ]
  },
  {
   "cell_type": "markdown",
   "metadata": {},
   "source": [
    "### Create DataFrame of predicitions"
   ]
  },
  {
   "cell_type": "code",
   "execution_count": 41,
   "metadata": {},
   "outputs": [
    {
     "data": {
      "text/html": [
       "<div>\n",
       "<style scoped>\n",
       "    .dataframe tbody tr th:only-of-type {\n",
       "        vertical-align: middle;\n",
       "    }\n",
       "\n",
       "    .dataframe tbody tr th {\n",
       "        vertical-align: top;\n",
       "    }\n",
       "\n",
       "    .dataframe thead th {\n",
       "        text-align: right;\n",
       "    }\n",
       "</style>\n",
       "<table border=\"1\" class=\"dataframe\">\n",
       "  <thead>\n",
       "    <tr style=\"text-align: right;\">\n",
       "      <th></th>\n",
       "      <th>PRED_QUANTITY</th>\n",
       "      <th>pred_rank</th>\n",
       "      <th>CUST_CODE</th>\n",
       "      <th>PROD_CODE</th>\n",
       "    </tr>\n",
       "  </thead>\n",
       "  <tbody>\n",
       "    <tr>\n",
       "      <th>0</th>\n",
       "      <td>0.016720</td>\n",
       "      <td>41.0</td>\n",
       "      <td>CUST0000000013</td>\n",
       "      <td>PRD0900121</td>\n",
       "    </tr>\n",
       "    <tr>\n",
       "      <th>1</th>\n",
       "      <td>0.126036</td>\n",
       "      <td>40.0</td>\n",
       "      <td>CUST0000000055</td>\n",
       "      <td>PRD0900121</td>\n",
       "    </tr>\n",
       "    <tr>\n",
       "      <th>2</th>\n",
       "      <td>0.014217</td>\n",
       "      <td>31.0</td>\n",
       "      <td>CUST0000000679</td>\n",
       "      <td>PRD0900121</td>\n",
       "    </tr>\n",
       "    <tr>\n",
       "      <th>3</th>\n",
       "      <td>0.008495</td>\n",
       "      <td>22.0</td>\n",
       "      <td>CUST0000001052</td>\n",
       "      <td>PRD0900121</td>\n",
       "    </tr>\n",
       "    <tr>\n",
       "      <th>4</th>\n",
       "      <td>0.011386</td>\n",
       "      <td>43.0</td>\n",
       "      <td>CUST0000001058</td>\n",
       "      <td>PRD0900121</td>\n",
       "    </tr>\n",
       "  </tbody>\n",
       "</table>\n",
       "</div>"
      ],
      "text/plain": [
       "   PRED_QUANTITY  pred_rank       CUST_CODE   PROD_CODE\n",
       "0       0.016720       41.0  CUST0000000013  PRD0900121\n",
       "1       0.126036       40.0  CUST0000000055  PRD0900121\n",
       "2       0.014217       31.0  CUST0000000679  PRD0900121\n",
       "3       0.008495       22.0  CUST0000001052  PRD0900121\n",
       "4       0.011386       43.0  CUST0000001058  PRD0900121"
      ]
     },
     "execution_count": 41,
     "metadata": {},
     "output_type": "execute_result"
    }
   ],
   "source": [
    "predictions = als_model.predict(user_vecs, item_vecs, train_df_mapped, 1000)\n",
    "predictions.head()"
   ]
  },
  {
   "cell_type": "code",
   "execution_count": 42,
   "metadata": {},
   "outputs": [],
   "source": [
    "# Upload the predictions file to s3\n",
    "predictions.to_csv(\"predictions.csv\")\n",
    "key = \"predictions.csv\"  # filepath in s3\n",
    "s3.Bucket(bucket).Object(key).upload_file(\"predictions.csv\")"
   ]
  }
 ],
 "metadata": {
  "kernelspec": {
   "display_name": "conda_tensorflow_p36",
   "language": "python",
   "name": "conda_tensorflow_p36"
  },
  "language_info": {
   "codemirror_mode": {
    "name": "ipython",
    "version": 3
   },
   "file_extension": ".py",
   "mimetype": "text/x-python",
   "name": "python",
   "nbconvert_exporter": "python",
   "pygments_lexer": "ipython3",
   "version": "3.6.6"
  }
 },
 "nbformat": 4,
 "nbformat_minor": 2
}
